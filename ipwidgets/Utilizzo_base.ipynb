{
 "cells": [
  {
   "cell_type": "markdown",
   "metadata": {},
   "source": [
    "# Creazione di un dropdown e di un multiselect"
   ]
  },
  {
   "cell_type": "code",
   "execution_count": 14,
   "metadata": {},
   "outputs": [],
   "source": [
    "# importa le librerie\n",
    "import pandas as pd\n",
    "\n",
    "col1 =['A1', 'A1', 'A2','A2','A1','A1' ]     \n",
    "col2= [ 'B', 'C' , 'D' ,'E' ,'F' ,'G' ]     \n",
    "tabella={'col1':col1,'col2':col2}\n",
    "\n",
    "df=pd.DataFrame(tabella)\n"
   ]
  },
  {
   "cell_type": "code",
   "execution_count": 15,
   "metadata": {},
   "outputs": [],
   "source": [
    "from ipywidgets import widgets,interact\n",
    "\n",
    "# Colonna 1 : dropdown , selezione singola\n",
    "selcol1=widgets.Dropdown(\n",
    "    options=['---']+list(df['col1'].unique()),\n",
    "    #rows=10,\n",
    "    description='Colonna 1',\n",
    "    disabled=False\n",
    ")\n",
    "\n",
    "# Colonna  : Scelta multipla\n",
    "selcol2 = widgets.SelectMultiple(\n",
    "    options=['---'] ,\n",
    "    description='Colonna 2:'\n",
    ")\n",
    "\n",
    "# Aggiorna selezione colonna 2 in base a scelta di colonna 1\n",
    "def update_col2(*args):\n",
    "    # Filtro in base a selezione 1\n",
    "    df2=df[df['col1']==selcol1.value]\n",
    "    # Valori unici di colonna 2\n",
    "    selcol2.options=df2['col2'].unique()\n",
    "    \n",
    "# Osservo le variazioni di selcol1 : quando cambia valore eseguo update_col2 \n",
    "selcol1.observe(update_col2,'value')\n",
    "\n",
    "def myselections( _selcol1,_selcol2):\n",
    "    \n",
    "    df3 = df.copy()\n",
    "    df3=df3[df3['col2'].isin(_selcol2)]\n",
    "    if len(df3) > 0:\n",
    "        display(df3)\n",
    "    else:\n",
    "        print(\"No data to show for current selection\")\n",
    "    \n",
    "    \n"
   ]
  },
  {
   "cell_type": "markdown",
   "metadata": {},
   "source": [
    "Modificando la selezione del primo dropdown, vengono aggiornati gli elementi del secondo widget( un multiselect)"
   ]
  },
  {
   "cell_type": "code",
   "execution_count": 16,
   "metadata": {},
   "outputs": [
    {
     "data": {
      "application/vnd.jupyter.widget-view+json": {
       "model_id": "4c2037d286734e81ba43983745867f15",
       "version_major": 2,
       "version_minor": 0
      },
      "text/plain": [
       "interactive(children=(Dropdown(description='Colonna 1', options=('---', 'A1', 'A2'), value='---'), SelectMulti…"
      ]
     },
     "metadata": {},
     "output_type": "display_data"
    },
    {
     "data": {
      "text/plain": [
       "<function __main__.myselections(_selcol1, _selcol2)>"
      ]
     },
     "execution_count": 16,
     "metadata": {},
     "output_type": "execute_result"
    }
   ],
   "source": [
    "interact(myselections, _selcol1=selcol1,_selcol2=selcol2)"
   ]
  },
  {
   "cell_type": "code",
   "execution_count": null,
   "metadata": {},
   "outputs": [],
   "source": []
  }
 ],
 "metadata": {
  "kernelspec": {
   "display_name": "Python 3",
   "language": "python",
   "name": "python3"
  },
  "language_info": {
   "codemirror_mode": {
    "name": "ipython",
    "version": 3
   },
   "file_extension": ".py",
   "mimetype": "text/x-python",
   "name": "python",
   "nbconvert_exporter": "python",
   "pygments_lexer": "ipython3",
   "version": "3.6.5"
  }
 },
 "nbformat": 4,
 "nbformat_minor": 2
}
