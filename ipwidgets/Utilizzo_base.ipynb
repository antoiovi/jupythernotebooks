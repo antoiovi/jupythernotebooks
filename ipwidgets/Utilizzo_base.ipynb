{
 "cells": [
  {
   "cell_type": "markdown",
   "metadata": {},
   "source": [
    "# Creazione di un dropdown e di un multiselect"
   ]
  },
  {
   "cell_type": "code",
   "execution_count": 1,
   "metadata": {},
   "outputs": [],
   "source": [
    "# importa le librerie\n",
    "import pandas as pd\n",
    "\n",
    "col1 =['A1', 'A1', 'A2','A2','A1','A1' ]     \n",
    "col2= [ 'B', 'C' , 'D' ,'E' ,'F' ,'G' ]     \n",
    "tabella={'col1':col1,'col2':col2}\n",
    "\n",
    "df=pd.DataFrame(tabella)\n"
   ]
  },
  {
   "cell_type": "code",
   "execution_count": 2,
   "metadata": {},
   "outputs": [],
   "source": [
    "from ipywidgets import widgets,interact\n",
    "\n",
    "# Colonna 1 : dropdown , selezione singola\n",
    "selcol1=widgets.Dropdown(\n",
    "    options=['---']+list(df['col1'].unique()),\n",
    "    #rows=10,\n",
    "    description='Colonna 1',\n",
    "    disabled=False\n",
    ")\n",
    "\n",
    "# Colonna  : Scelta multipla\n",
    "selcol2 = widgets.SelectMultiple(\n",
    "    options=['---'] ,\n",
    "    description='Colonna 2:'\n",
    ")\n",
    "\n",
    "# Aggiorna selezione colonna 2 in base a scelta di colonna 1\n",
    "def update_col2(*args):\n",
    "    # Filtro in base a selezione 1\n",
    "    df2=df[df['col1']==selcol1.value]\n",
    "    # Valori unici di colonna 2\n",
    "    selcol2.options=df2['col2'].unique()\n",
    "    \n",
    "# Osservo le variazioni di selcol1 : quando cambia valore eseguo update_col2 \n",
    "selcol1.observe(update_col2,'value')\n",
    "\n",
    "def myselections( _selcol1,_selcol2):\n",
    "    \n",
    "    df3 = df.copy()\n",
    "    df3=df3[df3['col2'].isin(_selcol2)]\n",
    "    if len(df3) > 0:\n",
    "        display(df3)\n",
    "    else:\n",
    "        print(\"No data to show for current selection\")\n",
    "    \n",
    "    \n"
   ]
  },
  {
   "cell_type": "markdown",
   "metadata": {},
   "source": [
    "Modificando la selezione del primo dropdown, vengono aggiornati gli elementi del secondo widget( un multiselect)"
   ]
  },
  {
   "cell_type": "code",
   "execution_count": 3,
   "metadata": {},
   "outputs": [
    {
     "data": {
      "application/vnd.jupyter.widget-view+json": {
       "model_id": "f502215b31e143c8be17dcd9e771d2e2",
       "version_major": 2,
       "version_minor": 0
      },
      "text/plain": [
       "interactive(children=(Dropdown(description='Colonna 1', options=('---', 'A1', 'A2'), value='---'), SelectMulti…"
      ]
     },
     "metadata": {},
     "output_type": "display_data"
    },
    {
     "data": {
      "text/plain": [
       "<function __main__.myselections(_selcol1, _selcol2)>"
      ]
     },
     "execution_count": 3,
     "metadata": {},
     "output_type": "execute_result"
    }
   ],
   "source": [
    "interact(myselections, _selcol1=selcol1,_selcol2=selcol2)"
   ]
  },
  {
   "cell_type": "markdown",
   "metadata": {},
   "source": [
    "# Caricamendo in un dropdown dell'elenco dei file di una dir"
   ]
  },
  {
   "cell_type": "code",
   "execution_count": 4,
   "metadata": {},
   "outputs": [],
   "source": [
    "import glob\n",
    "mypath=\"/home/antoiovi/Documenti/Dati\"\n",
    "files=glob.glob(mypath+\"*.csv\")\n",
    "files.sort()"
   ]
  },
  {
   "cell_type": "code",
   "execution_count": 5,
   "metadata": {},
   "outputs": [
    {
     "data": {
      "application/vnd.jupyter.widget-view+json": {
       "model_id": "822a0503924a460abd9372f06f6d6d66",
       "version_major": 2,
       "version_minor": 0
      },
      "text/plain": [
       "interactive(children=(Dropdown(description='Seleziona file', layout=Layout(width='auto'), options=('/home/anto…"
      ]
     },
     "metadata": {},
     "output_type": "display_data"
    },
    {
     "data": {
      "text/plain": [
       "<function __main__.selectfile(dropfile)>"
      ]
     },
     "execution_count": 5,
     "metadata": {},
     "output_type": "execute_result"
    }
   ],
   "source": [
    "from ipywidgets import widgets, interactive,interact,Layout\n",
    "\n",
    "fileSel=widgets.Text()\n",
    "# FILENAME\n",
    "dropfile=widgets.Dropdown(\n",
    "    \n",
    "    options=files,\n",
    "    description='Seleziona file',\n",
    "    disabled=False,\n",
    "    layout=Layout(width='auto')\n",
    ")\n",
    "def selectfile(dropfile):\n",
    "    s=dropfile\n",
    "    fileSel.value=str(dropfile)\n",
    "    \n",
    "selectfile(dropfile)\n",
    "interact(selectfile,dropfile=dropfile)\n",
    "    "
   ]
  },
  {
   "cell_type": "markdown",
   "metadata": {},
   "source": [
    " # Date PickUp\n",
    " Creazione di due DatePicker \n",
    " \n",
    " * DAL : data iniziale\n",
    " * Al  : data finale\n",
    " \n",
    " - Se la data iniziale è inferiore alla data iniziale , viene impostata uguale alla data del componente che è cambiato\n",
    " - Se la data finale è inferiore alla data iniziale , viene impostata uguale alla data del componente che è cambiato\n",
    " \n",
    " ### Creazione del DataFrame di esempio"
   ]
  },
  {
   "cell_type": "code",
   "execution_count": 164,
   "metadata": {},
   "outputs": [
    {
     "data": {
      "text/html": [
       "<div>\n",
       "<style scoped>\n",
       "    .dataframe tbody tr th:only-of-type {\n",
       "        vertical-align: middle;\n",
       "    }\n",
       "\n",
       "    .dataframe tbody tr th {\n",
       "        vertical-align: top;\n",
       "    }\n",
       "\n",
       "    .dataframe thead th {\n",
       "        text-align: right;\n",
       "    }\n",
       "</style>\n",
       "<table border=\"1\" class=\"dataframe\">\n",
       "  <thead>\n",
       "    <tr style=\"text-align: right;\">\n",
       "      <th></th>\n",
       "      <th>col1</th>\n",
       "      <th>col2</th>\n",
       "    </tr>\n",
       "    <tr>\n",
       "      <th>data</th>\n",
       "      <th></th>\n",
       "      <th></th>\n",
       "    </tr>\n",
       "  </thead>\n",
       "  <tbody>\n",
       "    <tr>\n",
       "      <th>2019-01-20</th>\n",
       "      <td>A</td>\n",
       "      <td>12</td>\n",
       "    </tr>\n",
       "    <tr>\n",
       "      <th>2019-01-20</th>\n",
       "      <td>B</td>\n",
       "      <td>15</td>\n",
       "    </tr>\n",
       "    <tr>\n",
       "      <th>2019-01-21</th>\n",
       "      <td>A</td>\n",
       "      <td>17</td>\n",
       "    </tr>\n",
       "    <tr>\n",
       "      <th>2019-01-21</th>\n",
       "      <td>B</td>\n",
       "      <td>12</td>\n",
       "    </tr>\n",
       "    <tr>\n",
       "      <th>2019-01-22</th>\n",
       "      <td>A</td>\n",
       "      <td>11</td>\n",
       "    </tr>\n",
       "    <tr>\n",
       "      <th>2019-01-22</th>\n",
       "      <td>B</td>\n",
       "      <td>19</td>\n",
       "    </tr>\n",
       "  </tbody>\n",
       "</table>\n",
       "</div>"
      ],
      "text/plain": [
       "           col1  col2\n",
       "data                 \n",
       "2019-01-20    A    12\n",
       "2019-01-20    B    15\n",
       "2019-01-21    A    17\n",
       "2019-01-21    B    12\n",
       "2019-01-22    A    11\n",
       "2019-01-22    B    19"
      ]
     },
     "metadata": {},
     "output_type": "display_data"
    }
   ],
   "source": [
    "import pandas as pd\n",
    "import numpy as np\n",
    "dates    =   ['20/01/2019',  '21/01/2019','22/01/2019' ]\n",
    "val_col1=['A','B']\n",
    "data=[]\n",
    "col1=[]\n",
    "col2=[]\n",
    "for d in dates:\n",
    "    for v in val_col1:\n",
    "        data.append(d)\n",
    "        col1.append(v)\n",
    "        col2.append(np.random.randint(10,20))\n",
    "tab={'data':data,'col1':col1,'col2':col2}\n",
    "df=pd.DataFrame(tab)\n",
    "df['data']=pd.to_datetime(df['data'],format='%d/%m/%Y')\n",
    "#df['data']=df['data'].dt.strftime('%d/%m/%Y')\n",
    "df=df.set_index('data')\n",
    "display(df)\n",
    "#Per accedere  al DataFrame da dentro la routine chiamata da intercat(..)\n",
    "def get_DataFrame():\n",
    "    return df"
   ]
  },
  {
   "cell_type": "markdown",
   "metadata": {},
   "source": [
    "### Creazione DatePicker e routines"
   ]
  },
  {
   "cell_type": "code",
   "execution_count": 215,
   "metadata": {},
   "outputs": [],
   "source": [
    "%matplotlib inline\n",
    "import matplotlib as plt\n",
    "from ipywidgets import widgets,interact\n",
    "'''\n",
    "Per trasformare in datetime i valori :\n",
    "    dal=datetime(start.value.year,start.value.month,start.value.day)\n",
    "    al=datetime(end.value.year,end.value.month,end.value.day)\n",
    "'''\n",
    "from datetime import date\n",
    "\n",
    "# DATA INIZIALE : START\n",
    "start =widgets.DatePicker(\n",
    "    description='Start',\n",
    "    value=pd.Timestamp(df.index.min()),\n",
    "    disabled=False\n",
    ")\n",
    "# DATA FINALE : END\n",
    "end =widgets.DatePicker(\n",
    "    description='End',\n",
    "    value=pd.Timestamp(df.index.max()),\n",
    "    disabled=False\n",
    ")\n",
    "\n",
    "#end.format=\"%d/%m/%Y\"\n",
    "#start.format=\"%d/%m/%Y\"\n",
    "\n",
    "#START CHANGE\n",
    "def on_change_start(change):\n",
    "    if change['type'] == 'change' and change['name'] == 'value':\n",
    "        _end=end.value\n",
    "        if _end != None:\n",
    "            new_star=pd.Timestamp(change['new'])\n",
    "            endd=pd.Timestamp(_end)\n",
    "            if new_star>endd:\n",
    "                end.value=change['new']\n",
    "\n",
    "# END_CHANGED\n",
    "def on_change_end(change):\n",
    "    if change['type'] == 'change' and change['name'] == 'value':\n",
    "        _start=start.value\n",
    "        if _start != None:\n",
    "            new_end=pd.Timestamp(change['new'])\n",
    "            startd=pd.Timestamp(_start)\n",
    "            if new_end<startd:\n",
    "                start.value=change['new']\n",
    "            \n",
    "\n",
    "end.observe(on_change_end)\n",
    "start.observe(on_change_start)\n",
    "\n",
    "def _printer( _start,_end):\n",
    "    df3=get_DataFrame()\n",
    "    df3 = df.copy()\n",
    "    print(\"Data inferiore   : {}  Data maggiore : {}\".format(df3.index[0], df3.index[-1]))\n",
    "    print(\"Selezionato  DAL : {}             AL : {}\".format(_start,_end))\n",
    "    print(\"Datepicker END :\\n\\t Tipo dato: {} Valore :{}\".format(type(_end),_end))\n",
    "    dal=datetime(start.value.year,start.value.month,start.value.day)\n",
    "    al=datetime(end.value.year,end.value.month,end.value.day)\n",
    "    '''\n",
    "    VERIFICARE CHE IL CAMPO (IN QUESTO CASO L'INDICE) SIA IN FORMATO DATETIME\n",
    "    (SE LA DATA 'E IN FORMATO STRINGA TRASFORMARE IL VALORE DEL DATEPICKER IN FORMATO\n",
    "      STRINGA)\n",
    "    '''\n",
    "    df3 = df3[df3.index <=al]\n",
    "    df3 = df3[df3.index >=dal]\n",
    "    print(\"Valori filtrati :\")\n",
    "    print(df3)\n",
    "    if len(df3)>0 :\n",
    "        df3['col2'].plot()\n",
    "    \n"
   ]
  },
  {
   "cell_type": "code",
   "execution_count": 216,
   "metadata": {},
   "outputs": [
    {
     "data": {
      "application/vnd.jupyter.widget-view+json": {
       "model_id": "e3047cb988b949109d001b1481045ad8",
       "version_major": 2,
       "version_minor": 0
      },
      "text/plain": [
       "interactive(children=(DatePicker(value=Timestamp('2019-01-20 00:00:00'), description='Start'), DatePicker(valu…"
      ]
     },
     "metadata": {},
     "output_type": "display_data"
    },
    {
     "data": {
      "text/plain": [
       "<function __main__._printer(_start, _end)>"
      ]
     },
     "execution_count": 216,
     "metadata": {},
     "output_type": "execute_result"
    }
   ],
   "source": [
    "interact(_printer,_start=start, _end=end)"
   ]
  },
  {
   "cell_type": "code",
   "execution_count": null,
   "metadata": {},
   "outputs": [],
   "source": []
  },
  {
   "cell_type": "code",
   "execution_count": null,
   "metadata": {},
   "outputs": [],
   "source": []
  }
 ],
 "metadata": {
  "kernelspec": {
   "display_name": "Python 3",
   "language": "python",
   "name": "python3"
  },
  "language_info": {
   "codemirror_mode": {
    "name": "ipython",
    "version": 3
   },
   "file_extension": ".py",
   "mimetype": "text/x-python",
   "name": "python",
   "nbconvert_exporter": "python",
   "pygments_lexer": "ipython3",
   "version": "3.6.5"
  }
 },
 "nbformat": 4,
 "nbformat_minor": 2
}
