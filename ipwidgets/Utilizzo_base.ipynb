{
 "cells": [
  {
   "cell_type": "code",
   "execution_count": null,
   "metadata": {
    "hide_input": true
   },
   "outputs": [],
   "source": [
    "from IPython.core.display import display, HTML\n",
    "display(HTML(\"<style>.container { width:800px !important; }</style>\"))"
   ]
  },
  {
   "cell_type": "markdown",
   "metadata": {},
   "source": [
    "# WIDGETS\n",
    "Utilizzo di componenti per l'input dei dati e creazione di forms all'interno di Jupyter notebooks.\n",
    "\n",
    "Vengono mostrati alcuni esempi base .\n",
    "\n",
    "Per una trattazine esaustiva vedere il sito ufficiale : https://ipywidgets.readthedocs.io/en/latest/examples/Widget%20List.html\n",
    "\n"
   ]
  },
  {
   "cell_type": "markdown",
   "metadata": {},
   "source": [
    "## Dropdown"
   ]
  },
  {
   "cell_type": "code",
   "execution_count": 51,
   "metadata": {},
   "outputs": [
    {
     "data": {
      "application/vnd.jupyter.widget-view+json": {
       "model_id": "635df5673e094069b6dd4d842ecb72d7",
       "version_major": 2,
       "version_minor": 0
      },
      "text/plain": [
       "Dropdown(description='Colonna 1', options=('---', 'A1', 'A2'), value='---')"
      ]
     },
     "metadata": {},
     "output_type": "display_data"
    }
   ],
   "source": [
    "# importa le librerie\n",
    "import pandas as pd\n",
    "\n",
    "col1 =['A1', 'A1', 'A2','A2','A1','A1' ]     \n",
    "col2= [ 'B', 'C' , 'D' ,'E' ,'F' ,'G' ]     \n",
    "tabella={'col1':col1,'col2':col2}\n",
    "df=pd.DataFrame(tabella)\n",
    "from ipywidgets import widgets\n",
    "# Colonna 1 : dropdown , selezione singola\n",
    "selcol_1=widgets.Dropdown(\n",
    "    options=['---']+list(df['col1'].unique()),\n",
    "    #rows=10,\n",
    "    description='Colonna 1',\n",
    "    disabled=False\n",
    ")\n",
    "display(selcol_1)"
   ]
  },
  {
   "cell_type": "markdown",
   "metadata": {},
   "source": [
    "####  Accesso al valore selezionato "
   ]
  },
  {
   "cell_type": "code",
   "execution_count": 53,
   "metadata": {},
   "outputs": [
    {
     "name": "stdout",
     "output_type": "stream",
     "text": [
      "A1\n"
     ]
    }
   ],
   "source": [
    "print(selcol_1.value)"
   ]
  },
  {
   "cell_type": "markdown",
   "metadata": {},
   "source": [
    "# Dropdown selezione multipla"
   ]
  },
  {
   "cell_type": "code",
   "execution_count": 57,
   "metadata": {},
   "outputs": [],
   "source": [
    "import pandas as pd\n",
    "col1 =['A1', 'A1', 'A2','A2','A1','A1' ]     \n",
    "col2= [ 'B', 'C' , 'D' ,'E' ,'F' ,'G' ]     \n",
    "tabella={'col1':col1,'col2':col2}\n",
    "df=pd.DataFrame(tabella)\n",
    "\n",
    "from ipywidgets import widgets\n",
    "# Colonna  : Scelta multipla\n",
    "selcol_2 = widgets.SelectMultiple(\n",
    "    options=['---']+list(df['col2'].unique()),\n",
    "    description='Colonna 2:'\n",
    ")\n"
   ]
  },
  {
   "cell_type": "markdown",
   "metadata": {},
   "source": [
    "### Mostra il componente"
   ]
  },
  {
   "cell_type": "code",
   "execution_count": 61,
   "metadata": {},
   "outputs": [
    {
     "data": {
      "application/vnd.jupyter.widget-view+json": {
       "model_id": "2012e7f4cf1d41db81c160012039d7a1",
       "version_major": 2,
       "version_minor": 0
      },
      "text/plain": [
       "SelectMultiple(description='Colonna 2:', index=(1, 2), options=('---', 'B', 'C', 'D', 'E', 'F', 'G'), value=('…"
      ]
     },
     "metadata": {},
     "output_type": "display_data"
    }
   ],
   "source": [
    "display(selcol_2)"
   ]
  },
  {
   "cell_type": "markdown",
   "metadata": {},
   "source": [
    "### Accedi ai valori "
   ]
  },
  {
   "cell_type": "code",
   "execution_count": 63,
   "metadata": {},
   "outputs": [
    {
     "name": "stdout",
     "output_type": "stream",
     "text": [
      "('B', 'C')\n"
     ]
    }
   ],
   "source": [
    "print(selcol_2.value)"
   ]
  },
  {
   "cell_type": "markdown",
   "metadata": {},
   "source": [
    "# Creazione di un dropdown e di un multiselect . Utilizzo di interact() per seguire gli eventi\n",
    "### Aggiornare i contenuti di un compnente in base alla selezione di un altro componente\n",
    "\n",
    "* Creazione di un  dropdown con dei valori.\n",
    "* Modificando la selezione del primo vengono aggiornati i valori del secondo "
   ]
  },
  {
   "cell_type": "code",
   "execution_count": 32,
   "metadata": {},
   "outputs": [],
   "source": [
    "# importa le librerie\n",
    "import pandas as pd\n",
    "\n",
    "col1 =['A1', 'A1', 'A2','A2','A1','A1' ]     \n",
    "col2= [ 'B', 'C' , 'D' ,'E' ,'F' ,'G' ]     \n",
    "tabella={'col1':col1,'col2':col2}\n",
    "\n",
    "df=pd.DataFrame(tabella)\n"
   ]
  },
  {
   "cell_type": "code",
   "execution_count": 64,
   "metadata": {},
   "outputs": [],
   "source": [
    "from ipywidgets import widgets\n",
    "\n",
    "# Colonna 1 : dropdown , selezione singola\n",
    "selcol1=widgets.Dropdown(\n",
    "    options=['---']+list(df['col1'].unique()),\n",
    "    #rows=10,\n",
    "    description='Colonna 1',\n",
    "    disabled=False\n",
    ")\n",
    "\n",
    "# Colonna  : Scelta multipla\n",
    "selcol2 = widgets.SelectMultiple(\n",
    "    options=['---'] ,\n",
    "    description='Colonna 2:'\n",
    ")\n",
    "\n",
    "# Aggiorna selezione colonna 2 in base a scelta di colonna 1\n",
    "def update_col2(*args):\n",
    "    # Filtro in base a selezione 1\n",
    "    df2=df[df['col1']==selcol1.value]\n",
    "    # Valori unici di colonna 2\n",
    "    selcol2.options=df2['col2'].unique()\n",
    "    \n",
    "# Osservo le variazioni di selcol1 : quando cambia valore eseguo update_col2 \n",
    "selcol1.observe(update_col2,'value')\n",
    "\n",
    "'''\n",
    "FUNZIONE DA ESEGUIRE CON INTERACT(...)\n",
    "'''\n",
    "def myselections( _selcol1,_selcol2):\n",
    "    \n",
    "    df3 = df.copy()\n",
    "    df3=df3[df3['col2'].isin(_selcol2)]\n",
    "    if len(df3) > 0:\n",
    "        display(df3)\n",
    "    else:\n",
    "        print(\"No data to show for current selection\")"
   ]
  },
  {
   "cell_type": "markdown",
   "metadata": {},
   "source": [
    "Modificando la selezione del primo dropdown, vengono aggiornati gli elementi del secondo widget( un multiselect)\n",
    "### Mostrare i componenti ed eseguire la funzione myselections(..)"
   ]
  },
  {
   "cell_type": "code",
   "execution_count": 45,
   "metadata": {},
   "outputs": [
    {
     "data": {
      "application/vnd.jupyter.widget-view+json": {
       "model_id": "b28fa5c5500d4c869eb959a389f3bae0",
       "version_major": 2,
       "version_minor": 0
      },
      "text/plain": [
       "interactive(children=(Dropdown(description='Colonna 1', index=1, options=('---', 'A', 'B'), value='A'), Select…"
      ]
     },
     "metadata": {},
     "output_type": "display_data"
    },
    {
     "data": {
      "text/plain": [
       "<function __main__.myselections(_selcol1, _selcol2)>"
      ]
     },
     "execution_count": 45,
     "metadata": {},
     "output_type": "execute_result"
    }
   ],
   "source": [
    "from ipywidgets import interact\n",
    "interact(myselections, _selcol1=selcol1,_selcol2=selcol2)"
   ]
  },
  {
   "cell_type": "markdown",
   "metadata": {},
   "source": [
    "# Caricamendo in un dropdown dell'elenco dei file di una dir\n",
    "\n",
    "Impostiamo un percorso (mypath) , e poi creiamo un dropdown che mi permette di selezionare tutti i file csv in quella cartella"
   ]
  },
  {
   "cell_type": "code",
   "execution_count": 35,
   "metadata": {},
   "outputs": [],
   "source": [
    "import glob\n",
    "mypath=\"/home/antoiovi/Documenti/Dati\"\n",
    "files=glob.glob(mypath+\"*.csv\")\n",
    "files.sort()"
   ]
  },
  {
   "cell_type": "code",
   "execution_count": 37,
   "metadata": {},
   "outputs": [
    {
     "data": {
      "application/vnd.jupyter.widget-view+json": {
       "model_id": "e61d45d287f14c4da1e7b64dc0846d54",
       "version_major": 2,
       "version_minor": 0
      },
      "text/plain": [
       "interactive(children=(Dropdown(description='Seleziona file', layout=Layout(width='auto'), options=('/home/anto…"
      ]
     },
     "metadata": {},
     "output_type": "display_data"
    },
    {
     "data": {
      "text/plain": [
       "<function __main__.selectfile(dropfile)>"
      ]
     },
     "execution_count": 37,
     "metadata": {},
     "output_type": "execute_result"
    }
   ],
   "source": [
    "from ipywidgets import widgets, interactive,interact,Layout\n",
    "\n",
    "fileSel=widgets.Text()\n",
    "# FILENAME\n",
    "dropfile=widgets.Dropdown(\n",
    "    \n",
    "    options=files,\n",
    "    description='Seleziona file',\n",
    "    disabled=False,\n",
    "    layout=Layout(width='auto')\n",
    ")\n",
    "def selectfile(dropfile):\n",
    "    s=dropfile\n",
    "    fileSel.value=str(dropfile)\n",
    "    \n",
    "selectfile(dropfile)\n",
    "interact(selectfile,dropfile=dropfile)\n",
    "    "
   ]
  },
  {
   "cell_type": "markdown",
   "metadata": {},
   "source": [
    " # Date PickUp : esempio di compilazione DAL AL\n",
    " Creazione di due DatePicker \n",
    " \n",
    " * DAL : data iniziale\n",
    " * AL  : data finale\n",
    " \n",
    " - Se la data iniziale è inferiore alla data iniziale , viene impostata uguale alla data del componente che è cambiato\n",
    " - Se la data finale è inferiore alla data iniziale , viene impostata uguale alla data del componente che è cambiato\n",
    " \n",
    " ### Creazione del DataFrame di esempio"
   ]
  },
  {
   "cell_type": "code",
   "execution_count": 40,
   "metadata": {},
   "outputs": [
    {
     "data": {
      "text/html": [
       "<div>\n",
       "<style scoped>\n",
       "    .dataframe tbody tr th:only-of-type {\n",
       "        vertical-align: middle;\n",
       "    }\n",
       "\n",
       "    .dataframe tbody tr th {\n",
       "        vertical-align: top;\n",
       "    }\n",
       "\n",
       "    .dataframe thead th {\n",
       "        text-align: right;\n",
       "    }\n",
       "</style>\n",
       "<table border=\"1\" class=\"dataframe\">\n",
       "  <thead>\n",
       "    <tr style=\"text-align: right;\">\n",
       "      <th></th>\n",
       "      <th>col1</th>\n",
       "      <th>col2</th>\n",
       "    </tr>\n",
       "    <tr>\n",
       "      <th>data</th>\n",
       "      <th></th>\n",
       "      <th></th>\n",
       "    </tr>\n",
       "  </thead>\n",
       "  <tbody>\n",
       "    <tr>\n",
       "      <th>2019-01-20</th>\n",
       "      <td>A</td>\n",
       "      <td>15</td>\n",
       "    </tr>\n",
       "    <tr>\n",
       "      <th>2019-01-20</th>\n",
       "      <td>B</td>\n",
       "      <td>11</td>\n",
       "    </tr>\n",
       "    <tr>\n",
       "      <th>2019-01-21</th>\n",
       "      <td>A</td>\n",
       "      <td>12</td>\n",
       "    </tr>\n",
       "    <tr>\n",
       "      <th>2019-01-21</th>\n",
       "      <td>B</td>\n",
       "      <td>12</td>\n",
       "    </tr>\n",
       "    <tr>\n",
       "      <th>2019-01-22</th>\n",
       "      <td>A</td>\n",
       "      <td>14</td>\n",
       "    </tr>\n",
       "    <tr>\n",
       "      <th>2019-01-22</th>\n",
       "      <td>B</td>\n",
       "      <td>19</td>\n",
       "    </tr>\n",
       "  </tbody>\n",
       "</table>\n",
       "</div>"
      ],
      "text/plain": [
       "           col1  col2\n",
       "data                 \n",
       "2019-01-20    A    15\n",
       "2019-01-20    B    11\n",
       "2019-01-21    A    12\n",
       "2019-01-21    B    12\n",
       "2019-01-22    A    14\n",
       "2019-01-22    B    19"
      ]
     },
     "metadata": {},
     "output_type": "display_data"
    }
   ],
   "source": [
    "import pandas as pd\n",
    "import numpy as np\n",
    "dates    =   ['20/01/2019',  '21/01/2019','22/01/2019' ]\n",
    "val_col1=['A','B']\n",
    "data=[]\n",
    "col1=[]\n",
    "col2=[]\n",
    "for d in dates:\n",
    "    for v in val_col1:\n",
    "        data.append(d)\n",
    "        col1.append(v)\n",
    "        col2.append(np.random.randint(10,20))\n",
    "tab={'data':data,'col1':col1,'col2':col2}\n",
    "df=pd.DataFrame(tab)\n",
    "'''\n",
    "Trasformo la colonna data in datetime :\n",
    "    ovvero in  'pandas._libs.tslibs.timestamps.Timestamp'\n",
    "'''\n",
    "df['data']=pd.to_datetime(df['data'],format='%d/%m/%Y')\n",
    "#df['data']=df['data'].dt.strftime('%d/%m/%Y')\n",
    "df=df.set_index('data')\n",
    "display(df)\n",
    "#Per accedere  al DataFrame da dentro la routine chiamata da intercat(..)\n",
    "def get_DataFrame():\n",
    "    return df"
   ]
  },
  {
   "cell_type": "markdown",
   "metadata": {},
   "source": [
    "### Creazione DatePicker e routines\n",
    "\n",
    "* Inizzializzo i DatePicker con i valori minimi e massimi del dataframe\n",
    "* I valori sono impostati tramite pandas.Timestamp()\n",
    "* Creo un evento da eseguire quando si cambia il DatePicker DAL :\n",
    "    * se DAL<=AL -->OK\n",
    "    * se DAL>AL --> imposta AL=DAL\n",
    "* Creo un evento da eseguire quando si cambia il DatePicker AL\n",
    "    * se AL>=DAL -->OK\n",
    "    * se AL>DAL --> imposta DAL=AL"
   ]
  },
  {
   "cell_type": "code",
   "execution_count": 41,
   "metadata": {},
   "outputs": [],
   "source": [
    "%matplotlib inline\n",
    "import matplotlib as plt\n",
    "from ipywidgets import widgets\n",
    "'''\n",
    "Importa la classer datetime dalla libreria datetime\n",
    "'''\n",
    "from datetime import datetime\n",
    "'''\n",
    "Per trasformare in oggetto datetime.datetime i valori :\n",
    "    dal=datetime(start.value.year,start.value.month,start.value.day)\n",
    "    al=datetime(end.value.year,end.value.month,end.value.day)\n",
    "'''\n",
    "\n",
    "\n",
    "# DATA INIZIALE : START\n",
    "start =widgets.DatePicker(\n",
    "    description='Start',\n",
    "    value=pd.Timestamp(df.index.min()),\n",
    "    disabled=False\n",
    ")\n",
    "# DATA FINALE : END\n",
    "end =widgets.DatePicker(\n",
    "    description='End',\n",
    "    value=pd.Timestamp(df.index.max()),\n",
    "    disabled=False\n",
    ")\n",
    "\n",
    "#end.format=\"%d/%m/%Y\"\n",
    "#start.format=\"%d/%m/%Y\"\n",
    "\n",
    "#START CHANGE\n",
    "def on_change_start(change):\n",
    "    if change['type'] == 'change' and change['name'] == 'value':\n",
    "        _end=end.value\n",
    "        if _end != None:\n",
    "            new_star=pd.Timestamp(change['new'])\n",
    "            endd=pd.Timestamp(_end)\n",
    "            if new_star>endd:\n",
    "                end.value=change['new']\n",
    "\n",
    "# END_CHANGED\n",
    "def on_change_end(change):\n",
    "    if change['type'] == 'change' and change['name'] == 'value':\n",
    "        _start=start.value\n",
    "        if _start != None:\n",
    "            new_end=pd.Timestamp(change['new'])\n",
    "            startd=pd.Timestamp(_start)\n",
    "            if new_end<startd:\n",
    "                start.value=change['new']\n",
    "            \n",
    "\n",
    "end.observe(on_change_end)\n",
    "start.observe(on_change_start)\n",
    "\n",
    "def _printer( _start,_end):\n",
    "    df3=get_DataFrame()\n",
    "    df3 = df.copy()\n",
    "    print(\"Data inferiore   : {}  Data maggiore : {}\".format(df3.index[0], df3.index[-1]))\n",
    "    print(\"Selezionato  DAL : {}             AL : {}\".format(_start,_end))\n",
    "    print(\"Tipo dato:\\n\\t_start : {}\\n\\t_end : {}\".format(type(_start),type(_end)))\n",
    "    '''\n",
    "    Trasformo \n",
    "        da  'pandas._libs.tslibs.timestamps.Timestamp'\n",
    "        a   'datetime.date'\n",
    "    '''\n",
    "    dal=datetime(start.value.year,start.value.month,start.value.day)\n",
    "    al=datetime(end.value.year,end.value.month,end.value.day)\n",
    "    print(\"Tipo dato:\\n\\ START : {}\\n\\END : {}\".format(type(_start),type(_end)))\n",
    "    \n",
    "    '''\n",
    "    VERIFICARE CHE IL CAMPO (IN QUESTO CASO L'INDICE) SIA IN FORMATO DATETIME\n",
    "    (SE LA DATA 'E IN FORMATO STRINGA TRASFORMARE IL VALORE DEL DATEPICKER IN FORMATO\n",
    "      STRINGA)\n",
    "    '''\n",
    "    df3 = df3[df3.index <=al]\n",
    "    df3 = df3[df3.index >=dal]\n",
    "    print(\"Valori filtrati :\")\n",
    "    print(df3)\n",
    "    if len(df3)>0 :\n",
    "        df3['col2'].plot()\n",
    "    \n"
   ]
  },
  {
   "cell_type": "markdown",
   "metadata": {},
   "source": [
    "### Esecuzione :"
   ]
  },
  {
   "cell_type": "code",
   "execution_count": 42,
   "metadata": {},
   "outputs": [
    {
     "data": {
      "application/vnd.jupyter.widget-view+json": {
       "model_id": "13d1f15340ec4618be17ca8876462330",
       "version_major": 2,
       "version_minor": 0
      },
      "text/plain": [
       "interactive(children=(DatePicker(value=Timestamp('2019-01-20 00:00:00'), description='Start'), DatePicker(valu…"
      ]
     },
     "metadata": {},
     "output_type": "display_data"
    },
    {
     "data": {
      "text/plain": [
       "<function __main__._printer(_start, _end)>"
      ]
     },
     "execution_count": 42,
     "metadata": {},
     "output_type": "execute_result"
    }
   ],
   "source": [
    "from ipywidgets import interact\n",
    "\n",
    "interact(_printer,_start=start, _end=end)"
   ]
  },
  {
   "cell_type": "code",
   "execution_count": null,
   "metadata": {},
   "outputs": [],
   "source": []
  }
 ],
 "metadata": {
  "kernelspec": {
   "display_name": "Python 3",
   "language": "python",
   "name": "python3"
  },
  "language_info": {
   "codemirror_mode": {
    "name": "ipython",
    "version": 3
   },
   "file_extension": ".py",
   "mimetype": "text/x-python",
   "name": "python",
   "nbconvert_exporter": "python",
   "pygments_lexer": "ipython3",
   "version": "3.6.5"
  }
 },
 "nbformat": 4,
 "nbformat_minor": 2
}
