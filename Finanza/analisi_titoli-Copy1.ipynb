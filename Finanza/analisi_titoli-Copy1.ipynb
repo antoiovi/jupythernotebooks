{
 "cells": [
  {
   "cell_type": "code",
   "execution_count": 1,
   "metadata": {},
   "outputs": [],
   "source": [
    "import pandas as pd\n",
    "import numpy as np\n",
    "from datetime import datetime\n",
    "from matplotlib import pyplot as plt\n"
   ]
  },
  {
   "cell_type": "code",
   "execution_count": 2,
   "metadata": {},
   "outputs": [
    {
     "name": "stderr",
     "output_type": "stream",
     "text": [
      "/home/antoiovi/anaconda3/envs/Finantial/lib/python3.7/site-packages/ipykernel_launcher.py:2: FutureWarning: The pandas.datetime class is deprecated and will be removed from pandas in a future version. Import from datetime module instead.\n",
      "  \n"
     ]
    }
   ],
   "source": [
    "names=['data','Open','Close','High','Low','Volume']\n",
    "mydateparser = lambda x: pd.datetime.strptime(x, \"%d/%m/%Y %H:%M:%S\")\n",
    "\n",
    "aucofile=\"/home/antoiovi/Documents/dati/auco.csv\"\n",
    "xchafile=\"/home/antoiovi/Documents/dati/xcha.csv\"\n",
    "auco=pd.read_csv(aucofile,parse_dates=['data'],date_parser=mydateparser,sep=\";\",\n",
    "                 names=names,decimal=',',index_col='data')\n",
    "\n",
    "xcha=pd.read_csv(xchafile,parse_dates=['data'],date_parser=mydateparser,sep=\";\",\n",
    "                 names=names,decimal=',',index_col='data')"
   ]
  },
  {
   "cell_type": "code",
   "execution_count": 3,
   "metadata": {},
   "outputs": [
    {
     "data": {
      "text/plain": [
       "<matplotlib.axes._subplots.AxesSubplot at 0x7fe53d8a1790>"
      ]
     },
     "execution_count": 3,
     "metadata": {},
     "output_type": "execute_result"
    },
    {
     "data": {
      "image/png": "[encoded data removed]",
      "text/plain": [
       "<Figure size 432x288 with 1 Axes>"
      ]
     },
     "metadata": {
      "needs_background": "light"
     },
     "output_type": "display_data"
    }
   ],
   "source": [
    "#auco['Close'].plot()\n",
    "xcha['Close'].plot()"
   ]
  },
  {
   "cell_type": "code",
   "execution_count": 144,
   "metadata": {},
   "outputs": [
    {
     "data": {
      "text/html": [
       "<div>\n",
       "<style scoped>\n",
       "    .dataframe tbody tr th:only-of-type {\n",
       "        vertical-align: middle;\n",
       "    }\n",
       "\n",
       "    .dataframe tbody tr th {\n",
       "        vertical-align: top;\n",
       "    }\n",
       "\n",
       "    .dataframe thead th {\n",
       "        text-align: right;\n",
       "    }\n",
       "</style>\n",
       "<table border=\"1\" class=\"dataframe\">\n",
       "  <thead>\n",
       "    <tr style=\"text-align: right;\">\n",
       "      <th></th>\n",
       "      <th>Open</th>\n",
       "      <th>Close</th>\n",
       "      <th>High</th>\n",
       "      <th>Low</th>\n",
       "      <th>Volume</th>\n",
       "    </tr>\n",
       "    <tr>\n",
       "      <th>data</th>\n",
       "      <th></th>\n",
       "      <th></th>\n",
       "      <th></th>\n",
       "      <th></th>\n",
       "      <th></th>\n",
       "    </tr>\n",
       "  </thead>\n",
       "  <tbody>\n",
       "    <tr>\n",
       "      <th>2019-01-02</th>\n",
       "      <td>18.290</td>\n",
       "      <td>18.700</td>\n",
       "      <td>18.700</td>\n",
       "      <td>18.290</td>\n",
       "      <td>7727</td>\n",
       "    </tr>\n",
       "    <tr>\n",
       "      <th>2019-01-03</th>\n",
       "      <td>18.644</td>\n",
       "      <td>18.680</td>\n",
       "      <td>18.836</td>\n",
       "      <td>18.580</td>\n",
       "      <td>24854</td>\n",
       "    </tr>\n",
       "    <tr>\n",
       "      <th>2019-01-04</th>\n",
       "      <td>19.000</td>\n",
       "      <td>18.732</td>\n",
       "      <td>19.024</td>\n",
       "      <td>18.588</td>\n",
       "      <td>25933</td>\n",
       "    </tr>\n",
       "    <tr>\n",
       "      <th>2019-01-07</th>\n",
       "      <td>19.000</td>\n",
       "      <td>18.578</td>\n",
       "      <td>19.106</td>\n",
       "      <td>18.578</td>\n",
       "      <td>14325</td>\n",
       "    </tr>\n",
       "    <tr>\n",
       "      <th>2019-01-08</th>\n",
       "      <td>18.346</td>\n",
       "      <td>18.410</td>\n",
       "      <td>18.498</td>\n",
       "      <td>18.226</td>\n",
       "      <td>44008</td>\n",
       "    </tr>\n",
       "  </tbody>\n",
       "</table>\n",
       "</div>"
      ],
      "text/plain": [
       "              Open   Close    High     Low  Volume\n",
       "data                                              \n",
       "2019-01-02  18.290  18.700  18.700  18.290    7727\n",
       "2019-01-03  18.644  18.680  18.836  18.580   24854\n",
       "2019-01-04  19.000  18.732  19.024  18.588   25933\n",
       "2019-01-07  19.000  18.578  19.106  18.578   14325\n",
       "2019-01-08  18.346  18.410  18.498  18.226   44008"
      ]
     },
     "execution_count": 144,
     "metadata": {},
     "output_type": "execute_result"
    }
   ],
   "source": [
    "auco.head()"
   ]
  },
  {
   "cell_type": "code",
   "execution_count": 145,
   "metadata": {},
   "outputs": [],
   "source": [
    "\n",
    "df=xcha\n",
    "df['MM20']=df['Open'].rolling(window=20).mean()\n",
    "df['MM5']=df['Open'].rolling(window=5).mean()\n",
    "df['MM13']=df['Open'].rolling(window=13).mean()\n",
    "df['MM50']=df['Open'].rolling(window=50).mean()\n",
    "\n",
    "\n",
    "df=auco\n",
    "df['MM20']=df['Open'].rolling(window=20).mean()\n",
    "df['MM5']=df['Open'].rolling(window=5).mean()\n",
    "df['MM13']=df['Open'].rolling(window=13).mean()\n",
    "df['MM50']=df['Open'].rolling(window=50).mean()\n"
   ]
  },
  {
   "cell_type": "code",
   "execution_count": 146,
   "metadata": {},
   "outputs": [
    {
     "data": {
      "text/html": [
       "<div>\n",
       "<style scoped>\n",
       "    .dataframe tbody tr th:only-of-type {\n",
       "        vertical-align: middle;\n",
       "    }\n",
       "\n",
       "    .dataframe tbody tr th {\n",
       "        vertical-align: top;\n",
       "    }\n",
       "\n",
       "    .dataframe thead th {\n",
       "        text-align: right;\n",
       "    }\n",
       "</style>\n",
       "<table border=\"1\" class=\"dataframe\">\n",
       "  <thead>\n",
       "    <tr style=\"text-align: right;\">\n",
       "      <th></th>\n",
       "      <th>Open</th>\n",
       "      <th>Close</th>\n",
       "      <th>High</th>\n",
       "      <th>Low</th>\n",
       "      <th>Volume</th>\n",
       "      <th>MM20</th>\n",
       "      <th>MM5</th>\n",
       "      <th>MM13</th>\n",
       "      <th>MM50</th>\n",
       "    </tr>\n",
       "    <tr>\n",
       "      <th>data</th>\n",
       "      <th></th>\n",
       "      <th></th>\n",
       "      <th></th>\n",
       "      <th></th>\n",
       "      <th></th>\n",
       "      <th></th>\n",
       "      <th></th>\n",
       "      <th></th>\n",
       "      <th></th>\n",
       "    </tr>\n",
       "  </thead>\n",
       "  <tbody>\n",
       "    <tr>\n",
       "      <th>2019-01-02</th>\n",
       "      <td>18.290</td>\n",
       "      <td>18.700</td>\n",
       "      <td>18.700</td>\n",
       "      <td>18.290</td>\n",
       "      <td>7727</td>\n",
       "      <td>NaN</td>\n",
       "      <td>NaN</td>\n",
       "      <td>NaN</td>\n",
       "      <td>NaN</td>\n",
       "    </tr>\n",
       "    <tr>\n",
       "      <th>2019-01-03</th>\n",
       "      <td>18.644</td>\n",
       "      <td>18.680</td>\n",
       "      <td>18.836</td>\n",
       "      <td>18.580</td>\n",
       "      <td>24854</td>\n",
       "      <td>NaN</td>\n",
       "      <td>NaN</td>\n",
       "      <td>NaN</td>\n",
       "      <td>NaN</td>\n",
       "    </tr>\n",
       "    <tr>\n",
       "      <th>2019-01-04</th>\n",
       "      <td>19.000</td>\n",
       "      <td>18.732</td>\n",
       "      <td>19.024</td>\n",
       "      <td>18.588</td>\n",
       "      <td>25933</td>\n",
       "      <td>NaN</td>\n",
       "      <td>NaN</td>\n",
       "      <td>NaN</td>\n",
       "      <td>NaN</td>\n",
       "    </tr>\n",
       "    <tr>\n",
       "      <th>2019-01-07</th>\n",
       "      <td>19.000</td>\n",
       "      <td>18.578</td>\n",
       "      <td>19.106</td>\n",
       "      <td>18.578</td>\n",
       "      <td>14325</td>\n",
       "      <td>NaN</td>\n",
       "      <td>NaN</td>\n",
       "      <td>NaN</td>\n",
       "      <td>NaN</td>\n",
       "    </tr>\n",
       "    <tr>\n",
       "      <th>2019-01-08</th>\n",
       "      <td>18.346</td>\n",
       "      <td>18.410</td>\n",
       "      <td>18.498</td>\n",
       "      <td>18.226</td>\n",
       "      <td>44008</td>\n",
       "      <td>NaN</td>\n",
       "      <td>18.656</td>\n",
       "      <td>NaN</td>\n",
       "      <td>NaN</td>\n",
       "    </tr>\n",
       "    <tr>\n",
       "      <th>...</th>\n",
       "      <td>...</td>\n",
       "      <td>...</td>\n",
       "      <td>...</td>\n",
       "      <td>...</td>\n",
       "      <td>...</td>\n",
       "      <td>...</td>\n",
       "      <td>...</td>\n",
       "      <td>...</td>\n",
       "      <td>...</td>\n",
       "    </tr>\n",
       "    <tr>\n",
       "      <th>2020-06-26</th>\n",
       "      <td>31.010</td>\n",
       "      <td>30.660</td>\n",
       "      <td>31.075</td>\n",
       "      <td>30.515</td>\n",
       "      <td>8116</td>\n",
       "      <td>29.86025</td>\n",
       "      <td>30.821</td>\n",
       "      <td>29.922308</td>\n",
       "      <td>30.5634</td>\n",
       "    </tr>\n",
       "    <tr>\n",
       "      <th>2020-06-29</th>\n",
       "      <td>31.015</td>\n",
       "      <td>31.225</td>\n",
       "      <td>31.300</td>\n",
       "      <td>30.675</td>\n",
       "      <td>3182</td>\n",
       "      <td>29.88200</td>\n",
       "      <td>31.014</td>\n",
       "      <td>30.045000</td>\n",
       "      <td>30.6334</td>\n",
       "    </tr>\n",
       "    <tr>\n",
       "      <th>2020-06-30</th>\n",
       "      <td>31.500</td>\n",
       "      <td>32.320</td>\n",
       "      <td>32.400</td>\n",
       "      <td>31.350</td>\n",
       "      <td>9798</td>\n",
       "      <td>29.88325</td>\n",
       "      <td>31.121</td>\n",
       "      <td>30.160385</td>\n",
       "      <td>30.7133</td>\n",
       "    </tr>\n",
       "    <tr>\n",
       "      <th>2020-07-01</th>\n",
       "      <td>32.320</td>\n",
       "      <td>31.720</td>\n",
       "      <td>33.000</td>\n",
       "      <td>31.580</td>\n",
       "      <td>17148</td>\n",
       "      <td>29.98375</td>\n",
       "      <td>31.305</td>\n",
       "      <td>30.370385</td>\n",
       "      <td>30.7955</td>\n",
       "    </tr>\n",
       "    <tr>\n",
       "      <th>2020-07-02</th>\n",
       "      <td>32.550</td>\n",
       "      <td>32.815</td>\n",
       "      <td>32.900</td>\n",
       "      <td>31.995</td>\n",
       "      <td>7815</td>\n",
       "      <td>30.14625</td>\n",
       "      <td>31.679</td>\n",
       "      <td>30.637692</td>\n",
       "      <td>30.8874</td>\n",
       "    </tr>\n",
       "  </tbody>\n",
       "</table>\n",
       "<p>380 rows × 9 columns</p>\n",
       "</div>"
      ],
      "text/plain": [
       "              Open   Close    High     Low  Volume      MM20     MM5  \\\n",
       "data                                                                   \n",
       "2019-01-02  18.290  18.700  18.700  18.290    7727       NaN     NaN   \n",
       "2019-01-03  18.644  18.680  18.836  18.580   24854       NaN     NaN   \n",
       "2019-01-04  19.000  18.732  19.024  18.588   25933       NaN     NaN   \n",
       "2019-01-07  19.000  18.578  19.106  18.578   14325       NaN     NaN   \n",
       "2019-01-08  18.346  18.410  18.498  18.226   44008       NaN  18.656   \n",
       "...            ...     ...     ...     ...     ...       ...     ...   \n",
       "2020-06-26  31.010  30.660  31.075  30.515    8116  29.86025  30.821   \n",
       "2020-06-29  31.015  31.225  31.300  30.675    3182  29.88200  31.014   \n",
       "2020-06-30  31.500  32.320  32.400  31.350    9798  29.88325  31.121   \n",
       "2020-07-01  32.320  31.720  33.000  31.580   17148  29.98375  31.305   \n",
       "2020-07-02  32.550  32.815  32.900  31.995    7815  30.14625  31.679   \n",
       "\n",
       "                 MM13     MM50  \n",
       "data                            \n",
       "2019-01-02        NaN      NaN  \n",
       "2019-01-03        NaN      NaN  \n",
       "2019-01-04        NaN      NaN  \n",
       "2019-01-07        NaN      NaN  \n",
       "2019-01-08        NaN      NaN  \n",
       "...               ...      ...  \n",
       "2020-06-26  29.922308  30.5634  \n",
       "2020-06-29  30.045000  30.6334  \n",
       "2020-06-30  30.160385  30.7133  \n",
       "2020-07-01  30.370385  30.7955  \n",
       "2020-07-02  30.637692  30.8874  \n",
       "\n",
       "[380 rows x 9 columns]"
      ]
     },
     "execution_count": 146,
     "metadata": {},
     "output_type": "execute_result"
    }
   ],
   "source": [
    " df"
   ]
  },
  {
   "cell_type": "code",
   "execution_count": 147,
   "metadata": {},
   "outputs": [
    {
     "data": {
      "text/plain": [
       "<matplotlib.axes._subplots.AxesSubplot at 0x7f3c27632c50>"
      ]
     },
     "execution_count": 147,
     "metadata": {},
     "output_type": "execute_result"
    },
    {
     "data": {
      "image/png": "[encoded data removed]",
      "text/plain": [
       "<Figure size 432x288 with 1 Axes>"
      ]
     },
     "metadata": {
      "needs_background": "light"
     },
     "output_type": "display_data"
    }
   ],
   "source": [
    "df=xcha\n",
    "df.MM13.plot()\n",
    "df.MM50.plot()"
   ]
  },
  {
   "cell_type": "code",
   "execution_count": 160,
   "metadata": {},
   "outputs": [
    {
     "name": "stdout",
     "output_type": "stream",
     "text": [
      "2019-06-28 00:00:00 buy  10.362 \n",
      "2019-08-13 00:00:00 sell  10.124 Guadagno -0.23799999999999955 \n",
      "2019-09-05 00:00:00 buy  10.774000000000001 \n",
      "2019-12-06 00:00:00 sell  10.927999999999999 Guadagno 0.15399999999999814 \n",
      "2019-12-17 00:00:00 buy  11.27 \n",
      "2020-02-04 00:00:00 sell  10.902000000000001 Guadagno -0.36799999999999855 \n",
      "2020-02-20 00:00:00 buy  11.786 \n",
      "2020-03-13 00:00:00 sell  10.954 Guadagno -0.831999999999999 \n",
      "2020-05-05 00:00:00 buy  10.786 \n",
      "Credito 12.292,  Guadagno -1.283999999999999 Prezzo medio :10.995600000000001 \n"
     ]
    },
    {
     "data": {
      "text/plain": [
       "-11.677398232020069"
      ]
     },
     "execution_count": 160,
     "metadata": {},
     "output_type": "execute_result"
    }
   ],
   "source": [
    "df=xcha\n",
    "import math\n",
    "credito=0\n",
    "lastbuy=0\n",
    "guadagno=0\n",
    "def buy(row):\n",
    "    global credito,lastbuy,buyed\n",
    "    print('{} buy  {} '.format(row.name,row['Close']))\n",
    "    credito=credito+1\n",
    "    lastbuy=row['Close']\n",
    "    buyed.append(lastbuy)\n",
    "def sell(row):\n",
    "    global credito,lastbuy,guadagno\n",
    "    g=(row['Close']-lastbuy)\n",
    "    guadagno=guadagno+g\n",
    "    print('{} sell  {} Guadagno {} '.format(row.name,row['Close'],g))\n",
    "    credito=credito-1\n",
    "    \n",
    "buyed=[]\n",
    "\n",
    "mm13=0\n",
    "mm50=None\n",
    "stato='START'\n",
    "#Posizione media veloce (per indicare l'entry point)\n",
    "POSIZONE_MV='START'\n",
    "BUY=False\n",
    "for index, row in df.iterrows():\n",
    "    #print('mm13 :{} mm50 {} stato {}'.format(mm13,mm50,stato))\n",
    "    if stato== 'START':\n",
    "        #print(stato)\n",
    "        mm50=row['MM50']\n",
    "        mm13=row['MM13']\n",
    "        if (math.isnan(mm50)|math.isnan(mm13)):\n",
    "            stato=='START'\n",
    "        else:\n",
    "            stato='NULLO' \n",
    "            if mm13>mm50:\n",
    "                POSIZONE_MV='SOPRA' \n",
    "            else :\n",
    "                POSIZONE_MV='SOTTO'\n",
    "    elif stato=='NULLO':\n",
    "        #print(stato)\n",
    "        if row['MM13']>row['MM50']:\n",
    "            # Se Media veloce SORPASSA media lenta\n",
    "            if POSIZONE_MV=='SOTTO':\n",
    "                buy(row)\n",
    "                stato='BUY'\n",
    "            POSIZONE_MV='SOPRA'\n",
    "        elif row['MM13']<row['MM50']:\n",
    "            POSIZONE_MV='SOTTO'\n",
    "            if stato== 'BUY':\n",
    "                sell(row) \n",
    "                stato='NULLO'\n",
    "        mm50=row['MM50']\n",
    "        mm13=row['MM13']\n",
    "    elif stato == 'BUY':\n",
    "        #print(stato)\n",
    "        if row['MM13']<row['MM50']:\n",
    "            sell(row) \n",
    "            stato='NULLO'\n",
    "            POSIZONE_MV='SOTTO'\n",
    "        mm50=row['MM50']\n",
    "        mm13=row['MM13']\n",
    "last=df.iloc[-1][2]\n",
    "prezzomedio=np.mean(buyed)\n",
    "print('Credito {},  Guadagno {} Prezzo medio :{} '.format((credito*last),guadagno,prezzomedio))\n",
    "100*guadagno/prezzomedio"
   ]
  },
  {
   "cell_type": "code",
   "execution_count": 159,
   "metadata": {},
   "outputs": [
    {
     "name": "stdout",
     "output_type": "stream",
     "text": [
      "2019-06-10 00:00:00 buy  20.0 \n",
      "2019-09-23 00:00:00 sell  26.48 Guadagno 6.48 \n",
      "2019-12-16 00:00:00 buy  24.99 \n",
      "2020-03-11 00:00:00 sell  23.5 Guadagno -1.4899999999999984 \n",
      "2020-04-20 00:00:00 buy  27.91 \n",
      "2020-06-16 00:00:00 sell  29.345 Guadagno 1.4349999999999987 \n",
      "Credito 0.0,  Guadagno 6.425000000000001 Prezzo medio :24.299999999999997 \n"
     ]
    },
    {
     "data": {
      "text/plain": [
       "26.440329218107003"
      ]
     },
     "execution_count": 159,
     "metadata": {},
     "output_type": "execute_result"
    }
   ],
   "source": [
    "df=auco\n",
    "import math\n",
    "credito=0\n",
    "lastbuy=0\n",
    "guadagno=0\n",
    "def buy(row):\n",
    "    global credito,lastbuy,buyed\n",
    "    print('{} buy  {} '.format(row.name,row['Close']))\n",
    "    credito=credito+1\n",
    "    lastbuy=row['Close']\n",
    "    buyed.append(lastbuy)\n",
    "def sell(row):\n",
    "    global credito,lastbuy,guadagno\n",
    "    g=(row['Close']-lastbuy)\n",
    "    guadagno=guadagno+g\n",
    "    print('{} sell  {} Guadagno {} '.format(row.name,row['Close'],g))\n",
    "    credito=credito-1\n",
    "    \n",
    "buyed=[]\n",
    "\n",
    "mm13=0\n",
    "mm50=None\n",
    "stato='START'\n",
    "#Posizione media veloce (per indicare l'entry point)\n",
    "POSIZONE_MV='START'\n",
    "BUY=False\n",
    "for index, row in df.iterrows():\n",
    "    #print('mm13 :{} mm50 {} stato {}'.format(mm13,mm50,stato))\n",
    "    if stato== 'START':\n",
    "        #print(stato)\n",
    "        mm50=row['MM50']\n",
    "        mm13=row['MM13']\n",
    "        if (math.isnan(mm50)|math.isnan(mm13)):\n",
    "            stato=='START'\n",
    "        else:\n",
    "            stato='NULLO' \n",
    "            if mm13>mm50:\n",
    "                POSIZONE_MV='SOPRA' \n",
    "            else :\n",
    "                POSIZONE_MV='SOTTO'\n",
    "    elif stato=='NULLO':\n",
    "        #print(stato)\n",
    "        if row['MM13']>row['MM50']:\n",
    "            # Se Media veloce SORPASSA media lenta\n",
    "            if POSIZONE_MV=='SOTTO':\n",
    "                buy(row)\n",
    "                stato='BUY'\n",
    "            POSIZONE_MV='SOPRA'\n",
    "        elif row['MM13']<row['MM50']:\n",
    "            POSIZONE_MV='SOTTO'\n",
    "            if stato== 'BUY':\n",
    "                sell(row) \n",
    "                stato='NULLO'\n",
    "        mm50=row['MM50']\n",
    "        mm13=row['MM13']\n",
    "    elif stato == 'BUY':\n",
    "        #print(stato)\n",
    "        if row['MM13']<row['MM50']:\n",
    "            sell(row) \n",
    "            stato='NULLO'\n",
    "            POSIZONE_MV='SOTTO'\n",
    "        mm50=row['MM50']\n",
    "        mm13=row['MM13']\n",
    "last=df.iloc[-1][2]\n",
    "prezzomedio=np.mean(buyed)\n",
    "print('Credito {},  Guadagno {} Prezzo medio :{} '.format((credito*last),guadagno,prezzomedio))\n",
    "100*guadagno/prezzomedio"
   ]
  },
  {
   "cell_type": "code",
   "execution_count": 156,
   "metadata": {},
   "outputs": [
    {
     "data": {
      "text/plain": [
       "24.299999999999997"
      ]
     },
     "execution_count": 156,
     "metadata": {},
     "output_type": "execute_result"
    }
   ],
   "source": [
    "np.mean(buyed)"
   ]
  },
  {
   "cell_type": "code",
   "execution_count": null,
   "metadata": {},
   "outputs": [],
   "source": []
  }
 ],
 "metadata": {
  "kernelspec": {
   "display_name": "Finantial",
   "language": "python",
   "name": "finantial"
  },
  "language_info": {
   "codemirror_mode": {
    "name": "ipython",
    "version": 3
   },
   "file_extension": ".py",
   "mimetype": "text/x-python",
   "name": "python",
   "nbconvert_exporter": "python",
   "pygments_lexer": "ipython3",
   "version": "3.7.7"
  }
 },
 "nbformat": 4,
 "nbformat_minor": 4
}
