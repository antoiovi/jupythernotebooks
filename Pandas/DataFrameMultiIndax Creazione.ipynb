{
 "cells": [
  {
   "cell_type": "markdown",
   "metadata": {},
   "source": [
    "# Creazione MultiIndex "
   ]
  },
  {
   "cell_type": "markdown",
   "metadata": {},
   "source": [
    "## MultiIndex da tuple\n",
    "### Esempio tratto dalla guida ufficiale "
   ]
  },
  {
   "cell_type": "code",
   "execution_count": 62,
   "metadata": {},
   "outputs": [],
   "source": [
    "import pandas as pd\n",
    "import numpy as np\n",
    "\n",
    "'''         colonne    1       2      3      4      5      6     7       8\n",
    "                [\n",
    "   livello 0 : name = first -->     ['bar', 'bar', 'baz', 'baz', 'foo', 'foo', 'qux', 'qux'],\n",
    "   livello 1 : name = second-->     ['one', 'two', 'one', 'two', 'one', 'two', 'one', 'two']\n",
    "                ]\n",
    "'''\n",
    "arrays = [['bar', 'bar', 'baz', 'baz', 'foo', 'foo', 'qux', 'qux'],\n",
    "        ['one', 'two', 'one', 'two', 'one', 'two', 'one', 'two']]\n",
    "tuples = list(zip(*arrays))\n",
    "index = pd.MultiIndex.from_tuples(tuples, names=['first', 'second'])\n",
    "\n",
    "''' \n",
    "        np.random.randn(3, 8)  --> 3 righe , 8 colonne \n",
    "'''\n",
    "\n",
    "df = pd.DataFrame(np.random.randn(3, 8), index=['A', 'B', 'C'], columns=index)"
   ]
  },
  {
   "cell_type": "code",
   "execution_count": 63,
   "metadata": {},
   "outputs": [
    {
     "data": {
      "text/plain": [
       "MultiIndex([('bar', 'one'),\n",
       "            ('bar', 'two'),\n",
       "            ('baz', 'one'),\n",
       "            ('baz', 'two'),\n",
       "            ('foo', 'one'),\n",
       "            ('foo', 'two'),\n",
       "            ('qux', 'one'),\n",
       "            ('qux', 'two')],\n",
       "           names=['first', 'second'])"
      ]
     },
     "execution_count": 63,
     "metadata": {},
     "output_type": "execute_result"
    }
   ],
   "source": [
    "'''\n",
    "Nome    -->  first  second \n",
    "Livello -->    0     1     \n",
    "MultiIndex([('bar', 'one'),\n",
    "            ('bar', 'two'),\n",
    "            ('baz', 'one'),\n",
    "            ('baz', 'two'),\n",
    "            ('foo', 'one'),\n",
    "            ('foo', 'two'),\n",
    "            ('qux', 'one'),\n",
    "            ('qux', 'two')],\n",
    "           names=['first', 'second'])\n",
    "'''\n",
    "index"
   ]
  },
  {
   "cell_type": "code",
   "execution_count": 42,
   "metadata": {},
   "outputs": [
    {
     "name": "stdout",
     "output_type": "stream",
     "text": [
      "Multindex : propieta` fondamentali\n",
      "LEVELS :\n",
      "[['bar', 'baz', 'foo', 'qux'], ['one', 'two']]\n",
      "Names :\n",
      "['first', 'second']\n",
      "Codes :\n",
      "[[0, 0, 1, 1, 2, 2, 3, 3], [0, 1, 0, 1, 0, 1, 0, 1]]\n"
     ]
    }
   ],
   "source": [
    "print('Multindex : propieta` fondamentali')\n",
    "print('LEVELS :')\n",
    "print(index.levels)\n",
    "print('Names :')\n",
    "print(index.names)\n",
    "print('Codes :')\n",
    "print(index.codes)"
   ]
  },
  {
   "cell_type": "markdown",
   "metadata": {},
   "source": [
    "## Spiegazione :\n",
    "\n",
    "#### list(zip(*arrays) ): \n",
    "    \n",
    "- l' operatore * (star) scompone l'array ( bidimensionale ) in ogni elemento base; \n",
    "- la funzione zip() restituisce un oggetto  a zip object cio'e un iteratore di tuple, dove la i-esima tupla contiene l'i-esimo elemento da ciascuno degli argomenti  The iterator stops when the shortest input iterable is exhausted. With a single iterable argument, it returns an iterator of 1-tuples. \n",
    "- quindi l'ggetto zip viene passato come parametro alla funzione list() che crea una lista di tuple.\n",
    "\n"
   ]
  },
  {
   "cell_type": "code",
   "execution_count": 5,
   "metadata": {},
   "outputs": [
    {
     "data": {
      "text/plain": [
       "[('bar', 'one'),\n",
       " ('bar', 'two'),\n",
       " ('baz', 'one'),\n",
       " ('baz', 'two'),\n",
       " ('foo', 'one'),\n",
       " ('foo', 'two'),\n",
       " ('qux', 'one'),\n",
       " ('qux', 'two')]"
      ]
     },
     "execution_count": 5,
     "metadata": {},
     "output_type": "execute_result"
    }
   ],
   "source": [
    "list(zip(*arrays))"
   ]
  },
  {
   "cell_type": "markdown",
   "metadata": {},
   "source": [
    "Viene quindi creato un pandas ***MultiIndex*** :"
   ]
  },
  {
   "cell_type": "code",
   "execution_count": 14,
   "metadata": {},
   "outputs": [
    {
     "data": {
      "text/plain": [
       "MultiIndex([('bar', 'one'),\n",
       "            ('bar', 'two'),\n",
       "            ('baz', 'one'),\n",
       "            ('baz', 'two'),\n",
       "            ('foo', 'one'),\n",
       "            ('foo', 'two'),\n",
       "            ('qux', 'one'),\n",
       "            ('qux', 'two')],\n",
       "           names=['first', 'second'])"
      ]
     },
     "execution_count": 14,
     "metadata": {},
     "output_type": "execute_result"
    }
   ],
   "source": [
    "pd.MultiIndex.from_tuples(tuples, names=['first', 'second'])"
   ]
  },
  {
   "cell_type": "markdown",
   "metadata": {},
   "source": [
    "Viene creato un array bidimensionale di 3 arrays, di 8 elementi ciascuno, ovvero una tabella con tre righe e 8 colonne :"
   ]
  },
  {
   "cell_type": "code",
   "execution_count": 37,
   "metadata": {},
   "outputs": [
    {
     "data": {
      "text/plain": [
       "FrozenList(['first', 'second', 'third'])"
      ]
     },
     "execution_count": 37,
     "metadata": {},
     "output_type": "execute_result"
    }
   ],
   "source": [
    "index.names"
   ]
  },
  {
   "cell_type": "code",
   "execution_count": 16,
   "metadata": {},
   "outputs": [
    {
     "data": {
      "text/plain": [
       "array([[ 1.42085025, -1.07552572,  0.05661205,  1.00344212,  0.60825994,\n",
       "         0.28666134, -0.10548615, -0.13467475],\n",
       "       [ 2.58756885,  1.22924712, -0.43138202, -0.09772374, -1.11874861,\n",
       "        -1.27147449, -0.74400236,  0.31706869],\n",
       "       [-2.210696  , -2.24802756, -0.43701484,  0.01504402,  1.24199428,\n",
       "         0.53015106,  0.89897939,  0.48728111]])"
      ]
     },
     "execution_count": 16,
     "metadata": {},
     "output_type": "execute_result"
    }
   ],
   "source": [
    "np.random.randn(3, 8)"
   ]
  },
  {
   "cell_type": "markdown",
   "metadata": {},
   "source": [
    "Creo il dataframe :\n",
    "- index : lindice delle righe \n",
    "- columns : viene passato il ***MultiIndex*** di 8 elementi"
   ]
  },
  {
   "cell_type": "code",
   "execution_count": 19,
   "metadata": {},
   "outputs": [
    {
     "data": {
      "text/html": [
       "<div>\n",
       "<style scoped>\n",
       "    .dataframe tbody tr th:only-of-type {\n",
       "        vertical-align: middle;\n",
       "    }\n",
       "\n",
       "    .dataframe tbody tr th {\n",
       "        vertical-align: top;\n",
       "    }\n",
       "\n",
       "    .dataframe thead tr th {\n",
       "        text-align: left;\n",
       "    }\n",
       "</style>\n",
       "<table border=\"1\" class=\"dataframe\">\n",
       "  <thead>\n",
       "    <tr>\n",
       "      <th>first</th>\n",
       "      <th colspan=\"2\" halign=\"left\">bar</th>\n",
       "      <th colspan=\"2\" halign=\"left\">baz</th>\n",
       "      <th colspan=\"2\" halign=\"left\">foo</th>\n",
       "      <th colspan=\"2\" halign=\"left\">qux</th>\n",
       "    </tr>\n",
       "    <tr>\n",
       "      <th>second</th>\n",
       "      <th>one</th>\n",
       "      <th>two</th>\n",
       "      <th>one</th>\n",
       "      <th>two</th>\n",
       "      <th>one</th>\n",
       "      <th>two</th>\n",
       "      <th>one</th>\n",
       "      <th>two</th>\n",
       "    </tr>\n",
       "  </thead>\n",
       "  <tbody>\n",
       "    <tr>\n",
       "      <th>A</th>\n",
       "      <td>-0.290167</td>\n",
       "      <td>-0.540605</td>\n",
       "      <td>2.375592</td>\n",
       "      <td>0.695244</td>\n",
       "      <td>0.475548</td>\n",
       "      <td>1.020698</td>\n",
       "      <td>-1.796938</td>\n",
       "      <td>-0.649318</td>\n",
       "    </tr>\n",
       "    <tr>\n",
       "      <th>B</th>\n",
       "      <td>0.507421</td>\n",
       "      <td>-1.660335</td>\n",
       "      <td>0.820755</td>\n",
       "      <td>0.434711</td>\n",
       "      <td>0.547005</td>\n",
       "      <td>1.239010</td>\n",
       "      <td>-0.543008</td>\n",
       "      <td>1.225654</td>\n",
       "    </tr>\n",
       "    <tr>\n",
       "      <th>C</th>\n",
       "      <td>0.695770</td>\n",
       "      <td>-0.128786</td>\n",
       "      <td>0.155346</td>\n",
       "      <td>-1.195229</td>\n",
       "      <td>0.481559</td>\n",
       "      <td>1.451200</td>\n",
       "      <td>1.013311</td>\n",
       "      <td>0.077140</td>\n",
       "    </tr>\n",
       "  </tbody>\n",
       "</table>\n",
       "</div>"
      ],
      "text/plain": [
       "first        bar                 baz                 foo                 qux  \\\n",
       "second       one       two       one       two       one       two       one   \n",
       "A      -0.290167 -0.540605  2.375592  0.695244  0.475548  1.020698 -1.796938   \n",
       "B       0.507421 -1.660335  0.820755  0.434711  0.547005  1.239010 -0.543008   \n",
       "C       0.695770 -0.128786  0.155346 -1.195229  0.481559  1.451200  1.013311   \n",
       "\n",
       "first             \n",
       "second       two  \n",
       "A      -0.649318  \n",
       "B       1.225654  \n",
       "C       0.077140  "
      ]
     },
     "execution_count": 19,
     "metadata": {},
     "output_type": "execute_result"
    }
   ],
   "source": [
    "pd.DataFrame(np.random.randn(3, 8), index=['A', 'B', 'C'], columns=index)"
   ]
  },
  {
   "cell_type": "code",
   "execution_count": 21,
   "metadata": {},
   "outputs": [
    {
     "data": {
      "text/html": [
       "<div>\n",
       "<style scoped>\n",
       "    .dataframe tbody tr th:only-of-type {\n",
       "        vertical-align: middle;\n",
       "    }\n",
       "\n",
       "    .dataframe tbody tr th {\n",
       "        vertical-align: top;\n",
       "    }\n",
       "\n",
       "    .dataframe thead tr th {\n",
       "        text-align: left;\n",
       "    }\n",
       "</style>\n",
       "<table border=\"1\" class=\"dataframe\">\n",
       "  <thead>\n",
       "    <tr>\n",
       "      <th>first</th>\n",
       "      <th colspan=\"2\" halign=\"left\">bar</th>\n",
       "      <th>baAAz</th>\n",
       "      <th>baz</th>\n",
       "      <th colspan=\"2\" halign=\"left\">foo</th>\n",
       "      <th colspan=\"2\" halign=\"left\">qux</th>\n",
       "    </tr>\n",
       "    <tr>\n",
       "      <th>second</th>\n",
       "      <th>one</th>\n",
       "      <th>two</th>\n",
       "      <th>one</th>\n",
       "      <th>two</th>\n",
       "      <th>one</th>\n",
       "      <th>two</th>\n",
       "      <th>one</th>\n",
       "      <th>two</th>\n",
       "    </tr>\n",
       "  </thead>\n",
       "  <tbody>\n",
       "    <tr>\n",
       "      <th>A</th>\n",
       "      <td>0.783058</td>\n",
       "      <td>-0.642049</td>\n",
       "      <td>-0.313852</td>\n",
       "      <td>0.585943</td>\n",
       "      <td>0.742195</td>\n",
       "      <td>-0.322761</td>\n",
       "      <td>1.182186</td>\n",
       "      <td>0.478932</td>\n",
       "    </tr>\n",
       "    <tr>\n",
       "      <th>B</th>\n",
       "      <td>0.245274</td>\n",
       "      <td>-0.723848</td>\n",
       "      <td>0.146783</td>\n",
       "      <td>0.603417</td>\n",
       "      <td>0.684211</td>\n",
       "      <td>0.506597</td>\n",
       "      <td>0.239184</td>\n",
       "      <td>-1.220607</td>\n",
       "    </tr>\n",
       "    <tr>\n",
       "      <th>C</th>\n",
       "      <td>-0.225878</td>\n",
       "      <td>-0.594039</td>\n",
       "      <td>-1.911912</td>\n",
       "      <td>-0.061567</td>\n",
       "      <td>-0.674162</td>\n",
       "      <td>0.458428</td>\n",
       "      <td>0.975964</td>\n",
       "      <td>0.113631</td>\n",
       "    </tr>\n",
       "  </tbody>\n",
       "</table>\n",
       "</div>"
      ],
      "text/plain": [
       "first        bar               baAAz       baz       foo                 qux  \\\n",
       "second       one       two       one       two       one       two       one   \n",
       "A       0.783058 -0.642049 -0.313852  0.585943  0.742195 -0.322761  1.182186   \n",
       "B       0.245274 -0.723848  0.146783  0.603417  0.684211  0.506597  0.239184   \n",
       "C      -0.225878 -0.594039 -1.911912 -0.061567 -0.674162  0.458428  0.975964   \n",
       "\n",
       "first             \n",
       "second       two  \n",
       "A       0.478932  \n",
       "B      -1.220607  \n",
       "C       0.113631  "
      ]
     },
     "execution_count": 21,
     "metadata": {},
     "output_type": "execute_result"
    }
   ],
   "source": [
    "df"
   ]
  },
  {
   "cell_type": "markdown",
   "metadata": {},
   "source": [
    "Posso anche aggiungere un ***livello*** :\n",
    "- arrays = [ ['AA' ...], ['bar', ...],['one', ...]]\n",
    "-  Bisogna aggiungere anche un ***terzo nome ***\n",
    "  - index = pd.MultiIndex.from_tuples(tuples, ***names=['first', 'second','third']***)"
   ]
  },
  {
   "cell_type": "code",
   "execution_count": 56,
   "metadata": {},
   "outputs": [
    {
     "data": {
      "text/html": [
       "<div>\n",
       "<style scoped>\n",
       "    .dataframe tbody tr th:only-of-type {\n",
       "        vertical-align: middle;\n",
       "    }\n",
       "\n",
       "    .dataframe tbody tr th {\n",
       "        vertical-align: top;\n",
       "    }\n",
       "\n",
       "    .dataframe thead tr th {\n",
       "        text-align: left;\n",
       "    }\n",
       "</style>\n",
       "<table border=\"1\" class=\"dataframe\">\n",
       "  <thead>\n",
       "    <tr>\n",
       "      <th>first</th>\n",
       "      <th colspan=\"3\" halign=\"left\">AA</th>\n",
       "      <th colspan=\"5\" halign=\"left\">BBB</th>\n",
       "    </tr>\n",
       "    <tr>\n",
       "      <th>second</th>\n",
       "      <th colspan=\"2\" halign=\"left\">bar</th>\n",
       "      <th>baz</th>\n",
       "      <th>baz</th>\n",
       "      <th colspan=\"2\" halign=\"left\">foo</th>\n",
       "      <th colspan=\"2\" halign=\"left\">qux</th>\n",
       "    </tr>\n",
       "    <tr>\n",
       "      <th>third</th>\n",
       "      <th>one</th>\n",
       "      <th>two</th>\n",
       "      <th>one</th>\n",
       "      <th>two</th>\n",
       "      <th>one</th>\n",
       "      <th>two</th>\n",
       "      <th>one</th>\n",
       "      <th>two</th>\n",
       "    </tr>\n",
       "  </thead>\n",
       "  <tbody>\n",
       "    <tr>\n",
       "      <th>A</th>\n",
       "      <td>0.843993</td>\n",
       "      <td>0.371232</td>\n",
       "      <td>-1.555755</td>\n",
       "      <td>0.877928</td>\n",
       "      <td>-1.070578</td>\n",
       "      <td>0.956910</td>\n",
       "      <td>1.222008</td>\n",
       "      <td>1.007629</td>\n",
       "    </tr>\n",
       "    <tr>\n",
       "      <th>B</th>\n",
       "      <td>0.507904</td>\n",
       "      <td>-0.963002</td>\n",
       "      <td>-0.185847</td>\n",
       "      <td>0.499712</td>\n",
       "      <td>0.069413</td>\n",
       "      <td>-1.003651</td>\n",
       "      <td>-0.609588</td>\n",
       "      <td>-0.433699</td>\n",
       "    </tr>\n",
       "    <tr>\n",
       "      <th>C</th>\n",
       "      <td>-0.026223</td>\n",
       "      <td>0.570568</td>\n",
       "      <td>0.434825</td>\n",
       "      <td>-0.541166</td>\n",
       "      <td>0.744470</td>\n",
       "      <td>-0.545312</td>\n",
       "      <td>1.236274</td>\n",
       "      <td>-0.752988</td>\n",
       "    </tr>\n",
       "  </tbody>\n",
       "</table>\n",
       "</div>"
      ],
      "text/plain": [
       "first         AA                           BBB                                \\\n",
       "second       bar                 baz       baz       foo                 qux   \n",
       "third        one       two       one       two       one       two       one   \n",
       "A       0.843993  0.371232 -1.555755  0.877928 -1.070578  0.956910  1.222008   \n",
       "B       0.507904 -0.963002 -0.185847  0.499712  0.069413 -1.003651 -0.609588   \n",
       "C      -0.026223  0.570568  0.434825 -0.541166  0.744470 -0.545312  1.236274   \n",
       "\n",
       "first             \n",
       "second            \n",
       "third        two  \n",
       "A       1.007629  \n",
       "B      -0.433699  \n",
       "C      -0.752988  "
      ]
     },
     "execution_count": 56,
     "metadata": {},
     "output_type": "execute_result"
    }
   ],
   "source": [
    "import pandas as pd\n",
    "import numpy as np\n",
    "\n",
    "'''         colonne    1       2      3      4      5      6     7       8\n",
    "                [\n",
    "    livello 0 name= first  -->   ['AA' ,  'AA',  'AA', 'BBB', 'BBB', 'BBB', 'BBB', 'BBB'],\n",
    "    livello 1 name= second -->   ['bar', 'bar', 'baz', 'baz', 'foo', 'foo', 'qux', 'qux'],\n",
    "    livello 2 name= third  -->   ['one', 'two', 'one', 'two', 'one', 'two', 'one', 'two']\n",
    "                ]\n",
    "'''\n",
    "arrays = [\n",
    "        ['AA' ,  'AA',  'AA', 'BBB', 'BBB', 'BBB', 'BBB', 'BBB'],\n",
    "        ['bar', 'bar', 'baz', 'baz', 'foo', 'foo', 'qux', 'qux'],\n",
    "        ['one', 'two', 'one', 'two', 'one', 'two', 'one', 'two']]\n",
    "tuples = list(zip(*arrays))\n",
    "\n",
    "''' METTERE UN NOME PER OGNI LIVELLO   '''\n",
    "index = pd.MultiIndex.from_tuples(tuples, names=['first', 'second','third'])\n",
    "index\n",
    "\n",
    "''' \n",
    "        np.random.randn(3, 8)  --> 3 righe , 8 colonne \n",
    "'''\n",
    "\n",
    "pd.DataFrame(np.random.randn(3, 8), index=['A', 'B', 'C'], columns=index)"
   ]
  },
  {
   "cell_type": "code",
   "execution_count": 61,
   "metadata": {},
   "outputs": [
    {
     "data": {
      "text/plain": [
       "MultiIndex([( 'AA', 'bar', 'one'),\n",
       "            ( 'AA', 'bar', 'two'),\n",
       "            ( 'AA', 'baz', 'one'),\n",
       "            ('BBB', 'baz', 'two'),\n",
       "            ('BBB', 'foo', 'one'),\n",
       "            ('BBB', 'foo', 'two'),\n",
       "            ('BBB', 'qux', 'one'),\n",
       "            ('BBB', 'qux', 'two')],\n",
       "           names=['first', 'second', 'third'])"
      ]
     },
     "execution_count": 61,
     "metadata": {},
     "output_type": "execute_result"
    }
   ],
   "source": [
    "'''\n",
    "Nome    -->  first  second  third\n",
    "Livello -->    0     1       2\n",
    "MultiIndex([( 'AA', 'bar', 'one'),\n",
    "            ( 'AA', 'bar', 'two'),\n",
    "            ( 'AA', 'baz', 'one'),\n",
    "            ('BBB', 'baz', 'two'),\n",
    "            ('BBB', 'foo', 'one'),\n",
    "            ('BBB', 'foo', 'two'),\n",
    "            ('BBB', 'qux', 'one'),\n",
    "            ('BBB', 'qux', 'two')],\n",
    "'''\n",
    "index"
   ]
  },
  {
   "cell_type": "markdown",
   "metadata": {},
   "source": [
    "# Creazione MultiIndex VUOTO "
   ]
  },
  {
   "cell_type": "markdown",
   "metadata": {},
   "source": [
    "## Costruttore : pandas.MultiIndex()"
   ]
  },
  {
   "cell_type": "markdown",
   "metadata": {},
   "source": [
    "### class pandas.MultiIndex(levels=None, codes=None, sortorder=None, names=None, dtype=None, copy=False, name=None, verify_integrity=True, _set_identity=True)[source]\n",
    "\n",
    "- Parameters\n",
    "\n",
    "***levels***  : sequence of arrays\n",
    "            The unique labels for each level.\n",
    "            \n",
    "***codes***: sequence of arrays\n",
    "            Integers for each level designating which label at each location.\n",
    "            New in version 0.24.0.\n",
    "            \n",
    "sortorder : optional int\n",
    "            Level of sortedness (must be lexicographically sorted by that level).\n",
    "            \n",
    "***names*** :optional sequence of objects\n",
    "            Names for each of the index levels. (name is accepted for compat).\n",
    "            copybool, default False\n",
    "\n"
   ]
  },
  {
   "cell_type": "code",
   "execution_count": 48,
   "metadata": {},
   "outputs": [],
   "source": [
    "# labels has been replaced with codes in 0.25.1 \n",
    "index = pd.MultiIndex(levels=[[],[]],\n",
    "                             codes=[[],[]],\n",
    "                             names=[u'Nome1', u'Nome2'])"
   ]
  },
  {
   "cell_type": "code",
   "execution_count": 49,
   "metadata": {},
   "outputs": [
    {
     "data": {
      "text/plain": [
       "MultiIndex([], names=['Nome1', 'Nome2'])"
      ]
     },
     "execution_count": 49,
     "metadata": {},
     "output_type": "execute_result"
    }
   ],
   "source": [
    "index"
   ]
  },
  {
   "cell_type": "code",
   "execution_count": 81,
   "metadata": {},
   "outputs": [],
   "source": [
    "# labels has been replaced with codes in 0.25.1 \n",
    "index = pd.MultiIndex(levels=[['A','B'],['a','b','c']],\n",
    "                             codes=[[0, 0],[1,2]],\n",
    "                             names=[u'Nome1', u'Nome2'])"
   ]
  },
  {
   "cell_type": "code",
   "execution_count": 82,
   "metadata": {},
   "outputs": [
    {
     "data": {
      "text/plain": [
       "MultiIndex([('A', 'b'),\n",
       "            ('A', 'c')],\n",
       "           names=['Nome1', 'Nome2'])"
      ]
     },
     "execution_count": 82,
     "metadata": {},
     "output_type": "execute_result"
    }
   ],
   "source": [
    "'''\n",
    "Name    -->  Nome1  Nome2\n",
    "levels  -->    0   1\n",
    "MultiIndex([('A', 'b'),\n",
    "            ('A', 'c')],\n",
    "           names=['Nome1', 'Nome2'])\n",
    "'''\n",
    "index"
   ]
  },
  {
   "cell_type": "code",
   "execution_count": 68,
   "metadata": {},
   "outputs": [
    {
     "name": "stdout",
     "output_type": "stream",
     "text": [
      "Multindex : propieta` fondamentali\n",
      "LEVELS :\n",
      "[['A', 'B'], ['a', 'b', 'c']]\n",
      "Names :\n",
      "['Nome1', 'Nome2']\n",
      "Codes :\n",
      "[[0, 0], [1, 2]]\n"
     ]
    }
   ],
   "source": [
    "print('Multindex : propieta` fondamentali')\n",
    "print('LEVELS :')\n",
    "print(index.levels)\n",
    "print('Names :')\n",
    "print(index.names)\n",
    "print('Codes :')\n",
    "print(index.codes)"
   ]
  },
  {
   "cell_type": "code",
   "execution_count": 83,
   "metadata": {},
   "outputs": [
    {
     "name": "stdout",
     "output_type": "stream",
     "text": [
      "[[0, 0], [1, 2]]\n"
     ]
    }
   ],
   "source": [
    "'''\n",
    "Multindex : propieta` fondamentali\n",
    "LEVELS :\n",
    "[['A', 'B'], ['a', 'b', 'c']]\n",
    "Codes :\n",
    "[[0, 0], [1, 2]]\n",
    "\n",
    "Codes\n",
    "[0, _] --->  ('A','b')\n",
    "[1, _]\n",
    "\n",
    "[_, 0] --->  ('A','c')\n",
    "[_, 2] \n",
    "\n",
    "'''\n",
    "print(index.codes)"
   ]
  },
  {
   "cell_type": "code",
   "execution_count": null,
   "metadata": {},
   "outputs": [],
   "source": []
  }
 ],
 "metadata": {
  "kernelspec": {
   "display_name": "Python 3",
   "language": "python",
   "name": "python3"
  },
  "language_info": {
   "codemirror_mode": {
    "name": "ipython",
    "version": 3
   },
   "file_extension": ".py",
   "mimetype": "text/x-python",
   "name": "python",
   "nbconvert_exporter": "python",
   "pygments_lexer": "ipython3",
   "version": "3.7.7"
  }
 },
 "nbformat": 4,
 "nbformat_minor": 4
}
