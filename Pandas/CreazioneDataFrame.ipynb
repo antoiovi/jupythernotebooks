{
 "cells": [
  {
   "cell_type": "code",
   "execution_count": 37,
   "metadata": {},
   "outputs": [
    {
     "data": {
      "text/html": [
       "<style>.container { width:800px !important; }</style>"
      ],
      "text/plain": [
       "<IPython.core.display.HTML object>"
      ]
     },
     "metadata": {},
     "output_type": "display_data"
    }
   ],
   "source": [
    "from IPython.core.display import display, HTML\n",
    "display(HTML(\"<style>.container { width:800px !important; }</style>\"))"
   ]
  },
  {
   "cell_type": "markdown",
   "metadata": {},
   "source": [
    "# Creazione di DataFrame \n",
    "In questo notebook presentiamo una raccolta di modi per creare DataFrame al volo, senza file, da usare per esercizi o come  esempi.\n",
    "Molto spesso per proivare delle funzionalità abbiamo bisogno di creare dataframe di esempio, anche di notevoli dimensioni. Qui mettiamo il codice per crerare velocemente alcune tabelle."
   ]
  },
  {
   "cell_type": "markdown",
   "metadata": {},
   "source": [
    "## Empty DataFrame"
   ]
  },
  {
   "cell_type": "code",
   "execution_count": 30,
   "metadata": {},
   "outputs": [
    {
     "data": {
      "text/html": [
       "<div>\n",
       "<style scoped>\n",
       "    .dataframe tbody tr th:only-of-type {\n",
       "        vertical-align: middle;\n",
       "    }\n",
       "\n",
       "    .dataframe tbody tr th {\n",
       "        vertical-align: top;\n",
       "    }\n",
       "\n",
       "    .dataframe thead th {\n",
       "        text-align: right;\n",
       "    }\n",
       "</style>\n",
       "<table border=\"1\" class=\"dataframe\">\n",
       "  <thead>\n",
       "    <tr style=\"text-align: right;\">\n",
       "      <th></th>\n",
       "    </tr>\n",
       "  </thead>\n",
       "  <tbody>\n",
       "  </tbody>\n",
       "</table>\n",
       "</div>"
      ],
      "text/plain": [
       "Empty DataFrame\n",
       "Columns: []\n",
       "Index: []"
      ]
     },
     "metadata": {},
     "output_type": "display_data"
    }
   ],
   "source": [
    "import pandas as pd\n",
    "df=pd.DataFrame()\n",
    "display(df)\n"
   ]
  },
  {
   "cell_type": "markdown",
   "metadata": {},
   "source": [
    "## Creazione DataFrame da array a dictionary\n",
    "Creiamo un dataframe  partendo da un dictionary, a sua volta creato tramite array.\n",
    "Il dataframe rappresenta delle misure ottenute da a dei sensori (pressione e temperatura) in diversi periodi, per diverse citta'.\n"
   ]
  },
  {
   "cell_type": "code",
   "execution_count": 31,
   "metadata": {},
   "outputs": [
    {
     "data": {
      "text/html": [
       "<div>\n",
       "<style scoped>\n",
       "    .dataframe tbody tr th:only-of-type {\n",
       "        vertical-align: middle;\n",
       "    }\n",
       "\n",
       "    .dataframe tbody tr th {\n",
       "        vertical-align: top;\n",
       "    }\n",
       "\n",
       "    .dataframe thead th {\n",
       "        text-align: right;\n",
       "    }\n",
       "</style>\n",
       "<table border=\"1\" class=\"dataframe\">\n",
       "  <thead>\n",
       "    <tr style=\"text-align: right;\">\n",
       "      <th></th>\n",
       "      <th>A</th>\n",
       "      <th>B</th>\n",
       "    </tr>\n",
       "  </thead>\n",
       "  <tbody>\n",
       "    <tr>\n",
       "      <th>0</th>\n",
       "      <td>a1</td>\n",
       "      <td>1</td>\n",
       "    </tr>\n",
       "    <tr>\n",
       "      <th>1</th>\n",
       "      <td>a2</td>\n",
       "      <td>2</td>\n",
       "    </tr>\n",
       "    <tr>\n",
       "      <th>2</th>\n",
       "      <td>a3</td>\n",
       "      <td>3</td>\n",
       "    </tr>\n",
       "    <tr>\n",
       "      <th>3</th>\n",
       "      <td>a4</td>\n",
       "      <td>4</td>\n",
       "    </tr>\n",
       "  </tbody>\n",
       "</table>\n",
       "</div>"
      ],
      "text/plain": [
       "    A  B\n",
       "0  a1  1\n",
       "1  a2  2\n",
       "2  a3  3\n",
       "3  a4  4"
      ]
     },
     "metadata": {},
     "output_type": "display_data"
    }
   ],
   "source": [
    "import pandas as pd\n",
    "dati={'A':['a1','a2','a3','a4'],'B':[1,2,3,4]}\n",
    "df=pd.DataFrame(dati)\n",
    "display(df)"
   ]
  },
  {
   "cell_type": "markdown",
   "metadata": {},
   "source": [
    "## Creazine DataFrame da numpy array\n",
    "( Esempio tratto dalla guida ufficiale)"
   ]
  },
  {
   "cell_type": "code",
   "execution_count": 32,
   "metadata": {},
   "outputs": [
    {
     "data": {
      "text/html": [
       "<div>\n",
       "<style scoped>\n",
       "    .dataframe tbody tr th:only-of-type {\n",
       "        vertical-align: middle;\n",
       "    }\n",
       "\n",
       "    .dataframe tbody tr th {\n",
       "        vertical-align: top;\n",
       "    }\n",
       "\n",
       "    .dataframe thead th {\n",
       "        text-align: right;\n",
       "    }\n",
       "</style>\n",
       "<table border=\"1\" class=\"dataframe\">\n",
       "  <thead>\n",
       "    <tr style=\"text-align: right;\">\n",
       "      <th></th>\n",
       "      <th>a</th>\n",
       "      <th>b</th>\n",
       "      <th>c</th>\n",
       "    </tr>\n",
       "  </thead>\n",
       "  <tbody>\n",
       "    <tr>\n",
       "      <th>0</th>\n",
       "      <td>1</td>\n",
       "      <td>2</td>\n",
       "      <td>3</td>\n",
       "    </tr>\n",
       "    <tr>\n",
       "      <th>1</th>\n",
       "      <td>4</td>\n",
       "      <td>5</td>\n",
       "      <td>6</td>\n",
       "    </tr>\n",
       "    <tr>\n",
       "      <th>2</th>\n",
       "      <td>7</td>\n",
       "      <td>8</td>\n",
       "      <td>9</td>\n",
       "    </tr>\n",
       "  </tbody>\n",
       "</table>\n",
       "</div>"
      ],
      "text/plain": [
       "   a  b  c\n",
       "0  1  2  3\n",
       "1  4  5  6\n",
       "2  7  8  9"
      ]
     },
     "metadata": {},
     "output_type": "display_data"
    }
   ],
   "source": [
    "import pandas as pd\n",
    "df = pd.DataFrame(np.array([[1, 2, 3], [4, 5, 6], [7, 8, 9]]),columns=['a', 'b', 'c'])\n",
    "display(df)"
   ]
  },
  {
   "cell_type": "markdown",
   "metadata": {},
   "source": [
    "# Creazione di un data frame con valori casuali\n",
    "## Esempio 1\n",
    "\n",
    "Per aumentare il numero di righe 'e sufficiente aumentare il numero di date e/o il numero di val_col1"
   ]
  },
  {
   "cell_type": "code",
   "execution_count": 6,
   "metadata": {},
   "outputs": [
    {
     "data": {
      "text/html": [
       "<div>\n",
       "<style scoped>\n",
       "    .dataframe tbody tr th:only-of-type {\n",
       "        vertical-align: middle;\n",
       "    }\n",
       "\n",
       "    .dataframe tbody tr th {\n",
       "        vertical-align: top;\n",
       "    }\n",
       "\n",
       "    .dataframe thead th {\n",
       "        text-align: right;\n",
       "    }\n",
       "</style>\n",
       "<table border=\"1\" class=\"dataframe\">\n",
       "  <thead>\n",
       "    <tr style=\"text-align: right;\">\n",
       "      <th></th>\n",
       "      <th>data</th>\n",
       "      <th>col1</th>\n",
       "      <th>col2</th>\n",
       "    </tr>\n",
       "  </thead>\n",
       "  <tbody>\n",
       "    <tr>\n",
       "      <th>0</th>\n",
       "      <td>10/01/2019</td>\n",
       "      <td>A</td>\n",
       "      <td>16</td>\n",
       "    </tr>\n",
       "    <tr>\n",
       "      <th>1</th>\n",
       "      <td>10/01/2019</td>\n",
       "      <td>B</td>\n",
       "      <td>16</td>\n",
       "    </tr>\n",
       "    <tr>\n",
       "      <th>2</th>\n",
       "      <td>11/01/2019</td>\n",
       "      <td>A</td>\n",
       "      <td>11</td>\n",
       "    </tr>\n",
       "    <tr>\n",
       "      <th>3</th>\n",
       "      <td>11/01/2019</td>\n",
       "      <td>B</td>\n",
       "      <td>12</td>\n",
       "    </tr>\n",
       "    <tr>\n",
       "      <th>4</th>\n",
       "      <td>12/01/2019</td>\n",
       "      <td>A</td>\n",
       "      <td>18</td>\n",
       "    </tr>\n",
       "    <tr>\n",
       "      <th>5</th>\n",
       "      <td>12/01/2019</td>\n",
       "      <td>B</td>\n",
       "      <td>11</td>\n",
       "    </tr>\n",
       "  </tbody>\n",
       "</table>\n",
       "</div>"
      ],
      "text/plain": [
       "         data col1  col2\n",
       "0  10/01/2019    A    16\n",
       "1  10/01/2019    B    16\n",
       "2  11/01/2019    A    11\n",
       "3  11/01/2019    B    12\n",
       "4  12/01/2019    A    18\n",
       "5  12/01/2019    B    11"
      ]
     },
     "metadata": {},
     "output_type": "display_data"
    }
   ],
   "source": [
    "import pandas as pd\n",
    "import numpy as np\n",
    "\n",
    "dates    =   ['10/01/2019',  '11/01/2019','12/01/2019' ]\n",
    "val_col1=['A','B']\n",
    "data=[]\n",
    "col1=[]\n",
    "col2=[]\n",
    "\n",
    "for d in dates:\n",
    "    for v in val_col1:\n",
    "        data.append(d)\n",
    "        col1.append(v)\n",
    "        col2.append(np.random.randint(10,20))\n",
    "\n",
    "tab={'data':data,'col1':col1,'col2':col2}\n",
    "df=pd.DataFrame(tab)\n",
    "df['data']=pd.to_datetime(df['data'],format='%d/%m/%Y')\n",
    "df['data']=df['data'].dt.strftime('%d/%m/%Y')\n",
    "display(df)"
   ]
  },
  {
   "cell_type": "markdown",
   "metadata": {},
   "source": [
    "## Esempio 2\n",
    "Per aumentare il numero di righe 'e sufficiente aumentare il numero di date e/o il numero di titoli.\n",
    "\n",
    "Per aumentare il numero di colonne bisogna creare  un nuovo array e usre il metodo append nel ciclo for piu' interno."
   ]
  },
  {
   "cell_type": "code",
   "execution_count": 40,
   "metadata": {},
   "outputs": [
    {
     "data": {
      "text/html": [
       "<div>\n",
       "<style scoped>\n",
       "    .dataframe tbody tr th:only-of-type {\n",
       "        vertical-align: middle;\n",
       "    }\n",
       "\n",
       "    .dataframe tbody tr th {\n",
       "        vertical-align: top;\n",
       "    }\n",
       "\n",
       "    .dataframe thead th {\n",
       "        text-align: right;\n",
       "    }\n",
       "</style>\n",
       "<table border=\"1\" class=\"dataframe\">\n",
       "  <thead>\n",
       "    <tr style=\"text-align: right;\">\n",
       "      <th></th>\n",
       "      <th>data</th>\n",
       "      <th>Titolo</th>\n",
       "      <th>Min</th>\n",
       "      <th>Max</th>\n",
       "    </tr>\n",
       "  </thead>\n",
       "  <tbody>\n",
       "    <tr>\n",
       "      <th>0</th>\n",
       "      <td>10/01/2019</td>\n",
       "      <td>DownJones</td>\n",
       "      <td>15136</td>\n",
       "      <td>15531</td>\n",
       "    </tr>\n",
       "    <tr>\n",
       "      <th>1</th>\n",
       "      <td>10/01/2019</td>\n",
       "      <td>Nasdaq</td>\n",
       "      <td>8458</td>\n",
       "      <td>8533</td>\n",
       "    </tr>\n",
       "    <tr>\n",
       "      <th>2</th>\n",
       "      <td>11/01/2019</td>\n",
       "      <td>DownJones</td>\n",
       "      <td>15036</td>\n",
       "      <td>15730</td>\n",
       "    </tr>\n",
       "    <tr>\n",
       "      <th>3</th>\n",
       "      <td>11/01/2019</td>\n",
       "      <td>Nasdaq</td>\n",
       "      <td>8495</td>\n",
       "      <td>8540</td>\n",
       "    </tr>\n",
       "    <tr>\n",
       "      <th>4</th>\n",
       "      <td>12/01/2019</td>\n",
       "      <td>DownJones</td>\n",
       "      <td>15036</td>\n",
       "      <td>15636</td>\n",
       "    </tr>\n",
       "    <tr>\n",
       "      <th>5</th>\n",
       "      <td>12/01/2019</td>\n",
       "      <td>Nasdaq</td>\n",
       "      <td>8439</td>\n",
       "      <td>8581</td>\n",
       "    </tr>\n",
       "  </tbody>\n",
       "</table>\n",
       "</div>"
      ],
      "text/plain": [
       "         data     Titolo    Min    Max\n",
       "0  10/01/2019  DownJones  15136  15531\n",
       "1  10/01/2019     Nasdaq   8458   8533\n",
       "2  11/01/2019  DownJones  15036  15730\n",
       "3  11/01/2019     Nasdaq   8495   8540\n",
       "4  12/01/2019  DownJones  15036  15636\n",
       "5  12/01/2019     Nasdaq   8439   8581"
      ]
     },
     "metadata": {},
     "output_type": "display_data"
    }
   ],
   "source": [
    "import pandas as pd\n",
    "import numpy as np\n",
    "\n",
    "dates    =   ['10/01/2019',  '11/01/2019','12/01/2019' ]\n",
    "titoli=['DownJones','Nasdaq']\n",
    "data=[]\n",
    "titolo=[]\n",
    "val_min=[]\n",
    "val_max=[]\n",
    "\n",
    "min_val=lambda k : np.random.randint(15000,15500)   if k=='DownJones' else np.random.randint(8400,8500)\n",
    "max_val =lambda k : np.random.randint(15500,16000) if  k=='DownJones' else np.random.randint(8500,8600)\n",
    "\n",
    "\n",
    "for d in dates:\n",
    "    for t in titoli:\n",
    "        data.append(d)\n",
    "        titolo.append(t)\n",
    "        val_min.append(min_val(t))\n",
    "        val_max.append(max_val(t))\n",
    "\n",
    "tab={'data':data,'Titolo':titolo,'Min':val_min,'Max':val_max}\n",
    "df=pd.DataFrame(tab)\n",
    "df['data']=pd.to_datetime(df['data'],format='%d/%m/%Y')\n",
    "df['data']=df['data'].dt.strftime('%d/%m/%Y')\n",
    "display(df)"
   ]
  },
  {
   "cell_type": "markdown",
   "metadata": {},
   "source": [
    "## Esempio 3\n",
    "Per aumentare il numero di righe 'e sufficiente aumentare il numero di date e/o il numero di citta' , e/o il numero di sesorsi. \n",
    "\n",
    "Per aumentare il numero di colonne bisogna creare  un nuovo array e usre il metodo append nel ciclo for piu' interno.\n",
    "\n",
    "In questo esempio si utilizzano delle lambda functions per creare dei valori casuali per le colonne valore minimo e valore massimo in base al tipo di sensore."
   ]
  },
  {
   "cell_type": "code",
   "execution_count": 33,
   "metadata": {},
   "outputs": [
    {
     "data": {
      "text/html": [
       "<div>\n",
       "<style scoped>\n",
       "    .dataframe tbody tr th:only-of-type {\n",
       "        vertical-align: middle;\n",
       "    }\n",
       "\n",
       "    .dataframe tbody tr th {\n",
       "        vertical-align: top;\n",
       "    }\n",
       "\n",
       "    .dataframe thead th {\n",
       "        text-align: right;\n",
       "    }\n",
       "</style>\n",
       "<table border=\"1\" class=\"dataframe\">\n",
       "  <thead>\n",
       "    <tr style=\"text-align: right;\">\n",
       "      <th></th>\n",
       "      <th>data</th>\n",
       "      <th>city</th>\n",
       "      <th>Sensor</th>\n",
       "      <th>Min</th>\n",
       "      <th>Max</th>\n",
       "    </tr>\n",
       "  </thead>\n",
       "  <tbody>\n",
       "    <tr>\n",
       "      <th>0</th>\n",
       "      <td>10/01/2019</td>\n",
       "      <td>NewYork</td>\n",
       "      <td>Pressure</td>\n",
       "      <td>962</td>\n",
       "      <td>988</td>\n",
       "    </tr>\n",
       "    <tr>\n",
       "      <th>1</th>\n",
       "      <td>10/01/2019</td>\n",
       "      <td>NewYork</td>\n",
       "      <td>Temperature</td>\n",
       "      <td>-2</td>\n",
       "      <td>7</td>\n",
       "    </tr>\n",
       "    <tr>\n",
       "      <th>2</th>\n",
       "      <td>10/01/2019</td>\n",
       "      <td>Boston</td>\n",
       "      <td>Pressure</td>\n",
       "      <td>976</td>\n",
       "      <td>982</td>\n",
       "    </tr>\n",
       "    <tr>\n",
       "      <th>3</th>\n",
       "      <td>10/01/2019</td>\n",
       "      <td>Boston</td>\n",
       "      <td>Temperature</td>\n",
       "      <td>-3</td>\n",
       "      <td>9</td>\n",
       "    </tr>\n",
       "    <tr>\n",
       "      <th>4</th>\n",
       "      <td>11/01/2019</td>\n",
       "      <td>NewYork</td>\n",
       "      <td>Pressure</td>\n",
       "      <td>965</td>\n",
       "      <td>987</td>\n",
       "    </tr>\n",
       "    <tr>\n",
       "      <th>5</th>\n",
       "      <td>11/01/2019</td>\n",
       "      <td>NewYork</td>\n",
       "      <td>Temperature</td>\n",
       "      <td>-1</td>\n",
       "      <td>9</td>\n",
       "    </tr>\n",
       "    <tr>\n",
       "      <th>6</th>\n",
       "      <td>11/01/2019</td>\n",
       "      <td>Boston</td>\n",
       "      <td>Pressure</td>\n",
       "      <td>972</td>\n",
       "      <td>989</td>\n",
       "    </tr>\n",
       "    <tr>\n",
       "      <th>7</th>\n",
       "      <td>11/01/2019</td>\n",
       "      <td>Boston</td>\n",
       "      <td>Temperature</td>\n",
       "      <td>1</td>\n",
       "      <td>8</td>\n",
       "    </tr>\n",
       "  </tbody>\n",
       "</table>\n",
       "</div>"
      ],
      "text/plain": [
       "         data     city       Sensor  Min  Max\n",
       "0  10/01/2019  NewYork     Pressure  962  988\n",
       "1  10/01/2019  NewYork  Temperature   -2    7\n",
       "2  10/01/2019   Boston     Pressure  976  982\n",
       "3  10/01/2019   Boston  Temperature   -3    9\n",
       "4  11/01/2019  NewYork     Pressure  965  987\n",
       "5  11/01/2019  NewYork  Temperature   -1    9\n",
       "6  11/01/2019   Boston     Pressure  972  989\n",
       "7  11/01/2019   Boston  Temperature    1    8"
      ]
     },
     "metadata": {},
     "output_type": "display_data"
    }
   ],
   "source": [
    "import pandas as pd\n",
    "import numpy as np\n",
    "\n",
    "dates  = ['10/01/2019',  '11/01/2019']\n",
    "cities=['NewYork','Boston']\n",
    "sensors=['Pressure','Temperature']\n",
    "\n",
    "Data=[]\n",
    "City=[]\n",
    "Sensor=[]\n",
    "val_min=[]\n",
    "val_max=[]\n",
    "\n",
    "min_val=lambda k : np.random.randint(-5,2) if k=='Temperature' else np.random.randint(950,980)\n",
    "max_val =lambda k : np.random.randint(5,10) if  k=='Temperature' else np.random.randint(981,990)\n",
    "\n",
    "for d in dates:\n",
    "    for c in cities:\n",
    "        for s in sensors:\n",
    "            Data.append(d)\n",
    "            City.append(c)\n",
    "            Sensor.append(s)\n",
    "            val_min.append(min_val(s))\n",
    "            val_max.append(max_val(s))\n",
    "            \n",
    "\n",
    "tab={'data':Data,'city':City,'Sensor':Sensor,'Min':val_min,'Max':val_max}\n",
    "df=pd.DataFrame(tab)\n",
    "df['data']=pd.to_datetime(df['data'],format='%d/%m/%Y')\n",
    "df['data']=df['data'].dt.strftime('%d/%m/%Y')\n",
    "display(df)"
   ]
  },
  {
   "cell_type": "code",
   "execution_count": null,
   "metadata": {},
   "outputs": [],
   "source": []
  }
 ],
 "metadata": {
  "kernelspec": {
   "display_name": "Python 3",
   "language": "python",
   "name": "python3"
  },
  "language_info": {
   "codemirror_mode": {
    "name": "ipython",
    "version": 3
   },
   "file_extension": ".py",
   "mimetype": "text/x-python",
   "name": "python",
   "nbconvert_exporter": "python",
   "pygments_lexer": "ipython3",
   "version": "3.6.5"
  }
 },
 "nbformat": 4,
 "nbformat_minor": 2
}
