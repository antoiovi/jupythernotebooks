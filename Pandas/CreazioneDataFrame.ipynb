{
 "cells": [
  {
   "cell_type": "code",
   "execution_count": 1,
   "metadata": {},
   "outputs": [
    {
     "data": {
      "text/html": [
       "<style>.container { width:800px !important; }</style>"
      ],
      "text/plain": [
       "<IPython.core.display.HTML object>"
      ]
     },
     "metadata": {},
     "output_type": "display_data"
    }
   ],
   "source": [
    "from IPython.core.display import display, HTML\n",
    "display(HTML(\"<style>.container { width:800px !important; }</style>\"))"
   ]
  },
  {
   "cell_type": "markdown",
   "metadata": {},
   "source": [
    "# Creazione di DataFrame \n",
    "In questo blog vogliamo mostrare la struttura di un DataFrameGroupBy, ovvero la struttura che si ottiene da un dataframe con operazioni di aggregazione di dati.\n"
   ]
  },
  {
   "cell_type": "code",
   "execution_count": 3,
   "metadata": {},
   "outputs": [],
   "source": [
    "# importa le librerie\n",
    "%matplotlib inline\n",
    "import pandas as pd\n",
    "import numpy as np"
   ]
  },
  {
   "cell_type": "markdown",
   "metadata": {},
   "source": [
    "## Creazione DataFrame da array a dictionary\n",
    "Creiamo un dataframe  partendo da un dictionary, a sua volta creato tramite array.\n",
    "Il dataframe rappresenta delle misure ottenute da a dei sensori (pressione e temperatura) in diversi periodi, per diverse citta'.\n"
   ]
  },
  {
   "cell_type": "code",
   "execution_count": 118,
   "metadata": {},
   "outputs": [],
   "source": [
    "localita =         ['Milano',     'Torino',     'Milano',     'Milano'     ,'Milano'     ,'Milano'     ]     \n",
    "sensore=           ['Temperatura','Temperatura','Temperatura','Pressione'  ,'Pressione'  ,'Pressione'  ]\n",
    "valore=            [10          ,12          ,  14          ,  998         ,997          ,999          ]\n",
    "localita=localita+ ['Torino',     'Torino',     'Milano',     'Milano'     ,'Torino'     ,'Torino'  ]     \n",
    "sensore=sensore+   ['Temperatura','Temperatura','Temperatura','Pressione'  ,'Pressione'  ,'Pressione'  ]\n",
    "valore=valore+     [10          ,12          ,  14          ,  998         ,997         ,999          ]\n",
    "\n",
    "tabella={'localita':localita,'sensore':sensore,'valore':valore}\n",
    "df=pd.DataFrame(tabella)\n"
   ]
  },
  {
   "cell_type": "markdown",
   "metadata": {},
   "source": [
    "# Dataframe tramite dictionary : creazione di elementi tramite iterazione"
   ]
  },
  {
   "cell_type": "code",
   "execution_count": 5,
   "metadata": {},
   "outputs": [
    {
     "data": {
      "text/html": [
       "<div>\n",
       "<style scoped>\n",
       "    .dataframe tbody tr th:only-of-type {\n",
       "        vertical-align: middle;\n",
       "    }\n",
       "\n",
       "    .dataframe tbody tr th {\n",
       "        vertical-align: top;\n",
       "    }\n",
       "\n",
       "    .dataframe thead th {\n",
       "        text-align: right;\n",
       "    }\n",
       "</style>\n",
       "<table border=\"1\" class=\"dataframe\">\n",
       "  <thead>\n",
       "    <tr style=\"text-align: right;\">\n",
       "      <th></th>\n",
       "      <th>data</th>\n",
       "      <th>localita</th>\n",
       "      <th>sensore</th>\n",
       "      <th>valmin</th>\n",
       "      <th>valmax</th>\n",
       "    </tr>\n",
       "  </thead>\n",
       "  <tbody>\n",
       "    <tr>\n",
       "      <th>0</th>\n",
       "      <td>10/01/2019</td>\n",
       "      <td>Milano</td>\n",
       "      <td>Pressione</td>\n",
       "      <td>984</td>\n",
       "      <td>997</td>\n",
       "    </tr>\n",
       "    <tr>\n",
       "      <th>1</th>\n",
       "      <td>10/01/2019</td>\n",
       "      <td>Milano</td>\n",
       "      <td>Temperatura</td>\n",
       "      <td>2</td>\n",
       "      <td>13</td>\n",
       "    </tr>\n",
       "    <tr>\n",
       "      <th>2</th>\n",
       "      <td>10/01/2019</td>\n",
       "      <td>Torino</td>\n",
       "      <td>Pressione</td>\n",
       "      <td>984</td>\n",
       "      <td>999</td>\n",
       "    </tr>\n",
       "    <tr>\n",
       "      <th>3</th>\n",
       "      <td>10/01/2019</td>\n",
       "      <td>Torino</td>\n",
       "      <td>Temperatura</td>\n",
       "      <td>3</td>\n",
       "      <td>7</td>\n",
       "    </tr>\n",
       "    <tr>\n",
       "      <th>4</th>\n",
       "      <td>11/01/2019</td>\n",
       "      <td>Milano</td>\n",
       "      <td>Pressione</td>\n",
       "      <td>986</td>\n",
       "      <td>991</td>\n",
       "    </tr>\n",
       "    <tr>\n",
       "      <th>5</th>\n",
       "      <td>11/01/2019</td>\n",
       "      <td>Milano</td>\n",
       "      <td>Temperatura</td>\n",
       "      <td>3</td>\n",
       "      <td>13</td>\n",
       "    </tr>\n",
       "    <tr>\n",
       "      <th>6</th>\n",
       "      <td>11/01/2019</td>\n",
       "      <td>Torino</td>\n",
       "      <td>Pressione</td>\n",
       "      <td>982</td>\n",
       "      <td>994</td>\n",
       "    </tr>\n",
       "    <tr>\n",
       "      <th>7</th>\n",
       "      <td>11/01/2019</td>\n",
       "      <td>Torino</td>\n",
       "      <td>Temperatura</td>\n",
       "      <td>2</td>\n",
       "      <td>8</td>\n",
       "    </tr>\n",
       "    <tr>\n",
       "      <th>8</th>\n",
       "      <td>12/01/2019</td>\n",
       "      <td>Milano</td>\n",
       "      <td>Pressione</td>\n",
       "      <td>988</td>\n",
       "      <td>993</td>\n",
       "    </tr>\n",
       "    <tr>\n",
       "      <th>9</th>\n",
       "      <td>12/01/2019</td>\n",
       "      <td>Milano</td>\n",
       "      <td>Temperatura</td>\n",
       "      <td>4</td>\n",
       "      <td>7</td>\n",
       "    </tr>\n",
       "    <tr>\n",
       "      <th>10</th>\n",
       "      <td>12/01/2019</td>\n",
       "      <td>Torino</td>\n",
       "      <td>Pressione</td>\n",
       "      <td>989</td>\n",
       "      <td>996</td>\n",
       "    </tr>\n",
       "    <tr>\n",
       "      <th>11</th>\n",
       "      <td>12/01/2019</td>\n",
       "      <td>Torino</td>\n",
       "      <td>Temperatura</td>\n",
       "      <td>2</td>\n",
       "      <td>9</td>\n",
       "    </tr>\n",
       "  </tbody>\n",
       "</table>\n",
       "</div>"
      ],
      "text/plain": [
       "          data localita      sensore  valmin  valmax\n",
       "0   10/01/2019   Milano    Pressione     984     997\n",
       "1   10/01/2019   Milano  Temperatura       2      13\n",
       "2   10/01/2019   Torino    Pressione     984     999\n",
       "3   10/01/2019   Torino  Temperatura       3       7\n",
       "4   11/01/2019   Milano    Pressione     986     991\n",
       "5   11/01/2019   Milano  Temperatura       3      13\n",
       "6   11/01/2019   Torino    Pressione     982     994\n",
       "7   11/01/2019   Torino  Temperatura       2       8\n",
       "8   12/01/2019   Milano    Pressione     988     993\n",
       "9   12/01/2019   Milano  Temperatura       4       7\n",
       "10  12/01/2019   Torino    Pressione     989     996\n",
       "11  12/01/2019   Torino  Temperatura       2       9"
      ]
     },
     "metadata": {},
     "output_type": "display_data"
    }
   ],
   "source": [
    "giorni    =   ['10/01/2019',  '11/01/2019','12/01/2019' ]\n",
    "citta=['Milano','Torino']\n",
    "data=[]\n",
    "localita=[]\n",
    "sensore=[]\n",
    "valmin=[]\n",
    "valmax=[]\n",
    "for g in giorni:\n",
    "    for c in citta:\n",
    "        data.append(g)\n",
    "        localita.append(c)\n",
    "        sensore.append('Pressione')\n",
    "        valmin.append(np.random.randint(980,990))\n",
    "        valmax.append(np.random.randint(990,1000))\n",
    "        data.append(g)\n",
    "        localita.append(c)\n",
    "        sensore.append('Temperatura')\n",
    "        valmin.append(np.random.randint(0,5))\n",
    "        valmax.append(np.random.randint(6,15))\n",
    "\n",
    "tabella={'data':data,'localita':localita,'sensore':sensore,'valmin':valmin,'valmax':valmax}\n",
    "df=pd.DataFrame(tabella)\n",
    "df['data']=pd.to_datetime(df['data'],format='%d/%m/%Y')\n",
    "df['data']=df['data'].dt.strftime('%d/%m/%Y')\n",
    "display(df)"
   ]
  },
  {
   "cell_type": "code",
   "execution_count": null,
   "metadata": {},
   "outputs": [],
   "source": []
  }
 ],
 "metadata": {
  "kernelspec": {
   "display_name": "Python 3",
   "language": "python",
   "name": "python3"
  },
  "language_info": {
   "codemirror_mode": {
    "name": "ipython",
    "version": 3
   },
   "file_extension": ".py",
   "mimetype": "text/x-python",
   "name": "python",
   "nbconvert_exporter": "python",
   "pygments_lexer": "ipython3",
   "version": "3.6.5"
  }
 },
 "nbformat": 4,
 "nbformat_minor": 2
}
