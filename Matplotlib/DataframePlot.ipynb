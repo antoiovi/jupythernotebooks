{
 "cells": [
  {
   "cell_type": "code",
   "execution_count": 1,
   "metadata": {},
   "outputs": [
    {
     "data": {
      "text/html": [
       "<style>.container { width:800px !important; }</style>"
      ],
      "text/plain": [
       "<IPython.core.display.HTML object>"
      ]
     },
     "metadata": {},
     "output_type": "display_data"
    }
   ],
   "source": [
    "from IPython.core.display import display, HTML\n",
    "display(HTML(\"<style>.container { width:800px !important; }</style>\"))"
   ]
  },
  {
   "cell_type": "markdown",
   "metadata": {},
   "source": [
    "# Plot dei dati di un dataframe\n",
    "In questo blog vogliamo mostrare come trattare un dataframe per le comuni operazioni di plotting dei dati"
   ]
  },
  {
   "cell_type": "markdown",
   "metadata": {},
   "source": [
    "## Dataframe semplice "
   ]
  },
  {
   "cell_type": "code",
   "execution_count": 1,
   "metadata": {},
   "outputs": [],
   "source": [
    "# importa le librerie\n",
    "%matplotlib inline\n",
    "import pandas as pd\n",
    "import numpy as np\n",
    "import matplotlib.pyplot as plt"
   ]
  },
  {
   "cell_type": "code",
   "execution_count": 92,
   "metadata": {},
   "outputs": [
    {
     "data": {
      "text/html": [
       "<div>\n",
       "<style scoped>\n",
       "    .dataframe tbody tr th:only-of-type {\n",
       "        vertical-align: middle;\n",
       "    }\n",
       "\n",
       "    .dataframe tbody tr th {\n",
       "        vertical-align: top;\n",
       "    }\n",
       "\n",
       "    .dataframe thead th {\n",
       "        text-align: right;\n",
       "    }\n",
       "</style>\n",
       "<table border=\"1\" class=\"dataframe\">\n",
       "  <thead>\n",
       "    <tr style=\"text-align: right;\">\n",
       "      <th></th>\n",
       "      <th>data</th>\n",
       "      <th>localita</th>\n",
       "      <th>sensore</th>\n",
       "      <th>valmin</th>\n",
       "      <th>valmax</th>\n",
       "    </tr>\n",
       "  </thead>\n",
       "  <tbody>\n",
       "    <tr>\n",
       "      <th>0</th>\n",
       "      <td>10/01/2019</td>\n",
       "      <td>Milano</td>\n",
       "      <td>Temperatura</td>\n",
       "      <td>2</td>\n",
       "      <td>16</td>\n",
       "    </tr>\n",
       "    <tr>\n",
       "      <th>1</th>\n",
       "      <td>11/01/2019</td>\n",
       "      <td>Milano</td>\n",
       "      <td>Temperatura</td>\n",
       "      <td>0</td>\n",
       "      <td>18</td>\n",
       "    </tr>\n",
       "    <tr>\n",
       "      <th>2</th>\n",
       "      <td>12/01/2019</td>\n",
       "      <td>Milano</td>\n",
       "      <td>Temperatura</td>\n",
       "      <td>4</td>\n",
       "      <td>10</td>\n",
       "    </tr>\n",
       "    <tr>\n",
       "      <th>3</th>\n",
       "      <td>13/01/2019</td>\n",
       "      <td>Milano</td>\n",
       "      <td>Temperatura</td>\n",
       "      <td>2</td>\n",
       "      <td>14</td>\n",
       "    </tr>\n",
       "    <tr>\n",
       "      <th>4</th>\n",
       "      <td>14/01/2019</td>\n",
       "      <td>Milano</td>\n",
       "      <td>Temperatura</td>\n",
       "      <td>3</td>\n",
       "      <td>13</td>\n",
       "    </tr>\n",
       "  </tbody>\n",
       "</table>\n",
       "</div>"
      ],
      "text/plain": [
       "         data localita      sensore  valmin  valmax\n",
       "0  10/01/2019   Milano  Temperatura       2      16\n",
       "1  11/01/2019   Milano  Temperatura       0      18\n",
       "2  12/01/2019   Milano  Temperatura       4      10\n",
       "3  13/01/2019   Milano  Temperatura       2      14\n",
       "4  14/01/2019   Milano  Temperatura       3      13"
      ]
     },
     "metadata": {},
     "output_type": "display_data"
    }
   ],
   "source": [
    "giorni    =   ['10/01/2019',  '11/01/2019','12/01/2019','13/01/2019','14/01/2019' ]\n",
    "citta=['Milano']\n",
    "data=[]\n",
    "localita=[]\n",
    "sensore=[]\n",
    "valmin=[]\n",
    "valmax=[]\n",
    "for g in giorni:\n",
    "    for c in citta:\n",
    "        data.append(g)\n",
    "        localita.append(c)\n",
    "        sensore.append('Temperatura')\n",
    "        valmin.append(np.random.randint(0,5))\n",
    "        valmax.append(np.random.randint(10,20))\n",
    "\n",
    "tabella={'data':data,'localita':localita,'sensore':sensore,'valmin':valmin,'valmax':valmax}\n",
    "df=pd.DataFrame(tabella)\n",
    "df['data']=pd.to_datetime(df['data'],format='%d/%m/%Y')\n",
    "df['data']=df['data'].dt.strftime('%d/%m/%Y')\n",
    "display(df)"
   ]
  },
  {
   "cell_type": "code",
   "execution_count": 93,
   "metadata": {},
   "outputs": [
    {
     "data": {
      "text/plain": [
       "<matplotlib.axes._subplots.AxesSubplot at 0x7f23d2ab8550>"
      ]
     },
     "execution_count": 93,
     "metadata": {},
     "output_type": "execute_result"
    },
    {
     "data": {
      "image/png": "[encoded data removed]",
      "text/plain": [
       "<Figure size 432x288 with 1 Axes>"
      ]
     },
     "metadata": {},
     "output_type": "display_data"
    }
   ],
   "source": [
    "df.plot()"
   ]
  },
  {
   "cell_type": "code",
   "execution_count": 94,
   "metadata": {},
   "outputs": [
    {
     "data": {
      "text/plain": [
       "[<matplotlib.lines.Line2D at 0x7f23d2eaa5f8>]"
      ]
     },
     "execution_count": 94,
     "metadata": {},
     "output_type": "execute_result"
    },
    {
     "data": {
      "image/png": "[encoded data removed]",
      "text/plain": [
       "<Figure size 432x288 with 1 Axes>"
      ]
     },
     "metadata": {},
     "output_type": "display_data"
    }
   ],
   "source": [
    "\n",
    "fig, ax = plt.subplots()\n",
    "ax.plot(df.data,df.valmax)\n"
   ]
  },
  {
   "cell_type": "code",
   "execution_count": null,
   "metadata": {},
   "outputs": [],
   "source": []
  },
  {
   "cell_type": "markdown",
   "metadata": {},
   "source": [
    "# DataFrame piu complesso (da gestire group by)"
   ]
  },
  {
   "cell_type": "code",
   "execution_count": 95,
   "metadata": {},
   "outputs": [
    {
     "data": {
      "text/html": [
       "<div>\n",
       "<style scoped>\n",
       "    .dataframe tbody tr th:only-of-type {\n",
       "        vertical-align: middle;\n",
       "    }\n",
       "\n",
       "    .dataframe tbody tr th {\n",
       "        vertical-align: top;\n",
       "    }\n",
       "\n",
       "    .dataframe thead th {\n",
       "        text-align: right;\n",
       "    }\n",
       "</style>\n",
       "<table border=\"1\" class=\"dataframe\">\n",
       "  <thead>\n",
       "    <tr style=\"text-align: right;\">\n",
       "      <th></th>\n",
       "      <th>data</th>\n",
       "      <th>localita</th>\n",
       "      <th>sensore</th>\n",
       "      <th>valmin</th>\n",
       "      <th>valmax</th>\n",
       "    </tr>\n",
       "  </thead>\n",
       "  <tbody>\n",
       "    <tr>\n",
       "      <th>0</th>\n",
       "      <td>10/01/2019</td>\n",
       "      <td>Milano</td>\n",
       "      <td>Pressione</td>\n",
       "      <td>981</td>\n",
       "      <td>998</td>\n",
       "    </tr>\n",
       "    <tr>\n",
       "      <th>1</th>\n",
       "      <td>10/01/2019</td>\n",
       "      <td>Milano</td>\n",
       "      <td>Temperatura</td>\n",
       "      <td>1</td>\n",
       "      <td>10</td>\n",
       "    </tr>\n",
       "    <tr>\n",
       "      <th>2</th>\n",
       "      <td>10/01/2019</td>\n",
       "      <td>Torino</td>\n",
       "      <td>Pressione</td>\n",
       "      <td>985</td>\n",
       "      <td>997</td>\n",
       "    </tr>\n",
       "    <tr>\n",
       "      <th>3</th>\n",
       "      <td>10/01/2019</td>\n",
       "      <td>Torino</td>\n",
       "      <td>Temperatura</td>\n",
       "      <td>2</td>\n",
       "      <td>14</td>\n",
       "    </tr>\n",
       "    <tr>\n",
       "      <th>4</th>\n",
       "      <td>11/01/2019</td>\n",
       "      <td>Milano</td>\n",
       "      <td>Pressione</td>\n",
       "      <td>981</td>\n",
       "      <td>995</td>\n",
       "    </tr>\n",
       "    <tr>\n",
       "      <th>5</th>\n",
       "      <td>11/01/2019</td>\n",
       "      <td>Milano</td>\n",
       "      <td>Temperatura</td>\n",
       "      <td>1</td>\n",
       "      <td>8</td>\n",
       "    </tr>\n",
       "    <tr>\n",
       "      <th>6</th>\n",
       "      <td>11/01/2019</td>\n",
       "      <td>Torino</td>\n",
       "      <td>Pressione</td>\n",
       "      <td>987</td>\n",
       "      <td>991</td>\n",
       "    </tr>\n",
       "    <tr>\n",
       "      <th>7</th>\n",
       "      <td>11/01/2019</td>\n",
       "      <td>Torino</td>\n",
       "      <td>Temperatura</td>\n",
       "      <td>0</td>\n",
       "      <td>8</td>\n",
       "    </tr>\n",
       "    <tr>\n",
       "      <th>8</th>\n",
       "      <td>12/01/2019</td>\n",
       "      <td>Milano</td>\n",
       "      <td>Pressione</td>\n",
       "      <td>989</td>\n",
       "      <td>996</td>\n",
       "    </tr>\n",
       "    <tr>\n",
       "      <th>9</th>\n",
       "      <td>12/01/2019</td>\n",
       "      <td>Milano</td>\n",
       "      <td>Temperatura</td>\n",
       "      <td>2</td>\n",
       "      <td>12</td>\n",
       "    </tr>\n",
       "    <tr>\n",
       "      <th>10</th>\n",
       "      <td>12/01/2019</td>\n",
       "      <td>Torino</td>\n",
       "      <td>Pressione</td>\n",
       "      <td>980</td>\n",
       "      <td>999</td>\n",
       "    </tr>\n",
       "    <tr>\n",
       "      <th>11</th>\n",
       "      <td>12/01/2019</td>\n",
       "      <td>Torino</td>\n",
       "      <td>Temperatura</td>\n",
       "      <td>3</td>\n",
       "      <td>7</td>\n",
       "    </tr>\n",
       "  </tbody>\n",
       "</table>\n",
       "</div>"
      ],
      "text/plain": [
       "          data localita      sensore  valmin  valmax\n",
       "0   10/01/2019   Milano    Pressione     981     998\n",
       "1   10/01/2019   Milano  Temperatura       1      10\n",
       "2   10/01/2019   Torino    Pressione     985     997\n",
       "3   10/01/2019   Torino  Temperatura       2      14\n",
       "4   11/01/2019   Milano    Pressione     981     995\n",
       "5   11/01/2019   Milano  Temperatura       1       8\n",
       "6   11/01/2019   Torino    Pressione     987     991\n",
       "7   11/01/2019   Torino  Temperatura       0       8\n",
       "8   12/01/2019   Milano    Pressione     989     996\n",
       "9   12/01/2019   Milano  Temperatura       2      12\n",
       "10  12/01/2019   Torino    Pressione     980     999\n",
       "11  12/01/2019   Torino  Temperatura       3       7"
      ]
     },
     "metadata": {},
     "output_type": "display_data"
    }
   ],
   "source": [
    "giorni    =   ['10/01/2019',  '11/01/2019','12/01/2019' ]\n",
    "citta=['Milano','Torino']\n",
    "data=[]\n",
    "localita=[]\n",
    "sensore=[]\n",
    "valmin=[]\n",
    "valmax=[]\n",
    "for g in giorni:\n",
    "    for c in citta:\n",
    "        data.append(g)\n",
    "        localita.append(c)\n",
    "        sensore.append('Pressione')\n",
    "        valmin.append(np.random.randint(980,990))\n",
    "        valmax.append(np.random.randint(990,1000))\n",
    "        data.append(g)\n",
    "        localita.append(c)\n",
    "        sensore.append('Temperatura')\n",
    "        valmin.append(np.random.randint(0,5))\n",
    "        valmax.append(np.random.randint(6,15))\n",
    "\n",
    "tabella={'data':data,'localita':localita,'sensore':sensore,'valmin':valmin,'valmax':valmax}\n",
    "df=pd.DataFrame(tabella)\n",
    "df['data']=pd.to_datetime(df['data'],format='%d/%m/%Y')\n",
    "df['data']=df['data'].dt.strftime('%d/%m/%Y')\n",
    "display(df)"
   ]
  },
  {
   "cell_type": "code",
   "execution_count": 97,
   "metadata": {},
   "outputs": [
    {
     "data": {
      "text/plain": [
       "sensore\n",
       "Pressione      AxesSubplot(0.125,0.125;0.775x0.755)\n",
       "Temperatura    AxesSubplot(0.125,0.125;0.775x0.755)\n",
       "dtype: object"
      ]
     },
     "execution_count": 97,
     "metadata": {},
     "output_type": "execute_result"
    },
    {
     "data": {
      "image/png": "[encoded data removed]",
      "text/plain": [
       "<Figure size 432x288 with 1 Axes>"
      ]
     },
     "metadata": {},
     "output_type": "display_data"
    },
    {
     "data": {
      "image/png": "[encoded data removed]",
      "text/plain": [
       "<Figure size 432x288 with 1 Axes>"
      ]
     },
     "metadata": {},
     "output_type": "display_data"
    }
   ],
   "source": [
    "df.groupby('sensore').plot()"
   ]
  },
  {
   "cell_type": "code",
   "execution_count": 108,
   "metadata": {},
   "outputs": [
    {
     "data": {
      "text/html": [
       "<div>\n",
       "<style scoped>\n",
       "    .dataframe tbody tr th:only-of-type {\n",
       "        vertical-align: middle;\n",
       "    }\n",
       "\n",
       "    .dataframe tbody tr th {\n",
       "        vertical-align: top;\n",
       "    }\n",
       "\n",
       "    .dataframe thead tr th {\n",
       "        text-align: left;\n",
       "    }\n",
       "\n",
       "    .dataframe thead tr:last-of-type th {\n",
       "        text-align: right;\n",
       "    }\n",
       "</style>\n",
       "<table border=\"1\" class=\"dataframe\">\n",
       "  <thead>\n",
       "    <tr>\n",
       "      <th>localita</th>\n",
       "      <th colspan=\"2\" halign=\"left\">Milano</th>\n",
       "      <th colspan=\"2\" halign=\"left\">Torino</th>\n",
       "    </tr>\n",
       "    <tr>\n",
       "      <th>sensore</th>\n",
       "      <th>Pressione</th>\n",
       "      <th>Temperatura</th>\n",
       "      <th>Pressione</th>\n",
       "      <th>Temperatura</th>\n",
       "    </tr>\n",
       "    <tr>\n",
       "      <th>data</th>\n",
       "      <th></th>\n",
       "      <th></th>\n",
       "      <th></th>\n",
       "      <th></th>\n",
       "    </tr>\n",
       "  </thead>\n",
       "  <tbody>\n",
       "    <tr>\n",
       "      <th>10/01/2019</th>\n",
       "      <td>981</td>\n",
       "      <td>1</td>\n",
       "      <td>985</td>\n",
       "      <td>2</td>\n",
       "    </tr>\n",
       "    <tr>\n",
       "      <th>11/01/2019</th>\n",
       "      <td>981</td>\n",
       "      <td>1</td>\n",
       "      <td>987</td>\n",
       "      <td>0</td>\n",
       "    </tr>\n",
       "    <tr>\n",
       "      <th>12/01/2019</th>\n",
       "      <td>989</td>\n",
       "      <td>2</td>\n",
       "      <td>980</td>\n",
       "      <td>3</td>\n",
       "    </tr>\n",
       "  </tbody>\n",
       "</table>\n",
       "</div>"
      ],
      "text/plain": [
       "localita      Milano                Torino            \n",
       "sensore    Pressione Temperatura Pressione Temperatura\n",
       "data                                                  \n",
       "10/01/2019       981           1       985           2\n",
       "11/01/2019       981           1       987           0\n",
       "12/01/2019       989           2       980           3"
      ]
     },
     "metadata": {},
     "output_type": "display_data"
    },
    {
     "name": "stdout",
     "output_type": "stream",
     "text": [
      "Index(['10/01/2019', '11/01/2019', '12/01/2019'], dtype='object', name='data')\n"
     ]
    }
   ],
   "source": [
    "b=df.groupby(['data','localita','sensore'])\n",
    "df2=gb.valmin.mean().unstack([1,2])\n",
    "display(df2)\n",
    "print(df2.index)"
   ]
  },
  {
   "cell_type": "code",
   "execution_count": 118,
   "metadata": {},
   "outputs": [
    {
     "data": {
      "text/plain": [
       "[<matplotlib.lines.Line2D at 0x7f23d2e030f0>]"
      ]
     },
     "execution_count": 118,
     "metadata": {},
     "output_type": "execute_result"
    },
    {
     "data": {
      "image/png": "[encoded data removed]",
      "text/plain": [
       "<Figure size 432x288 with 2 Axes>"
      ]
     },
     "metadata": {},
     "output_type": "display_data"
    }
   ],
   "source": [
    "fig, axes = plt.subplots(nrows=1, ncols=2)\n",
    "axes[0].plot(df2.index,df2.Milano.Pressione)\n",
    "axes[1].plot(df2.index,df2['Torino']['Temperatura'])\n",
    "\n",
    "#df2['Pressione'].plot(df2.index,ax=axes[0])\n",
    "#df2['Temperatura'].plot(ax=axes[1])"
   ]
  },
  {
   "cell_type": "markdown",
   "metadata": {},
   "source": [
    "## Formattiamo le label dell'asse x di formato DATA, e le ruotiamo"
   ]
  },
  {
   "cell_type": "code",
   "execution_count": 150,
   "metadata": {},
   "outputs": [
    {
     "data": {
      "text/plain": [
       "[<matplotlib.lines.Line2D at 0x7f23d1c6c048>]"
      ]
     },
     "execution_count": 150,
     "metadata": {},
     "output_type": "execute_result"
    },
    {
     "data": {
      "image/png": "[encoded data removed]",
      "text/plain": [
       "<Figure size 432x288 with 2 Axes>"
      ]
     },
     "metadata": {},
     "output_type": "display_data"
    }
   ],
   "source": [
    "from matplotlib.dates import DateFormatter\n",
    "import matplotlib.dates as mdates\n",
    "\n",
    "frmtY = DateFormatter('%d%m%Y')\n",
    "fig, (ax1,ax2) = plt.subplots(1, 2)\n",
    "ax1.xaxis_date()\n",
    "\n",
    "ax1.plot_date( pd.to_datetime(df2.index),df2.Milano.Pressione,'*')\n",
    "fig.autofmt_xdate(rotation=45)\n",
    "ax1.xaxis.set_major_formatter(frmtY)\n",
    "ax2.plot(df2.index,df2['Torino']['Temperatura'])\n",
    "\n"
   ]
  },
  {
   "cell_type": "markdown",
   "metadata": {},
   "source": [
    "Come si vede ci sono le date per ogni punto piu degli interspazi che non ci servono.\n",
    "\n",
    "Il grafico a sinistar utilizza plot_date(....), che mi consente di formattare la data \n",
    "\n",
    "il grafico a destra invece utilizza plot, e mi plotta i dati come stringa\n"
   ]
  },
  {
   "cell_type": "code",
   "execution_count": 119,
   "metadata": {},
   "outputs": [
    {
     "data": {
      "text/html": [
       "<div>\n",
       "<style scoped>\n",
       "    .dataframe tbody tr th:only-of-type {\n",
       "        vertical-align: middle;\n",
       "    }\n",
       "\n",
       "    .dataframe tbody tr th {\n",
       "        vertical-align: top;\n",
       "    }\n",
       "\n",
       "    .dataframe thead tr th {\n",
       "        text-align: left;\n",
       "    }\n",
       "\n",
       "    .dataframe thead tr:last-of-type th {\n",
       "        text-align: right;\n",
       "    }\n",
       "</style>\n",
       "<table border=\"1\" class=\"dataframe\">\n",
       "  <thead>\n",
       "    <tr>\n",
       "      <th>localita</th>\n",
       "      <th colspan=\"2\" halign=\"left\">Milano</th>\n",
       "      <th colspan=\"2\" halign=\"left\">Torino</th>\n",
       "    </tr>\n",
       "    <tr>\n",
       "      <th>sensore</th>\n",
       "      <th>Pressione</th>\n",
       "      <th>Temperatura</th>\n",
       "      <th>Pressione</th>\n",
       "      <th>Temperatura</th>\n",
       "    </tr>\n",
       "    <tr>\n",
       "      <th>data</th>\n",
       "      <th></th>\n",
       "      <th></th>\n",
       "      <th></th>\n",
       "      <th></th>\n",
       "    </tr>\n",
       "  </thead>\n",
       "  <tbody>\n",
       "    <tr>\n",
       "      <th>10/01/2019</th>\n",
       "      <td>981</td>\n",
       "      <td>1</td>\n",
       "      <td>985</td>\n",
       "      <td>2</td>\n",
       "    </tr>\n",
       "    <tr>\n",
       "      <th>11/01/2019</th>\n",
       "      <td>981</td>\n",
       "      <td>1</td>\n",
       "      <td>987</td>\n",
       "      <td>0</td>\n",
       "    </tr>\n",
       "    <tr>\n",
       "      <th>12/01/2019</th>\n",
       "      <td>989</td>\n",
       "      <td>2</td>\n",
       "      <td>980</td>\n",
       "      <td>3</td>\n",
       "    </tr>\n",
       "  </tbody>\n",
       "</table>\n",
       "</div>"
      ],
      "text/plain": [
       "localita      Milano                Torino            \n",
       "sensore    Pressione Temperatura Pressione Temperatura\n",
       "data                                                  \n",
       "10/01/2019       981           1       985           2\n",
       "11/01/2019       981           1       987           0\n",
       "12/01/2019       989           2       980           3"
      ]
     },
     "metadata": {},
     "output_type": "display_data"
    },
    {
     "name": "stdout",
     "output_type": "stream",
     "text": [
      "Index(['10/01/2019', '11/01/2019', '12/01/2019'], dtype='object', name='data')\n",
      "MultiIndex(levels=[['Milano', 'Torino'], ['Pressione', 'Temperatura']],\n",
      "           labels=[[0, 0, 1, 1], [0, 1, 0, 1]],\n",
      "           names=['localita', 'sensore'])\n",
      "df2.columns.levels[0] Index(['Milano', 'Torino'], dtype='object', name='localita')\n",
      "df2.columns.levels[0][0] Milano\n"
     ]
    },
    {
     "data": {
      "text/html": [
       "<div>\n",
       "<style scoped>\n",
       "    .dataframe tbody tr th:only-of-type {\n",
       "        vertical-align: middle;\n",
       "    }\n",
       "\n",
       "    .dataframe tbody tr th {\n",
       "        vertical-align: top;\n",
       "    }\n",
       "\n",
       "    .dataframe thead th {\n",
       "        text-align: right;\n",
       "    }\n",
       "</style>\n",
       "<table border=\"1\" class=\"dataframe\">\n",
       "  <thead>\n",
       "    <tr style=\"text-align: right;\">\n",
       "      <th>sensore</th>\n",
       "      <th>Pressione</th>\n",
       "      <th>Temperatura</th>\n",
       "    </tr>\n",
       "    <tr>\n",
       "      <th>data</th>\n",
       "      <th></th>\n",
       "      <th></th>\n",
       "    </tr>\n",
       "  </thead>\n",
       "  <tbody>\n",
       "    <tr>\n",
       "      <th>10/01/2019</th>\n",
       "      <td>981</td>\n",
       "      <td>1</td>\n",
       "    </tr>\n",
       "    <tr>\n",
       "      <th>11/01/2019</th>\n",
       "      <td>981</td>\n",
       "      <td>1</td>\n",
       "    </tr>\n",
       "    <tr>\n",
       "      <th>12/01/2019</th>\n",
       "      <td>989</td>\n",
       "      <td>2</td>\n",
       "    </tr>\n",
       "  </tbody>\n",
       "</table>\n",
       "</div>"
      ],
      "text/plain": [
       "sensore     Pressione  Temperatura\n",
       "data                              \n",
       "10/01/2019        981            1\n",
       "11/01/2019        981            1\n",
       "12/01/2019        989            2"
      ]
     },
     "metadata": {},
     "output_type": "display_data"
    },
    {
     "name": "stdout",
     "output_type": "stream",
     "text": [
      "Index(['10/01/2019', '11/01/2019', '12/01/2019'], dtype='object', name='data')\n"
     ]
    },
    {
     "data": {
      "text/plain": [
       "DatetimeIndex(['2019-01-10', '2019-01-11', '2019-01-12'], dtype='datetime64[ns]', name='data', freq=None)"
      ]
     },
     "execution_count": 119,
     "metadata": {},
     "output_type": "execute_result"
    }
   ],
   "source": [
    "from matplotlib.dates import DateFormatter\n",
    "import matplotlib.dates as mdates\n",
    "\n",
    "\n",
    "formatter = DateFormatter('%Y-%m-%d %H:%M:%S')\n",
    "axes[0].xaxis.set_major_formatter(formatter)\n",
    "\n",
    "gb=df.groupby(['data','localita','sensore'])\n",
    "df2=gb.valmin.mean().unstack([1,2])\n",
    "display(df2)\n",
    "print(df2.index)\n",
    "print(df2.columns)\n",
    "milano=df2[df2.columns.levels[0][0]]\n",
    "print('df2.columns.levels[0]',df2.columns.levels[0])\n",
    "print('df2.columns.levels[0][0]',df2.columns.levels[0][0])\n",
    "display(milano)\n",
    "print(milano.index)\n",
    "pd.to_datetime(milano.index,format=\"%d/%m/%Y\")\n"
   ]
  },
  {
   "cell_type": "code",
   "execution_count": 85,
   "metadata": {},
   "outputs": [],
   "source": [
    "\n",
    "# format the coords message box\n",
    "def price(x):\n",
    "    return 'A'"
   ]
  },
  {
   "cell_type": "code",
   "execution_count": 86,
   "metadata": {},
   "outputs": [
    {
     "data": {
      "image/png": "[encoded data removed]",
      "text/plain": [
       "<Figure size 720x720 with 2 Axes>"
      ]
     },
     "metadata": {},
     "output_type": "display_data"
    }
   ],
   "source": [
    "fig, axes = plt.subplots(nrows=1, ncols=2,figsize=(10,10))\n",
    "#axes[0].xaxis.set_major_formatter(formatter)\n",
    "\n",
    "milano['Pressione'].plot(ax=axes[0],title='Pressione')\n",
    "milano['Temperatura'].plot(ax=axes[1],title='Temperatura')\n",
    "plt.show()"
   ]
  },
  {
   "cell_type": "code",
   "execution_count": null,
   "metadata": {},
   "outputs": [],
   "source": []
  }
 ],
 "metadata": {
  "kernelspec": {
   "display_name": "Python 3",
   "language": "python",
   "name": "python3"
  },
  "language_info": {
   "codemirror_mode": {
    "name": "ipython",
    "version": 3
   },
   "file_extension": ".py",
   "mimetype": "text/x-python",
   "name": "python",
   "nbconvert_exporter": "python",
   "pygments_lexer": "ipython3",
   "version": "3.7.7"
  }
 },
 "nbformat": 4,
 "nbformat_minor": 2
}
