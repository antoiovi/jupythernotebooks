{
 "cells": [
  {
   "cell_type": "markdown",
   "metadata": {},
   "source": [
    "# Regressione lineare con Numpy Polyfit"
   ]
  },
  {
   "cell_type": "code",
   "execution_count": 44,
   "metadata": {},
   "outputs": [
    {
     "name": "stdout",
     "output_type": "stream",
     "text": [
      "Python: 3.7.7 (default, May  7 2020, 21:25:33) \n",
      "[GCC 7.3.0]\n",
      "scipy: 1.5.2\n",
      "numpy: 1.18.1\n",
      "matplotlib: 3.1.3\n",
      "pandas: 1.0.3\n",
      "sklearn: 0.23.2\n",
      "statsmodels: 0.12.0\n"
     ]
    }
   ],
   "source": [
    "# Python version\n",
    "import sys\n",
    "print('Python: {}'.format(sys.version))\n",
    "# scipy\n",
    "import scipy\n",
    "print('scipy: {}'.format(scipy.__version__))\n",
    "# numpy\n",
    "import numpy as np\n",
    "print('numpy: {}'.format(np.__version__))\n",
    "# matplotlib\n",
    "import matplotlib\n",
    "print('matplotlib: {}'.format(matplotlib.__version__))\n",
    "# pandas\n",
    "import pandas as pd\n",
    "print('pandas: {}'.format(pd.__version__))\n",
    "# scikit-learn\n",
    "import sklearn\n",
    "print('sklearn: {}'.format(sklearn.__version__))\n",
    "\n",
    "import statsmodels\n",
    "print('statsmodels: {}'.format(statsmodels.__version__))\n",
    "import scipy as sp\n",
    "import scipy.stats as stats"
   ]
  },
  {
   "cell_type": "markdown",
   "metadata": {},
   "source": [
    "# Convenzioni per nomi di variabile\n",
    "\n",
    "a  : Stima Intercetta\n",
    "\n",
    "b  : Stima slope\n",
    "\n",
    "s2, s :  varianza e deviazione standard \n",
    "\n",
    "se2 : Varianza del modello\n",
    "\n",
    "se : standard error del modello (deviazione standard del modello) \n",
    "\n",
    "u2, u : varianza e deviazione standard(incertezza)  di una stima\n",
    "\n",
    "U : incertezza estesa \n",
    "\n",
    "ub  : std error b (uncertancy b)\n",
    "\n",
    "ub2 : variance of b\n",
    "\n",
    "ua : std error a (uncertancy a)\n",
    "\n",
    "ua2 : variance of a\n",
    "\n",
    "yfit : yfit=a+b*x\n",
    "\n",
    "yres : y-yfit  residui\n",
    "\n",
    "SS Sxx Sxy : Devianza ,  Sum of Square , somma dei quadrati degli scarti dalla media\n",
    " - SST = Syy : SumSquareTotal sum[(y-mean(y))^2]\n",
    " - SSR = Sum Square Regression = sum[(yfit-mean(y) )^2 ]\n",
    " - Sxx = sum[(x-mean(x))^2]\n",
    " - Syy = sum[(y-mean(y))^2]\n",
    "\n",
    "SST = Syy : SumSquareTotal sum[(y-mean(y))^2]\n",
    "\n",
    "SSR = Sum Square Regression = sum[(yfit-mean(y) )^2 ]\n",
    "\n",
    "SSE = Sum Square Error = sum[ (y-yfit)^2]=sum[yres^2]"
   ]
  },
  {
   "cell_type": "markdown",
   "metadata": {},
   "source": [
    "# Intercetta e coefficente angolare\n",
    "\\begin{align}Y = a+bX+ e\n",
    "\\end{align}\n",
    "\n",
    "\n",
    "```python\n",
    "import numpy as np\n",
    "p, cov = np.polyfit(x, y, 1, cov=True)\n",
    "p[0] Coefficiente angolare\n",
    "p[1] Intercetta\n",
    "```"
   ]
  },
  {
   "cell_type": "code",
   "execution_count": 45,
   "metadata": {},
   "outputs": [
    {
     "name": "stdout",
     "output_type": "stream",
     "text": [
      "Coefficiente amgolare (slope) b=  p[0] =   +0.110 \n",
      "Intercetta                    a = p[1] =  +98.248 \n"
     ]
    }
   ],
   "source": [
    "import numpy as np\n",
    "\n",
    "y=np.array([245, 312,279,308,199,219,405,324,319,255])\n",
    "x=np.array([1400, 1600, 1700, 1875, 1100, 1550, 2350, 2450, 1425, 1700])\n",
    "p, cov = np.polyfit(x, y, 1, cov=True)  # coefficients and covariance matrix\n",
    "b=p[0]\n",
    "a=p[1]\n",
    "print(\"Coefficiente amgolare (slope) b=  p[0] = {:+8.3f} \".format(p[0]))\n",
    "print(\"Intercetta                    a = p[1] = {:+8.3f} \".format(p[1]))"
   ]
  },
  {
   "cell_type": "markdown",
   "metadata": {},
   "source": [
    "# Standard error dello slope e della intercetta \n",
    "\n",
    "```python\n",
    "import numpy as np\n",
    "p, cov = np.polyfit(x, y, 1, cov=True)  # coefficients and covariance matrix\n",
    "perr = np.sqrt(np.diag(cov))            # standard errors of slope and intercept\n",
    "```"
   ]
  },
  {
   "cell_type": "code",
   "execution_count": 46,
   "metadata": {},
   "outputs": [
    {
     "name": "stdout",
     "output_type": "stream",
     "text": [
      "Slope standard error     perr[0] : 0.033 \n",
      "Intercept standard error perr[1] : 58.033 \n"
     ]
    }
   ],
   "source": [
    "import numpy as np\n",
    "\n",
    "y=np.array([245, 312,279,308,199,219,405,324,319,255])\n",
    "x=np.array([1400, 1600, 1700, 1875, 1100, 1550, 2350, 2450, 1425, 1700])\n",
    "p, cov = np.polyfit(x, y, 1, cov=True)  # coefficients and covariance matrix\n",
    "perr = np.sqrt(np.diag(cov))       # standard-deviation estimates for each coefficient\n",
    "ub=perr[0]\n",
    "ua=perr[1]\n",
    "print(\"Slope standard error     perr[0] : {:5.3f} \".format(perr[0]))\n",
    "print(\"Intercept standard error perr[1] : {:5.3f} \".format(perr[1]))\n"
   ]
  },
  {
   "cell_type": "markdown",
   "metadata": {},
   "source": [
    "# Valori stimati e residui\n",
    "\\begin{align}Valori \\: stimati : \\: \\: \\: \\: \\: \\: \\: \\:  Yfit = a+bX\n",
    "\\end{align}\n",
    "\n",
    "\n",
    "```python\n",
    "import numpy as np\n",
    "yfit = np.polyval(p, x)   # evaluate the polynomial at x\n",
    "resid = y - yfit\n",
    "```"
   ]
  },
  {
   "cell_type": "code",
   "execution_count": 47,
   "metadata": {},
   "outputs": [
    {
     "name": "stdout",
     "output_type": "stream",
     "text": [
      "Valori stimati  : \n",
      "[251.9 273.9 284.9 304.1 219.  268.4 356.2 367.2 254.7 284.9]\n",
      "Residui : \n",
      "[ -6.9  38.1  -5.9   3.9 -20.  -49.4  48.8 -43.2  64.3 -29.9]\n"
     ]
    }
   ],
   "source": [
    "import numpy as np\n",
    "y=np.array([245, 312,279,308,199,219,405,324,319,255])\n",
    "x=np.array([1400, 1600, 1700, 1875, 1100, 1550, 2350, 2450, 1425, 1700])\n",
    "\n",
    "yfit = np.polyval(p, x)  # evaluate the polynomial at x\n",
    "yresid = y - yfit         # residui\n",
    "print(\"Valori stimati  : \")\n",
    "print(np.round(yfit,1))\n",
    "print(\"Residui : \")\n",
    "print(np.round(yresid,1))"
   ]
  },
  {
   "cell_type": "markdown",
   "metadata": {},
   "source": [
    "## Devianza totale , devianza della regressione , e devianza degli errori\n",
    "Devianza : domma dei quadrati degli scarti dalla media : SS (Sum of Square)\n",
    "\n",
    "\\begin{align}\n",
    "SST=\\sum (y_i-\\bar{y})^{2}\\\\\n",
    "SSR=\\sum (y_{fit}-\\bar{y})^{2}\\\\\n",
    "SSE= \\sum (y_i-y_{fit})^{2} = \\sum (y_{resid})^{2}\n",
    "\\end{align}"
   ]
  },
  {
   "cell_type": "code",
   "execution_count": 48,
   "metadata": {},
   "outputs": [
    {
     "name": "stdout",
     "output_type": "stream",
     "text": [
      "SST Somma dei quadrati totale       (Syy)    32600.5\n",
      "SSR Somma dei quadrati regressione  (Syfit)  18934.9\n",
      "SSE Somma dei quadrati degli errori (Sy_yfit)13665.6\n"
     ]
    }
   ],
   "source": [
    "import numpy as np\n",
    "y=np.array([245, 312,279,308,199,219,405,324,319,255])\n",
    "x=np.array([1400, 1600, 1700, 1875, 1100, 1550, 2350, 2450, 1425, 1700])\n",
    "yfit = np.polyval(p, x)  # evaluate the polynomial at x\n",
    "resid = y - yfit         # residui\n",
    "\n",
    "# SST totale aka Syy\n",
    "SST=np.sum(y**2-np.mean(y)**2)\n",
    "\n",
    "# SSR Regression\n",
    "SSR=np.sum(yfit**2-np.mean(y)**2)\n",
    "\n",
    "# SSE Error \n",
    "SSE=np.sum(resid**2)\n",
    "\n",
    "print(\"SST Somma dei quadrati totale       (Syy)    {:5.1f}\".format(SST))\n",
    "print(\"SSR Somma dei quadrati regressione  (Syfit)  {:5.1f}\".format(SSR))\n",
    "print(\"SSE Somma dei quadrati degli errori (Sy_yfit){:5.1f}\".format(SSE))\n"
   ]
  },
  {
   "cell_type": "markdown",
   "metadata": {},
   "source": [
    "# R<sup>2</sup> Coefficiente of determinazione tra x e y\n",
    "\n",
    "\\begin{align}\n",
    "R^{2}=\n",
    "\\frac{SSR}{SST}=\n",
    "\\frac{\\sum (y_{fit}-\\bar{y})^{2}}\n",
    "{\\sum (y_i-\\bar{y})^{2}}\n",
    "\\end{align}\n",
    "\n",
    "```python\n",
    "import numpy as np\n",
    "R2 = np.corrcoef(x, y)[0, 1]**2    # coefficient of determination between x and y\n",
    "\n",
    "```"
   ]
  },
  {
   "cell_type": "code",
   "execution_count": 49,
   "metadata": {},
   "outputs": [
    {
     "name": "stdout",
     "output_type": "stream",
     "text": [
      "R squared coefficient of determination : 0.581\n"
     ]
    }
   ],
   "source": [
    "import numpy as np\n",
    "\n",
    "y=np.array([245, 312,279,308,199,219,405,324,319,255])\n",
    "x=np.array([1400, 1600, 1700, 1875, 1100, 1550, 2350, 2450, 1425, 1700])\n",
    "R2 = np.corrcoef(x, y)[0, 1]**2    # coefficient of determination between x and y\n",
    "print(\"R squared coefficient of determination : {:5.3f}\".format(R2))"
   ]
  },
  {
   "cell_type": "markdown",
   "metadata": {},
   "source": [
    "# Stimatore della varianza del modello e Standard error\n",
    "\n",
    "\\begin{align}\n",
    "\\hat{\\sigma}^{2}=S_{e}^{2}= \\frac{\\sum e_{i}^{2}}{n-2} \\\\\n",
    "\\end{align}\n",
    "\n",
    "\\begin{align}\n",
    "S_{e}= \\sqrt{S_{e}^{2} }\n",
    "\\end{align}"
   ]
  },
  {
   "cell_type": "code",
   "execution_count": 51,
   "metadata": {},
   "outputs": [
    {
     "name": "stdout",
     "output_type": "stream",
     "text": [
      "Stimatore varianza del modello  1708.20 :\n",
      "Errore standard                   41.33 :\n"
     ]
    }
   ],
   "source": [
    "import numpy as np\n",
    "import math\n",
    "y=np.array([245, 312,279,308,199,219,405,324,319,255])\n",
    "x=np.array([1400, 1600, 1700, 1875, 1100, 1550, 2350, 2450, 1425, 1700])\n",
    "yfit = np.polyval(p, x)  # evaluate the polynomial at x\n",
    "resid = y - yfit         # residui\n",
    "# SSE Error \n",
    "SSE=np.sum(resid**2)\n",
    "n =x.size              # number of observations\n",
    "#Stimatore della varianza del modello\n",
    "se2=SSE/(n-2)\n",
    "# Errore standard\n",
    "s_err=math.sqrt(se2)\n",
    "print(\"Stimatore varianza del modello {:8.2f} :\".format(se2))\n",
    "print(\"Errore standard                {:8.2f} :\".format(s_err))\n"
   ]
  },
  {
   "cell_type": "markdown",
   "metadata": {},
   "source": [
    "# t-Stat\n",
    "\n",
    "\\begin{align}\\large\n",
    "t_{b}=\\frac{b-\\beta }{s_{b}}=\\frac{b-0 }{s_{b}}\n",
    "\\end{align}\n",
    "```python\n",
    "import numpy as np\n",
    "p, cov = np.polyfit(x, y, 1, cov=True)  # coefficients and covariance matrix\n",
    "perr = np.sqrt(np.diag(cov))       # standard-deviation estimates for each coefficient\n",
    "tb=p[0]/perr[0]\n",
    "ta=p[1]/perr[1]\n",
    "```"
   ]
  },
  {
   "cell_type": "code",
   "execution_count": 52,
   "metadata": {},
   "outputs": [
    {
     "name": "stdout",
     "output_type": "stream",
     "text": [
      "Coefficiente amgolare (slope) p[0] :+0.110 \n",
      "Intercetta                    p[1] :+98.248 \n",
      "Slope standard error     perr[0] : 0.033 \n",
      "Intercept standard error perr[1] : 58.033 \n",
      "t-stat slope     tb : 3.329\n",
      "t-stat intercept ta : 1.693\n"
     ]
    }
   ],
   "source": [
    "import numpy as np\n",
    "\n",
    "y=np.array([245, 312,279,308,199,219,405,324,319,255])\n",
    "x=np.array([1400, 1600, 1700, 1875, 1100, 1550, 2350, 2450, 1425, 1700])\n",
    "p, cov = np.polyfit(x, y, 1, cov=True)  # coefficients and covariance matrix\n",
    "perr = np.sqrt(np.diag(cov))       # standard-deviation estimates for each coefficient\n",
    "\n",
    "print(\"Coefficiente amgolare (slope) p[0] :{:+5.3f} \".format(p[0]))\n",
    "print(\"Intercetta                    p[1] :{:+5.3f} \".format(p[1]))\n",
    "print(\"Slope standard error     perr[0] : {:5.3f} \".format(perr[0]))\n",
    "print(\"Intercept standard error perr[1] : {:5.3f} \".format(perr[1]))\n",
    "\n",
    "tb=p[0]/perr[0]\n",
    "ta=p[1]/perr[1]\n",
    "print(\"t-stat slope     tb : {:5.3f}\".format(tb))\n",
    "print(\"t-stat intercept ta : {:5.3f}\".format(ta))"
   ]
  },
  {
   "cell_type": "markdown",
   "metadata": {},
   "source": [
    "Per confrontare la t-stat ottenuta dobbiamo cercare il punto critico della distribuzone t , per l'intervallo di confidenza desiderato :\n",
    "```python\n",
    "import scipy.stats as stats\n",
    "t = stats.t.interval(alpha, dof,0)  \n",
    "```"
   ]
  },
  {
   "cell_type": "code",
   "execution_count": 53,
   "metadata": {},
   "outputs": [
    {
     "name": "stdout",
     "output_type": "stream",
     "text": [
      "[-2.306  2.306]\n"
     ]
    }
   ],
   "source": [
    "import scipy.stats as stats\n",
    "# Statistics\n",
    "n =x.size  # number of observations\n",
    "m = p.size  # number of parameters : per regressione semplie = 2\n",
    "dof = n - m # Gradi di liberta : per regressione semplice = n-2                     \n",
    "# punto critico T-Student (alfa,df)\n",
    "alpha =0.95 # intervallo di confdenza\n",
    "t = stats.t.interval(alpha, dof,0)  \n",
    "print(np.round(t,3))"
   ]
  },
  {
   "cell_type": "markdown",
   "metadata": {},
   "source": [
    "# p-value\n",
    "Viene calcolata l'area delle due code sulla curva della distribuzione t-Student , esterne a - t-critco e +t-critico\n",
    "\n",
    "sia per lo slope che per l'intercetta.\n",
    "```python\n",
    "import scipy.stats as stats\n",
    "pvalb=stats.t.sf(tb, dof)*2\n",
    "pvala=stats.t.sf(ta, dof)*2\n",
    "```"
   ]
  },
  {
   "cell_type": "code",
   "execution_count": 56,
   "metadata": {},
   "outputs": [
    {
     "name": "stdout",
     "output_type": "stream",
     "text": [
      "p-value slope b     :   0.0104\n",
      "p-value intercept a :   0.1289\n"
     ]
    }
   ],
   "source": [
    "import numpy as np\n",
    "import scipy.stats as stats\n",
    "\n",
    "\n",
    "y=np.array([245, 312,279,308,199,219,405,324,319,255])\n",
    "x=np.array([1400, 1600, 1700, 1875, 1100, 1550, 2350, 2450, 1425, 1700])\n",
    "p, cov = np.polyfit(x, y, 1, cov=True)  # coefficients and covariance matrix\n",
    "perr = np.sqrt(np.diag(cov))       # standard-deviation estimates for each coefficient\n",
    "tb=p[0]/perr[0]\n",
    "ta=p[1]/perr[1]\n",
    "#Area delle due code\n",
    "pvalb=stats.t.sf(tb, dof)*2  # oppure stats.t.cdf(-t_stat_b, dof)*2\n",
    "pvala=stats.t.sf(ta, dof)*2  # oppure stats.t.cdf(-t_stat_a, dof)*2\n",
    "print(\"p-value slope b     : {:8.4f}\".format(pvalb))\n",
    "print(\"p-value intercept a : {:8.4f}\".format(pvala))"
   ]
  },
  {
   "cell_type": "markdown",
   "metadata": {},
   "source": [
    "# Stima intervalli di confidenza coefficiente angolare e intercetta\n",
    "\\begin{align}\n",
    "\\large \\beta=b\\pm t_{\\alpha /2,df}S_{b}\\\\\n",
    "\\large \\alpha=a\\pm t_{\\alpha /2,df}S_{a}\n",
    "\\end{align}\n",
    "```python\n",
    "import scipy.stats as stats\n",
    "ta=stats.t.interval(0.95, dof, loc=0, scale=1) \n",
    "\n",
    "```"
   ]
  },
  {
   "cell_type": "code",
   "execution_count": 185,
   "metadata": {},
   "outputs": [
    {
     "name": "stdout",
     "output_type": "stream",
     "text": [
      "Intervallo di confidenza 95% distribuzione t 8 gradi di linerta` :-2.306 +2.306\n",
      "\n",
      "Intervalli di confidenza 95 %: \n",
      "            |Lower 95% |Upper 95% |\n",
      "Intercetta  |  -35.5771|  232.0738|\n",
      "Slope       |    0.0337|    0.1858|\n"
     ]
    }
   ],
   "source": [
    "ta=stats.t.interval(0.95, dof, loc=0, scale=1) \n",
    "\n",
    "upp95_b=b+ub*ta[1]  \n",
    "low95_b=b+ub*ta[0]   \n",
    "upp95_a=a+ua*ta[1]      \n",
    "low95_a=a+ua*ta[0]  \n",
    "print(\"Intervallo di confidenza 95% distribuzione t {:1d} gradi di linerta` :{:2.3f} {:+2.3f}\\n\"\n",
    "      .format(dof,ta[0],ta[1]))\n",
    "\n",
    "print(\"Intervalli di confidenza 95 %: \")\n",
    "print(\"{:12s}|{:10s}|{:10s}|\".format(\" \",\"Lower 95%\",\"Upper 95%\"))\n",
    "print(\"{:12s}|{:10.4f}|{:10.4f}|\".format(\"Intercetta\",low95_a,upp95_a))\n",
    "print(\"{:12s}|{:10.4f}|{:10.4f}|\".format(\"Slope \",low95_b,upp95_b))\n"
   ]
  },
  {
   "cell_type": "markdown",
   "metadata": {},
   "source": [
    "# Plot"
   ]
  },
  {
   "cell_type": "code",
   "execution_count": 212,
   "metadata": {},
   "outputs": [
    {
     "data": {
      "text/plain": [
       "[<matplotlib.lines.Line2D at 0x7fc9f19b7ed0>]"
      ]
     },
     "execution_count": 212,
     "metadata": {},
     "output_type": "execute_result"
    },
    {
     "data": {
      "image/png": "[encoded data removed]",
      "text/plain": [
       "<Figure size 432x288 with 1 Axes>"
      ]
     },
     "metadata": {
      "needs_background": "light"
     },
     "output_type": "display_data"
    }
   ],
   "source": [
    "import matplotlib.pyplot as plt\n",
    "\n",
    "fig ,ax=plt.subplots(1,1,sharey=True)\n",
    "\n",
    "ax.scatter(x, y)\n",
    "ax.plot(x,np.polyval([b,a], x),'k-',lw=1.5,c='r')"
   ]
  },
  {
   "cell_type": "markdown",
   "metadata": {},
   "source": [
    "# Plot bande di confidenza "
   ]
  },
  {
   "cell_type": "markdown",
   "metadata": {},
   "source": [
    "\\begin{align}\n",
    "Intervallo\\: di\\: confidenza\\: per\\: la\\: previsione\\: del\\: valore\\: atteso(ic\\:della\\:retta\\:)\\\\\n",
    "\\large\\hat{y}_{n+1}+t_{\\alpha /2,df}S_{e}\\sqrt{ \\frac{1}{n}+ \\frac{ (x_{n+1}-\\bar{x})^{2} }{ \\sum (x_{i}-\\bar{x})^{2} } }\n",
    "\\end{align}\n",
    "\n",
    "\\begin{align}\n",
    "Intervallo\\: di\\: confidenza\\: per\\: la\\: previsione\\: del\\: valore\\: osservato \\: di\\:Y\\:in\\:corrispondenza\\:di\\:x_{i}\\\\\n",
    "\\large\\hat{y}_{n+1}+t_{\\alpha /2,df}S_{e}\\sqrt{ 1+\\frac{1}{n}+ \\frac{ (x_{n+1}-\\bar{x})^{2} }{ \\sum (x_{i}-\\bar{x})^{2} } }\n",
    "\\end{align}\n"
   ]
  },
  {
   "cell_type": "code",
   "execution_count": 240,
   "metadata": {},
   "outputs": [
    {
     "data": {
      "image/png": "[encoded data removed]",
      "text/plain": [
       "<Figure size 432x288 with 1 Axes>"
      ]
     },
     "metadata": {
      "needs_background": "light"
     },
     "output_type": "display_data"
    }
   ],
   "source": [
    "import matplotlib.pyplot as plt\n",
    "\n",
    "fig ,ax=plt.subplots(1,1,sharey=True)\n",
    "\n",
    "ax.scatter(x, y)\n",
    "ax.plot(x,np.polyval([b,a], x),'k-',lw=1.5,c='r')\n",
    "\n",
    "\n",
    "x2 = np.linspace(np.min(x), np.max(x), 100)\n",
    "yfit = np.polyval([b,a], x)\n",
    "y2 = np.linspace(np.min(yfit), np.max(yfit), 100)\n",
    "\n",
    "# Confidence interval \n",
    "ci = t[1] * s_err * np.sqrt(1/n + (x2 - np.mean(x))**2 / np.sum((x - np.mean(x))**2))\n",
    "ax.plot(x2, y2 - ci, \"--\", color=\"g\", label=\"95% Intervallo di confidenza valore atteso\")\n",
    "ax.plot(x2, y2 + ci, \"--\", color=\"g\")\n",
    "\n",
    "# Prediction Interval\n",
    "pi = t[1] * s_err * np.sqrt(1 + 1/n + (x2 - np.mean(x))**2 / np.sum((x - np.mean(x))**2))   \n",
    "ax.plot(x2, y2 - pi, \"-.\", color=\"0.5\", label=\"95% Intervallo di confidenza valore previsto\")\n",
    "ax.plot(x2, y2 + pi, \"-.\", color=\"0.5\")\n",
    "\n",
    "# Scatter plot\n",
    "ax.scatter(x, y)\n",
    "plt.legend(bbox_to_anchor=(1.05, 1), loc='upper left', borderaxespad=0.)\n",
    "ok=0"
   ]
  },
  {
   "cell_type": "markdown",
   "metadata": {},
   "source": [
    "# Plot residui"
   ]
  },
  {
   "cell_type": "code",
   "execution_count": 250,
   "metadata": {},
   "outputs": [
    {
     "data": {
      "image/png": "[encoded data removed]",
      "text/plain": [
       "<Figure size 432x288 with 1 Axes>"
      ]
     },
     "metadata": {
      "needs_background": "light"
     },
     "output_type": "display_data"
    }
   ],
   "source": [
    "import matplotlib.pyplot as plt\n",
    "import numpy as np\n",
    "y=np.array([245, 312,279,308,199,219,405,324,319,255])\n",
    "x=np.array([1400, 1600, 1700, 1875, 1100, 1550, 2350, 2450, 1425, 1700])\n",
    "p, cov = np.polyfit(x, y, 1, cov=True)  # coefficients and covariance matrix\n",
    "\n",
    "yfit = np.polyval(p, x)  # evaluate the polynomial at x\n",
    "yresid = y - yfit         # residui\n",
    "plt.scatter(yfit,yresid)\n",
    "plt.hlines(xmax=max(yfit),xmin=min(yfit),y=np.mean(yresid))\n",
    "plt.show()"
   ]
  },
  {
   "cell_type": "markdown",
   "metadata": {},
   "source": [
    "# Creazione di una classe wrapper"
   ]
  },
  {
   "cell_type": "code",
   "execution_count": 61,
   "metadata": {},
   "outputs": [],
   "source": [
    "import numpy as np\n",
    "import math\n",
    "import scipy.stats as stats\n",
    "\n",
    "import matplotlib.pyplot as plt\n",
    "\n",
    "class regression:\n",
    "    \n",
    "    def  __init__(self,x,y,alpha=0.95):\n",
    "        self.x=x\n",
    "        self.y=y\n",
    "        p, cov = np.polyfit(x, y, 1, cov=True)  # coefficients and covariance matrix\n",
    "        self.p=p\n",
    "        self.cov=cov\n",
    "        self.b=p[0]\n",
    "        self.a=p[1]\n",
    "        \n",
    "        self.perr = np.sqrt(np.diag(cov))       # standard-deviation estimates for each coefficient\n",
    "        self.ub=self.perr[0]\n",
    "        self.ua=self.perr[1]\n",
    "        self.yfit = np.polyval(p, x)  # evaluate the polynomial at x\n",
    "        self.yresid = y - self.yfit         # residui \n",
    "        # SST totale aka Syy\n",
    "        self.SST=np.sum(y**2-np.mean(y)**2)\n",
    "        # SSR Regression\n",
    "        self.SSR=np.sum(self.yfit**2-np.mean(y)**2)\n",
    "        # SSE Error \n",
    "        self.SSE=np.sum(self.yresid**2)\n",
    "        self.R2 = np.corrcoef(x, y)[0, 1]**2    # coefficient of determination between x and y\n",
    "        self.n =x.size              # number of observations\n",
    "        #Stimatore della varianza del modello\n",
    "        self.se2=self.SSE/(self.n-2)\n",
    "        # Errore standard\n",
    "        self.s_err=math.sqrt(self.se2)\n",
    "        self.tb=p[0]/self.perr[0]\n",
    "        self.ta=p[1]/self.perr[1]\n",
    "        \n",
    "        # Statistics\n",
    "        m = p.size  # number of parameters : per regressione semplie = 2\n",
    "        self.dof = self.n - m # Gradi di liberta : per regressione semplice = n-2                     \n",
    "   \n",
    "        self.t = stats.t.interval(alpha, self.dof,0)  \n",
    "\n",
    "        #Area delle due code\n",
    "        self.pvalb=stats.t.sf(self.tb, self.dof)*2  # oppure stats.t.cdf(-t_stat_b, dof)*2\n",
    "        self.pvala=stats.t.sf(self.ta, self.dof)*2  # oppure stats.t.cdf(-t_stat_a, dof)*2\n",
    "\n",
    "        tsta=stats.t.interval(0.95, self.dof, loc=0, scale=1) \n",
    "        self.upp95_b=self.b+self.ub*tsta[1]  \n",
    "        self.low95_b=self.b+self.ub*tsta[0]   \n",
    "        self.upp95_a=self.a+self.ua*tsta[1]      \n",
    "        self.low95_a=self.a+self.ua*tsta[0]  \n",
    "\n",
    " \n",
    "        \n",
    "    def t_critic(self,alpha=0.95):\n",
    "        # punto critico T-Student (alfa,df)\n",
    "        self.t = stats.t.interval(alpha, self.dof,0)  \n",
    "       \n",
    "  \n",
    "    def summary(self):\n",
    "        print(\"Coefficiente amgolare (slope) b=  p[0] = {:+8.3f} \".format(self.p[0]))\n",
    "        print(\"Intercetta                    a = p[1] = {:+8.3f} \".format(self.p[1]))\n",
    "        print(\"SST Somma dei quadrati totale       (Syy)    {:5.1f}\".format(self.SST))\n",
    "        print(\"SSR Somma dei quadrati regressione  (Syfit)  {:5.1f}\".format(self.SSR))\n",
    "        print(\"SSE Somma dei quadrati degli errori (Sy_yfit){:5.1f}\".format(self.SSE))\n",
    "        print(\"R squared coefficient of determination : {:5.3f}\".format(self.R2))\n",
    "        print(\"Stimatore varianza del modello {:8.2f} :\".format(self.se2))\n",
    "        print(\"Errore standard                {:8.2f} :\".format(self.s_err))\n",
    "        print(\"t-stat slope     tb : {:5.3f}\".format(self.tb))\n",
    "        print(\"t-stat intercept ta : {:5.3f}\".format(self.ta))\n",
    "        print(\"p-value slope b     : {:8.4f}\".format(self.pvalb))\n",
    "        print(\"p-value intercept a : {:8.4f}\".format(self.pvala))\n",
    "        print(\"Intervalli di confidenza 95 %: \")\n",
    "        print(\"{:12s}|{:10s}|{:10s}|\".format(\" \",\"Lower 95%\",\"Upper 95%\"))\n",
    "        print(\"{:12s}|{:10.4f}|{:10.4f}|\".format(\"Intercetta\",self.low95_a,self.upp95_a))\n",
    "        print(\"{:12s}|{:10.4f}|{:10.4f}|\".format(\"Slope \",self.low95_b,self.upp95_b))\n",
    "\n",
    "        \n",
    "    def plot_regr(self):\n",
    "        fig ,ax=plt.subplots(1,1,sharey=True)\n",
    "        ax.scatter(self.x, self.y)\n",
    "        ax.plot(self.x,np.polyval([self.b,self.a], self.x) ,'k-',lw=1.5,c='r')\n",
    "        \n",
    "    def plot_residual(self):\n",
    "        plt.scatter(self.yfit,self.yresid)\n",
    "        plt.hlines(xmax=max(self.yfit),xmin=min(self.yfit),y=np.mean(self.yresid))\n",
    "        plt.show()\n",
    "        \n",
    "    def plot_confidencebands(self):\n",
    "        fig ,ax=plt.subplots(1,1,sharey=True)\n",
    "        ax.scatter(self.x, self.y)\n",
    "        ax.plot(self.x,np.polyval([self.b,self.a], self.x),'k-',lw=1.5,c='r')\n",
    "        x2 = np.linspace(np.min(self.x), np.max(self.x), 100)\n",
    "        yfit = np.polyval([self.b,self.a], self.x)\n",
    "        xmin=np.min(self.x)\n",
    "        xmax=np.max(self.x)\n",
    "        y2 = np.linspace((self.a+xmin*self.b),(self.a+xmax*self.b), 100)        # Confidence interval \n",
    "        ci = self.t[1] * self.s_err * np.sqrt(1/self.n + (x2 - np.mean(self.x))**2 / np.sum((self.x - np.mean(self.x))**2))\n",
    "        ax.plot(x2, y2 - ci, \"--\", color=\"g\", label=\"95% Intervallo di confidenza valore atteso\")\n",
    "        ax.plot(x2, y2 + ci, \"--\", color=\"g\")\n",
    "        # Prediction Interval\n",
    "        pi = self.t[1] * self.s_err * np.sqrt(1 + 1/self.n + (x2 - np.mean(self.x))**2 / np.sum((self.x - np.mean(self.x))**2))   \n",
    "        ax.plot(x2, y2 - pi, \"-.\", color=\"0.5\", label=\"95% Intervallo di confidenza valore previsto\")\n",
    "        ax.plot(x2, y2 + pi, \"-.\", color=\"0.5\")\n",
    "        # Scatter plot\n",
    "        ax.scatter(self.x, self.y)\n",
    "        plt.legend(bbox_to_anchor=(1.05, 1), loc='upper left', borderaxespad=0.)"
   ]
  },
  {
   "cell_type": "code",
   "execution_count": 62,
   "metadata": {},
   "outputs": [
    {
     "name": "stdout",
     "output_type": "stream",
     "text": [
      "Coefficiente amgolare (slope) b=  p[0] =   +0.110 \n",
      "Intercetta                    a = p[1] =  +98.248 \n",
      "SST Somma dei quadrati totale       (Syy)    32600.5\n",
      "SSR Somma dei quadrati regressione  (Syfit)  18934.9\n",
      "SSE Somma dei quadrati degli errori (Sy_yfit)13665.6\n",
      "R squared coefficient of determination : 0.581\n",
      "Stimatore varianza del modello  1708.20 :\n",
      "Errore standard                   41.33 :\n",
      "t-stat slope     tb : 3.329\n",
      "t-stat intercept ta : 1.693\n",
      "p-value slope b     :   0.0104\n",
      "p-value intercept a :   0.1289\n",
      "Intervalli di confidenza 95 %: \n",
      "            |Lower 95% |Upper 95% |\n",
      "Intercetta  |  -35.5771|  232.0738|\n",
      "Slope       |    0.0337|    0.1858|\n"
     ]
    }
   ],
   "source": [
    "y=np.array([245, 312,279,308,199,219,405,324,319,255])\n",
    "x=np.array([1400, 1600, 1700, 1875, 1100, 1550, 2350, 2450, 1425, 1700])\n",
    "myreg=regression(x,y)\n",
    "myreg.summary()"
   ]
  },
  {
   "cell_type": "code",
   "execution_count": 63,
   "metadata": {},
   "outputs": [
    {
     "data": {
      "image/png": "[encoded data removed]",
      "text/plain": [
       "<Figure size 432x288 with 1 Axes>"
      ]
     },
     "metadata": {
      "needs_background": "light"
     },
     "output_type": "display_data"
    }
   ],
   "source": [
    "myreg.plot_regr()"
   ]
  },
  {
   "cell_type": "code",
   "execution_count": 64,
   "metadata": {},
   "outputs": [
    {
     "data": {
      "image/png": "[encoded data removed]",
      "text/plain": [
       "<Figure size 432x288 with 1 Axes>"
      ]
     },
     "metadata": {
      "needs_background": "light"
     },
     "output_type": "display_data"
    }
   ],
   "source": [
    "myreg.plot_residual()"
   ]
  },
  {
   "cell_type": "code",
   "execution_count": 65,
   "metadata": {},
   "outputs": [
    {
     "data": {
      "image/png": "[encoded data removed]",
      "text/plain": [
       "<Figure size 432x288 with 1 Axes>"
      ]
     },
     "metadata": {
      "needs_background": "light"
     },
     "output_type": "display_data"
    }
   ],
   "source": [
    "myreg.plot_confidencebands()"
   ]
  },
  {
   "cell_type": "markdown",
   "metadata": {},
   "source": [
    "### Links utili e di riferimento\n",
    "\n",
    "https://nbviewer.jupyter.org/github/demotu/BMC/blob/master/notebooks/CurveFitting.ipynb\n",
    "\n",
    "https://stackoverflow.com/questions/27164114/show-confidence-limits-and-prediction-limits-in-scatter-plot"
   ]
  },
  {
   "cell_type": "code",
   "execution_count": null,
   "metadata": {},
   "outputs": [],
   "source": []
  }
 ],
 "metadata": {
  "kernelspec": {
   "display_name": "Finantial",
   "language": "python",
   "name": "finantial"
  },
  "language_info": {
   "codemirror_mode": {
    "name": "ipython",
    "version": 3
   },
   "file_extension": ".py",
   "mimetype": "text/x-python",
   "name": "python",
   "nbconvert_exporter": "python",
   "pygments_lexer": "ipython3",
   "version": "3.7.7"
  }
 },
 "nbformat": 4,
 "nbformat_minor": 4
}
