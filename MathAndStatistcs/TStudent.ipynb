{
 "cells": [
  {
   "cell_type": "markdown",
   "metadata": {},
   "source": [
    "# t-Student \n",
    "We analize the t-Student distribution with python.\n",
    "\n",
    "The purpose of this blog is to create make some exercise in statistc and in python together, to better understand eachother."
   ]
  },
  {
   "cell_type": "markdown",
   "metadata": {},
   "source": [
    "This cell to better visualize on the page:"
   ]
  },
  {
   "cell_type": "code",
   "execution_count": 1,
   "metadata": {
    "hide_input": false
   },
   "outputs": [
    {
     "data": {
      "text/html": [
       "<style>.container { width:800px !important; }</style>"
      ],
      "text/plain": [
       "<IPython.core.display.HTML object>"
      ]
     },
     "metadata": {},
     "output_type": "display_data"
    }
   ],
   "source": [
    "from IPython.core.display import display, HTML\n",
    "display(HTML(\"<style>.container { width:800px !important; }</style>\"))"
   ]
  },
  {
   "cell_type": "markdown",
   "metadata": {},
   "source": [
    "The libraries used in this blog :"
   ]
  },
  {
   "cell_type": "code",
   "execution_count": 3,
   "metadata": {},
   "outputs": [
    {
     "name": "stdout",
     "output_type": "stream",
     "text": [
      "Python: 3.7.7 (default, May  7 2020, 21:25:33) \n",
      "[GCC 7.3.0]\n",
      "scipy: 1.5.2\n",
      "numpy: 1.18.1\n",
      "matplotlib: 3.1.3\n",
      "pandas: 1.0.3\n"
     ]
    }
   ],
   "source": [
    "import sys\n",
    "print('Python: {}'.format(sys.version))\n",
    "# scipy\n",
    "import scipy\n",
    "print('scipy: {}'.format(scipy.__version__))\n",
    "# numpy\n",
    "import numpy\n",
    "print('numpy: {}'.format(numpy.__version__))\n",
    "# matplotlib\n",
    "import matplotlib\n",
    "print('matplotlib: {}'.format(matplotlib.__version__))\n",
    "# pandas\n",
    "import pandas\n",
    "print('pandas: {}'.format(pandas.__version__))"
   ]
  },
  {
   "cell_type": "markdown",
   "metadata": {},
   "source": [
    "# Get a few statistics\n",
    "```python\n",
    "from  scipy import stats\n",
    "stats.t.stats(df, moments='mvsk')\n",
    "```"
   ]
  },
  {
   "cell_type": "code",
   "execution_count": 160,
   "metadata": {},
   "outputs": [
    {
     "name": "stdout",
     "output_type": "stream",
     "text": [
      "Mean                : 0.000000\n",
      "Variance            : 1.333333\n",
      "Skewness (simmetry ): 0.000000\n",
      "Kurtosis           : 1.500000\n"
     ]
    }
   ],
   "source": [
    "from  scipy import stats\n",
    "df=8   # Gradi di liberta'\n",
    "mean, var, skew, kurt = stats.t.stats(df, moments='mvsk')\n",
    "print(\"Mean                : {:2.6f}\".format(mean))\n",
    "print(\"Variance            : {:2.6f}\".format(var))\n",
    "print(\"Skewness (simmetry ): {:2.6f}\".format(skew))\n",
    "print(\"Kurtosis           : {:2.6f}\".format(kurt))\n"
   ]
  },
  {
   "cell_type": "markdown",
   "metadata": {},
   "source": [
    "# Plot the distribution and get the probability density function"
   ]
  },
  {
   "cell_type": "markdown",
   "metadata": {},
   "source": [
    "<p style=\"font-size:120%;\">\n",
    "    We plot a few t-Student distributions with different degree of freedom. <br>\n",
    "We'll use  :<br>\n",
    "The stats module from library scipy , class t and method pdf(): <br>\n",
    "</p> \n",
    "\n",
    "```python\n",
    "from  scipy import stats\n",
    "stats.t.pdf(x, df)\n",
    "```"
   ]
  },
  {
   "cell_type": "code",
   "execution_count": 161,
   "metadata": {},
   "outputs": [
    {
     "data": {
      "text/plain": [
       "''"
      ]
     },
     "execution_count": 161,
     "metadata": {},
     "output_type": "execute_result"
    },
    {
     "data": {
      "image/png": "[encoded data removed]",
      "text/plain": [
       "<Figure size 432x288 with 1 Axes>"
      ]
     },
     "metadata": {
      "needs_background": "light"
     },
     "output_type": "display_data"
    }
   ],
   "source": [
    "import numpy as np\n",
    "import matplotlib.pyplot as plt\n",
    "from  scipy import stats\n",
    "\n",
    "fig, ax = plt.subplots(1, 1)\n",
    "A=8\n",
    "# Linear space of 100 pints between -A and +A \n",
    "x = np.linspace(-A, A, 100)\n",
    "\n",
    "#Fpr each x I have y= stats.t.pdf(x,df),\n",
    "#that is the PDF  t-Student with df defree of freedom\n",
    "df=1\n",
    "ax.plot(x, stats.t.pdf(x, df), 'r-', lw=1, alpha=0.6,\n",
    "        label='t df {}'.format(df))\n",
    "df=2\n",
    "ax.plot(x, stats.t.pdf(x, df), 'b-', lw=1, alpha=0.6, \n",
    "        label='t df {}'.format(df))\n",
    "df=8\n",
    "ax.plot(x, stats.t.pdf(x, df), 'g-', lw=1, alpha=0.6,\n",
    "        label='t df {}'.format(df))\n",
    "plt.legend(bbox_to_anchor=(1.05, 1), loc='upper left', borderaxespad=0.)\n",
    "''''''"
   ]
  },
  {
   "cell_type": "markdown",
   "metadata": {},
   "source": [
    "# Probabilty density function\n",
    "\n",
    "<p style=\"font-size:140%;\">Use of stats module , class t and method pdf(x,df) </p>\n",
    "\n",
    "```python\n",
    "from  scipy import stats\n",
    "stats.t.pdf(x, df) \n",
    "\n",
    "```\n"
   ]
  },
  {
   "cell_type": "markdown",
   "metadata": {},
   "source": [
    " <h4>REMEMBER PDF in random continuos variables is not the same than discrete</h4>  <br>\n",
    " Extract from wikipedia :<br>\n",
    "The probability density function (PDF), or density of a continuous random variable, is a function whose value at any given sample (or point) in the sample space (the set of possible values taken by the random variable) can be interpreted as providing a relative likelihood that the value of the random variable would equal that sampl<br>\n",
    " \n",
    " ... *** while the absolute likelihood for a continuous random variable to take on any particular value is 0 (since there are an infinite set of possible values to begin with) *** , the value of the PDF at two different samples..."
   ]
  },
  {
   "cell_type": "code",
   "execution_count": 6,
   "metadata": {},
   "outputs": [
    {
     "data": {
      "image/png": "[encoded data removed]",
      "text/plain": [
       "<Figure size 432x288 with 2 Axes>"
      ]
     },
     "metadata": {
      "needs_background": "light"
     },
     "output_type": "display_data"
    }
   ],
   "source": [
    "import numpy as np\n",
    "import matplotlib.pyplot as plt\n",
    "from  scipy import stats\n",
    "\n",
    "fig, (ax1,ax2) = plt.subplots(1,2)\n",
    "df=3\n",
    "A=3\n",
    "\n",
    "# loc=mean,  scale= std\n",
    "x = np.linspace(stats.t.ppf(0.01, df),stats.t.ppf(0.99, df), 11)\n",
    "\n",
    "pk=stats.t.pdf(x, df)\n",
    "# Plot Probabilty densty function \n",
    "ax1.plot(x, pk, 'ro', ms=12, mec='r',\n",
    "        label=\" Discret pdf p(x)\")\n",
    "ax1.vlines(x, 0,pk, colors='black', lw=1)\n",
    "ax1.legend(bbox_to_anchor=(-0.05, 1), loc='upper left', borderaxespad=0.)\n",
    "\n",
    "\n",
    "x = np.linspace(-A, A, 100)\n",
    "t=stats.t.pdf(x, df)\n",
    "ax2.plot(x, t, 'r', ms=12, mec='r',\n",
    "        label=\" Continous pdf p(x)\")\n",
    "ax2.legend(bbox_to_anchor=(-0.05, 1), loc='upper left', borderaxespad=0.)\n",
    "\n",
    "\n",
    "l=0"
   ]
  },
  {
   "cell_type": "markdown",
   "metadata": {},
   "source": [
    "# Cumulative density function\n",
    "Cumulative density function : F(t)=P(T<=t)\n",
    "\n",
    "Probabilty density function : f(t)"
   ]
  },
  {
   "cell_type": "code",
   "execution_count": 162,
   "metadata": {},
   "outputs": [
    {
     "name": "stdout",
     "output_type": "stream",
     "text": [
      "t=b= = 1.000\n",
      "F(t) = 0.804\n",
      "P(T<1.000) = 0.804\n"
     ]
    }
   ],
   "source": [
    "import numpy as np\n",
    "import matplotlib.pyplot as plt\n",
    "from  scipy import stats\n",
    "df=3 #degree of fredoom\n",
    "# Calculate Cumulative dstrib function for =b=1\n",
    "b=1\n",
    "t_b= stats.t.cdf(b,df=df)\n",
    "print(\"t=b= = {:2.3f}\".format(b))\n",
    "print(\"F(t) = {:2.3f}\".format(t_b)) \n",
    "print(\"P(T<{:1.3f}) = {:2.3f}\".format(b,t_b)) "
   ]
  },
  {
   "cell_type": "markdown",
   "metadata": {},
   "source": [
    "#### Plot"
   ]
  },
  {
   "cell_type": "code",
   "execution_count": 24,
   "metadata": {},
   "outputs": [
    {
     "name": "stdout",
     "output_type": "stream",
     "text": [
      "t      = 1.000\n",
      "F(t) = 0.804\n"
     ]
    },
    {
     "data": {
      "image/png": "[encoded data removed]",
      "text/plain": [
       "<Figure size 518.4x288 with 2 Axes>"
      ]
     },
     "metadata": {
      "needs_background": "light"
     },
     "output_type": "display_data"
    }
   ],
   "source": [
    "import numpy as np\n",
    "import matplotlib.pyplot as plt\n",
    "from  scipy import stats\n",
    "df=3\n",
    "A=3\n",
    "# Create a 100 points linespace between -A and +A \n",
    "x = np.linspace(-A, A, 11)\n",
    "# loc=mean,  scale= std\n",
    "x = np.linspace(stats.t.ppf(0.01, df),stats.t.ppf(0.99, df), 11)\n",
    "#Probabilty density function\n",
    "pk=stats.t.pdf(x, df)\n",
    "#Cumulative density function\n",
    "tcdf= stats.t.cdf(x,df=df)\n",
    "fig, (ax1,ax2) = plt.subplots(1, 2,figsize=(7.2,4))\n",
    "\n",
    "\n",
    "# Plot PDF\n",
    "ax1.plot(x,pk, 'r-', lw=3, alpha=0.6,label=\"Probabilty density function\")\n",
    "\n",
    "# Plot CDF\n",
    "ax2.plot(x,tcdf, 'r-', lw=3, c='b',alpha=0.6,label='Cumulative distribution function')\n",
    "\n",
    "\n",
    "\n",
    "# Calculate Cumulative dstrib function for =b=1\n",
    "b=1\n",
    "t_b= stats.t.cdf(b,df=df)\n",
    "# plot CDF for z=1=b\n",
    "x1= np.linspace(x[0],b, 100)\n",
    "#Fill the area of pdf\n",
    "ax1.fill_between(x1,stats.t.pdf(x1,df=df),\n",
    "                color='blue',label='F(b)=P(t<=b)={:2.3f}'.format(PHI_b))\n",
    "#Fill survaival area\n",
    "x1= np.linspace(b,x[-1], 100)\n",
    "ax1.fill_between(x1,stats.t.pdf(x1,df=df),\n",
    "                color='y',label='Survaival F: P(t>b)={:2.3f}'.format(1-PHI_b))\n",
    "#PLOT CDF\n",
    "bz= stats.t.cdf(b,df=df)\n",
    "ax2.plot([b,b],[0,bz],'--',c='b')# vertical line\n",
    "ax2.plot([-A,bz],[bz,bz],'--',c='b',label='F(b)={:2.3f}'\n",
    "         .format(PHI_b)) #horizzontal line\n",
    "ax1.legend(bbox_to_anchor=(0.0,-0.1), loc=2, borderaxespad=0.)\n",
    "ax2.legend(bbox_to_anchor=(0.0,-0.1), loc=2, borderaxespad=0.)\n",
    "\n",
    "''''''\n",
    "print(\"t      = {:2.3f}\".format(b))\n",
    "print(\"F(t) = {:2.3f}\".format(t_b)) "
   ]
  },
  {
   "cell_type": "markdown",
   "metadata": {},
   "source": [
    "### Inverse of cumulative (ppf)\n",
    "We use the Percent Point Funcion"
   ]
  },
  {
   "cell_type": "code",
   "execution_count": 29,
   "metadata": {},
   "outputs": [
    {
     "name": "stdout",
     "output_type": "stream",
     "text": [
      "F⁻ⁱ(0.804)= 1.000\n"
     ]
    }
   ],
   "source": [
    "E_1=\"\\u207B\\u2071\" # Unicode for Inverse of F\n",
    "INVF=\"F\"+E_1       # Unicode for Inverse of F\n",
    "quantile=PHI_b\n",
    "b=stats.t.ppf(quantile,df)\n",
    "print(\"{:s}({:2.3f})= {:2.3f}\".format(INVF,quantile,b))\n"
   ]
  },
  {
   "cell_type": "markdown",
   "metadata": {},
   "source": [
    "### Survaival function and inverse of sf"
   ]
  },
  {
   "cell_type": "code",
   "execution_count": 30,
   "metadata": {},
   "outputs": [
    {
     "name": "stdout",
     "output_type": "stream",
     "text": [
      "Survaival function : sf(1.000)=1-F(1.000)= 0.196\n",
      "Inverse survival function :  isf(0.196)=F⁻ⁱ(1-0.196)= 1.000\n"
     ]
    }
   ],
   "source": [
    "sf=stats.t.sf(b,df)\n",
    "isf=stats.t.isf(sf,df)\n",
    "\n",
    "print(\"Survaival function : sf({:2.3f})=1-F({:1.3f})= {:2.3f}\"\n",
    "      .format(b,b,sf))\n",
    "q=sf #quantile\n",
    "print(\"Inverse survival function : \"+\n",
    "      \" isf({:2.3f})=\".format(q)+INVF+\"(1-{:2.3f})= {:2.3f}\"\n",
    "      .format(q,isf))"
   ]
  },
  {
   "cell_type": "markdown",
   "metadata": {},
   "source": [
    "### Interval"
   ]
  },
  {
   "cell_type": "code",
   "execution_count": 26,
   "metadata": {},
   "outputs": [
    {
     "name": "stdout",
     "output_type": "stream",
     "text": [
      "Interval with area of 0.500 =[-0.765;0.765]\n"
     ]
    }
   ],
   "source": [
    "quantile=0.5\n",
    "i=stats.t.interval(0.5,df)\n",
    "print(\"Interval with area of {:2.3f} =[{:2.3f};{:2.3f}]\"\n",
    "      .format(quantile,i[0],i[1]))"
   ]
  },
  {
   "cell_type": "markdown",
   "metadata": {},
   "source": [
    "To find the area given the interval we use the cumulative distrubution : \n",
    "    \n",
    "    Area=quantile= F(t2)-F(t1)"
   ]
  },
  {
   "cell_type": "code",
   "execution_count": 63,
   "metadata": {},
   "outputs": [
    {
     "name": "stdout",
     "output_type": "stream",
     "text": [
      "Area between interval [-0.765;0.765] = 0.500\n"
     ]
    }
   ],
   "source": [
    "q=stats.t.cdf(i[1],df=df)-stats.t.cdf(i[0],df=df)\n",
    "print(\"Area between interval [{:2.3f};{:2.3f}] = {:2.3f}\"\n",
    "      .format(i[0],i[1],q))"
   ]
  },
  {
   "cell_type": "markdown",
   "metadata": {},
   "source": [
    "# Definition of alpha\n",
    "\n",
    "\\begin{align}\n",
    "P(Z>t_{\\alpha})=\\alpha\\\\\n",
    "P(Z<t_{\\alpha}=1-\\alpha)\n",
    "\\end{align}"
   ]
  },
  {
   "cell_type": "code",
   "execution_count": 159,
   "metadata": {},
   "outputs": [
    {
     "name": "stdout",
     "output_type": "stream",
     "text": [
      "z_alpha :1.960  alpha : 0.025 1-alpha: 0.975\n",
      "P(Z>1.960)=0.025 )\n"
     ]
    },
    {
     "data": {
      "text/plain": [
       "''"
      ]
     },
     "execution_count": 159,
     "metadata": {},
     "output_type": "execute_result"
    },
    {
     "data": {
      "image/png": "[encoded data removed]",
      "text/plain": [
       "<Figure size 432x288 with 1 Axes>"
      ]
     },
     "metadata": {
      "needs_background": "light"
     },
     "output_type": "display_data"
    }
   ],
   "source": [
    "import numpy as np\n",
    "import matplotlib.pyplot as plt\n",
    "from  scipy import stats\n",
    "A=3\n",
    "df=8 #degree of fredom\n",
    "# Create a 100 points linespace between -A and +A \n",
    "x = np.linspace(-A, A, 100)\n",
    "# loc=mean,  scale= std\n",
    "T=stats.t.pdf(x,df=df)\n",
    "\n",
    "fig, ax = plt.subplots(1, 1)\n",
    "\n",
    "\n",
    "# Plot distribution (pdf)\n",
    "ax.plot(x, T, 'r-', lw=3, alpha=0.6)\n",
    "\n",
    "alpha=0.025\n",
    "q=1-alpha # Left area (quantile)\n",
    "\n",
    "#Right area :Inverse survival function (inverse of sf).\n",
    "t_a= stats.norm.isf(alpha,loc=0,scale=1)\n",
    "x1= np.linspace(t_a,x[-1], 100)\n",
    "\n",
    "ax.fill_between(x1,stats.t.pdf(x1,df=df), \n",
    "                color='blue',label='alpha : {}'.format(alpha))\n",
    "ax.plot([], [], ' ', label=\"t_alpha : {:2.3f}\".format(t_a))\n",
    "\n",
    "#quantile 1-alpha\n",
    "x1= np.linspace(-A,t_a, 100)\n",
    "ax.fill_between(x1,stats.t.pdf(x1,df=df), \n",
    "                color='y',label='quantile 1-alpha : {}'.format(1-alpha))\n",
    "print(\"z_alpha :{:2.3f}  alpha : {:2.3f} 1-alpha: {:2.3f}\"\n",
    "      .format(t_a,alpha,1-alpha))\n",
    "print(\"P(Z>{:2.3f})={:2.3f} )\".format(t_a,alpha))\n",
    "\n",
    "ax.legend(loc=\"upper right\")\n",
    "''''''"
   ]
  },
  {
   "cell_type": "markdown",
   "metadata": {},
   "source": [
    "### Interval\n",
    "\n",
    "\\begin{align}\n",
    "P(a<T<b)=F(b)-F(a)\n",
    "\\end{align}"
   ]
  },
  {
   "cell_type": "markdown",
   "metadata": {},
   "source": [
    "### Case 1 : given a and b\n",
    "we find p=(1-alpha) end alpha"
   ]
  },
  {
   "cell_type": "code",
   "execution_count": 61,
   "metadata": {
    "hide_input": false
   },
   "outputs": [
    {
     "name": "stdout",
     "output_type": "stream",
     "text": [
      "a= -1.000000\tb=1.000000\n",
      "F(b)=0.826703\tF(a)=0.173\n",
      "1-alpha=F(b)-F(a)=0.653\n",
      "alpha=1-p=0.347\n",
      "alpha/2=0.173\n"
     ]
    }
   ],
   "source": [
    "df=8\n",
    "a=-1\n",
    "b=1\n",
    "F_b= stats.t.cdf(b,df)\n",
    "F_a= stats.t.cdf(a,df)\n",
    "p=F_b-F_a\n",
    "alpha=1-p\n",
    "print(\"a= {:3f}\\tb={:3f}\".format(a,b))\n",
    "print(\"F(b)={:3f}\\tF(a)={:2.3f}\".format(F_b,F_a))\n",
    "print(\"1-alpha=F(b)-F(a)={:2.3f}\".format(p))\n",
    "print(\"alpha=1-p={:2.3f}\".format(alpha))\n",
    "print(\"alpha/2={:2.3f}\".format(alpha/2))\n"
   ]
  },
  {
   "cell_type": "markdown",
   "metadata": {},
   "source": [
    "We can also use , to calculate alpha (for a=b, and then for simmetry) :"
   ]
  },
  {
   "cell_type": "code",
   "execution_count": 59,
   "metadata": {},
   "outputs": [
    {
     "name": "stdout",
     "output_type": "stream",
     "text": [
      "Interval [-1;1]\n",
      "alpha/2=0.173\n",
      "alpha=0.347\n",
      "p=1-alpha=0.653\n",
      "alpha/2=0.173\n"
     ]
    }
   ],
   "source": [
    "alpha2=stats.t.sf(b,df)\n",
    "print(\"Interval [{};{}]\".format(-b,b))\n",
    "print(\"alpha/2={:2.3f}\".format(alpha2))\n",
    "print(\"alpha={:2.3f}\".format(2*alpha2))\n",
    "print(\"p=1-alpha={:2.3f}\".format(1-alpha))\n",
    "print(\"alpha/2={:2.3f}\".format(alpha/2))\n"
   ]
  },
  {
   "cell_type": "markdown",
   "metadata": {},
   "source": [
    "### Case 2 : given alpha\n",
    "We find a and b"
   ]
  },
  {
   "cell_type": "code",
   "execution_count": 56,
   "metadata": {},
   "outputs": [
    {
     "name": "stdout",
     "output_type": "stream",
     "text": [
      "alpha=0.347\talpha/2=0.173\n",
      "Interval [-1.00;1.00]\n"
     ]
    }
   ],
   "source": [
    "b=stats.t.isf(alpha/2,df)\n",
    "print(\"alpha={:1.3f}\\talpha/2={:2.3f}\".format(alpha,alpha2))\n",
    "print(\"Interval [{:1.2f};{:1.2f}]\".format(-b,b))\n"
   ]
  },
  {
   "cell_type": "markdown",
   "metadata": {},
   "source": [
    "#### Plot the areas "
   ]
  },
  {
   "cell_type": "code",
   "execution_count": 57,
   "metadata": {},
   "outputs": [
    {
     "name": "stdout",
     "output_type": "stream",
     "text": [
      "a= -1.000000\tb=1.000000\n",
      "F(b)=0.826703\tF(a)=0.173\n",
      "1-alpha=F(b)-F(a)=0.653\n",
      "alpha=1-p=0.347\n",
      "alpha/2=0.173\n"
     ]
    },
    {
     "data": {
      "text/plain": [
       "''"
      ]
     },
     "execution_count": 57,
     "metadata": {},
     "output_type": "execute_result"
    },
    {
     "data": {
      "image/png": "[encoded data removed]",
      "text/plain": [
       "<Figure size 432x288 with 1 Axes>"
      ]
     },
     "metadata": {
      "needs_background": "light"
     },
     "output_type": "display_data"
    }
   ],
   "source": [
    "import numpy as np\n",
    "import matplotlib.pyplot as plt\n",
    "from  scipy import stats\n",
    "A=3\n",
    "df=8\n",
    "# Create a 100 points linespace between -A and +A \n",
    "x = np.linspace(-A, A, 100)\n",
    "# loc=mean,  scale= std\n",
    "T=stats.t.pdf(x,df=df)\n",
    "\n",
    "fig, ax = plt.subplots(1, 1)\n",
    "\n",
    "# a and b are known : we get Phi(a) and Phi(b)\n",
    "a=-1\n",
    "b=1\n",
    "F_b= stats.t.cdf(b,df)\n",
    "F_a= stats.t.cdf(a,df)\n",
    "p=F_b-F_a\n",
    "alpha=1-p\n",
    "print(\"a= {:3f}\\tb={:3f}\".format(a,b))\n",
    "print(\"F(b)={:3f}\\tF(a)={:2.3f}\".format(F_b,F_a))\n",
    "print(\"1-alpha=F(b)-F(a)={:2.3f}\".format(p))\n",
    "print(\"alpha=1-p={:2.3f}\".format(alpha))\n",
    "print(\"alpha/2={:2.3f}\".format(alpha/2))\n",
    "\n",
    "# Plot distr\n",
    "ax.plot(x, T, 'r-', lw=3, alpha=0.6)\n",
    "\n",
    "x1= np.linspace(a,b, 100)\n",
    "# Plot area a between b\n",
    "ax.fill_between(x1,stats.t.pdf(x1,df), \n",
    "                color='y',label='P(a<T<b) ={:2.3}'.format(p))\n",
    "ax.plot([], [], ' ', label=\" a : {:2.1f}\".format(a))\n",
    "ax.plot([], [], ' ', label=\" b : {:2.1f}\".format(b))\n",
    "\n",
    "# Plot left tail\n",
    "x1= np.linspace(-A,a,100)\n",
    "ax.fill_between(x1,stats.t.pdf(x1,df), \n",
    "                color='b',label='alpha/2 = {:2.3f}'.format(alpha/2))\n",
    "x1= np.linspace(b,A,100)\n",
    "# Plot right tail\n",
    "ax.fill_between(x1,stats.t.pdf(x1,df), \n",
    "                color='g',label='alpha/2 = {:2.3f}'.format(alpha/2))\n",
    "\n",
    "ax.legend(loc=\"upper right\")\n",
    "''''''"
   ]
  },
  {
   "cell_type": "markdown",
   "metadata": {},
   "source": [
    "# Table bulding"
   ]
  },
  {
   "cell_type": "markdown",
   "metadata": {},
   "source": [
    "### Left tail table"
   ]
  },
  {
   "cell_type": "code",
   "execution_count": 10,
   "metadata": {},
   "outputs": [
    {
     "data": {
      "image/png": "[encoded data removed]",
      "text/plain": [
       "<Figure size 648x144 with 2 Axes>"
      ]
     },
     "metadata": {
      "needs_background": "light"
     },
     "output_type": "display_data"
    }
   ],
   "source": [
    "import pandas as pd\n",
    "q1=0.025\n",
    "q2=0.01\n",
    "q3=0.005\n",
    "\n",
    "cell_text = []\n",
    "\n",
    "for df in range(1,8):\n",
    "    a= stats.t.ppf(q1, df, loc=0, scale=1) \n",
    "    b=stats.t.ppf(q2, df, loc=0, scale=1) \n",
    "    c=stats.t.ppf(q3, df, loc=0, scale=1)\n",
    "    row=np.array([a,b,c])\n",
    "    row=np.round(row,3)\n",
    "    row=np.append(str(df),row)\n",
    "    cell_text.append(pd.Series(row))\n",
    "\n",
    "\n",
    "cell_text\n",
    "# table\n",
    "fig,(ax1,ax2) = plt.subplots(1,2,figsize=(9,2),\n",
    "                             gridspec_kw={'width_ratios': [3, 1]})\n",
    "# PLOT TABLE\n",
    "#plt.subplot(121,figsize=(10,10))\n",
    "labels=['df ','alpha= {:2.3f}'.format(q1),'alpha= {:2.3f}'\n",
    "        .format(q2),'alpha= {:2.3f}'.format(q3)]\n",
    "table=ax1.table(cellText=cell_text, colLabels=labels, loc='center')\n",
    "table.set_fontsize(14)\n",
    "table.scale(1.1, 2)  # may help\n",
    "ax1.axis('off')\n",
    "\n",
    "\n",
    "#PLOT TAIL\n",
    "# x Axes :from prob.= 0.01 to 0.99\n",
    "x = np.linspace(stats.t.ppf(0.01, df),stats.t.ppf(0.99, df), 100)\n",
    "#Y=  pdf in x \n",
    "y=stats.t.pdf(x, df)\n",
    "# Plot pdf\n",
    "ax2.plot(x, y, 'r-', lw=3, alpha=0.6)\n",
    "q=0.05 # Left areaA (quantile)\n",
    "T =stats.t.ppf(q, df) # Percent Point Function\n",
    "x1= np.linspace(x[0],T, 100)\n",
    "ax2.fill_between(x1,stats.t.pdf(x1, df), color='blue',label=\" ALPHA \")\n",
    "ax2.legend(loc=\"upper right\")\n",
    "x=0"
   ]
  },
  {
   "cell_type": "markdown",
   "metadata": {},
   "source": [
    "### Right tail table"
   ]
  },
  {
   "cell_type": "code",
   "execution_count": 158,
   "metadata": {},
   "outputs": [
    {
     "data": {
      "text/html": [
       "<div>\n",
       "<style scoped>\n",
       "    .dataframe tbody tr th:only-of-type {\n",
       "        vertical-align: middle;\n",
       "    }\n",
       "\n",
       "    .dataframe tbody tr th {\n",
       "        vertical-align: top;\n",
       "    }\n",
       "\n",
       "    .dataframe thead th {\n",
       "        text-align: right;\n",
       "    }\n",
       "</style>\n",
       "<table border=\"1\" class=\"dataframe\">\n",
       "  <thead>\n",
       "    <tr style=\"text-align: right;\">\n",
       "      <th>RightTailAria</th>\n",
       "      <th>0.025</th>\n",
       "      <th>0.010</th>\n",
       "      <th>0.005</th>\n",
       "    </tr>\n",
       "    <tr>\n",
       "      <th>df</th>\n",
       "      <th></th>\n",
       "      <th></th>\n",
       "      <th></th>\n",
       "    </tr>\n",
       "  </thead>\n",
       "  <tbody>\n",
       "    <tr>\n",
       "      <th>1.0</th>\n",
       "      <td>12.706</td>\n",
       "      <td>31.821</td>\n",
       "      <td>63.657</td>\n",
       "    </tr>\n",
       "    <tr>\n",
       "      <th>2.0</th>\n",
       "      <td>4.303</td>\n",
       "      <td>6.965</td>\n",
       "      <td>9.925</td>\n",
       "    </tr>\n",
       "    <tr>\n",
       "      <th>3.0</th>\n",
       "      <td>3.182</td>\n",
       "      <td>4.541</td>\n",
       "      <td>5.841</td>\n",
       "    </tr>\n",
       "    <tr>\n",
       "      <th>4.0</th>\n",
       "      <td>2.776</td>\n",
       "      <td>3.747</td>\n",
       "      <td>4.604</td>\n",
       "    </tr>\n",
       "    <tr>\n",
       "      <th>5.0</th>\n",
       "      <td>2.571</td>\n",
       "      <td>3.365</td>\n",
       "      <td>4.032</td>\n",
       "    </tr>\n",
       "    <tr>\n",
       "      <th>6.0</th>\n",
       "      <td>2.447</td>\n",
       "      <td>3.143</td>\n",
       "      <td>3.707</td>\n",
       "    </tr>\n",
       "    <tr>\n",
       "      <th>7.0</th>\n",
       "      <td>2.365</td>\n",
       "      <td>2.998</td>\n",
       "      <td>3.499</td>\n",
       "    </tr>\n",
       "  </tbody>\n",
       "</table>\n",
       "</div>"
      ],
      "text/plain": [
       "RightTailAria   0.025   0.010   0.005\n",
       "df                                   \n",
       "1.0            12.706  31.821  63.657\n",
       "2.0             4.303   6.965   9.925\n",
       "3.0             3.182   4.541   5.841\n",
       "4.0             2.776   3.747   4.604\n",
       "5.0             2.571   3.365   4.032\n",
       "6.0             2.447   3.143   3.707\n",
       "7.0             2.365   2.998   3.499"
      ]
     },
     "execution_count": 158,
     "metadata": {},
     "output_type": "execute_result"
    }
   ],
   "source": [
    "import numpy as np\n",
    "import pandas as pd\n",
    "arr=np.empty(shape=[7,4])\n",
    "q1=0.025\n",
    "q2=0.01\n",
    "q3=0.005\n",
    "for df in range(0,7):\n",
    "    a= stats.t.isf(q1, df+1, loc=0, scale=1) \n",
    "    b=stats.t.isf(q2, df+1, loc=0, scale=1) \n",
    "    c=stats.t.isf(q3, df+1, loc=0, scale=1) \n",
    "    arr[df]=[df+1,a,b,c]\n",
    "table=pd.DataFrame(arr,columns=['df',q1,q2,q3] )\n",
    "table.set_index('df',inplace=True)\n",
    "table.columns.name='RightTailAria'\n",
    "table.round(3)"
   ]
  },
  {
   "cell_type": "markdown",
   "metadata": {},
   "source": [
    "### Two tails table ( positive value)"
   ]
  },
  {
   "cell_type": "code",
   "execution_count": 157,
   "metadata": {},
   "outputs": [
    {
     "data": {
      "text/html": [
       "<div>\n",
       "<style scoped>\n",
       "    .dataframe tbody tr th:only-of-type {\n",
       "        vertical-align: middle;\n",
       "    }\n",
       "\n",
       "    .dataframe tbody tr th {\n",
       "        vertical-align: top;\n",
       "    }\n",
       "\n",
       "    .dataframe thead tr th {\n",
       "        text-align: left;\n",
       "    }\n",
       "\n",
       "    .dataframe thead tr:last-of-type th {\n",
       "        text-align: right;\n",
       "    }\n",
       "</style>\n",
       "<table border=\"1\" class=\"dataframe\">\n",
       "  <thead>\n",
       "    <tr>\n",
       "      <th>TwoTailsArea</th>\n",
       "      <th>0.200</th>\n",
       "      <th>0.100</th>\n",
       "      <th>0.050</th>\n",
       "    </tr>\n",
       "    <tr>\n",
       "      <th>CentralArea</th>\n",
       "      <th>0.8</th>\n",
       "      <th>0.9</th>\n",
       "      <th>0.95</th>\n",
       "    </tr>\n",
       "    <tr>\n",
       "      <th>dof</th>\n",
       "      <th></th>\n",
       "      <th></th>\n",
       "      <th></th>\n",
       "    </tr>\n",
       "  </thead>\n",
       "  <tbody>\n",
       "    <tr>\n",
       "      <th>1.0</th>\n",
       "      <td>3.078</td>\n",
       "      <td>6.314</td>\n",
       "      <td>12.706</td>\n",
       "    </tr>\n",
       "    <tr>\n",
       "      <th>2.0</th>\n",
       "      <td>1.886</td>\n",
       "      <td>2.920</td>\n",
       "      <td>4.303</td>\n",
       "    </tr>\n",
       "    <tr>\n",
       "      <th>3.0</th>\n",
       "      <td>1.638</td>\n",
       "      <td>2.353</td>\n",
       "      <td>3.182</td>\n",
       "    </tr>\n",
       "    <tr>\n",
       "      <th>4.0</th>\n",
       "      <td>1.533</td>\n",
       "      <td>2.132</td>\n",
       "      <td>2.776</td>\n",
       "    </tr>\n",
       "    <tr>\n",
       "      <th>5.0</th>\n",
       "      <td>1.476</td>\n",
       "      <td>2.015</td>\n",
       "      <td>2.571</td>\n",
       "    </tr>\n",
       "    <tr>\n",
       "      <th>6.0</th>\n",
       "      <td>1.440</td>\n",
       "      <td>1.943</td>\n",
       "      <td>2.447</td>\n",
       "    </tr>\n",
       "    <tr>\n",
       "      <th>7.0</th>\n",
       "      <td>1.415</td>\n",
       "      <td>1.895</td>\n",
       "      <td>2.365</td>\n",
       "    </tr>\n",
       "  </tbody>\n",
       "</table>\n",
       "</div>"
      ],
      "text/plain": [
       "TwoTailsArea  0.200  0.100   0.050\n",
       "CentralArea     0.8    0.9    0.95\n",
       "dof                               \n",
       "1.0           3.078  6.314  12.706\n",
       "2.0           1.886  2.920   4.303\n",
       "3.0           1.638  2.353   3.182\n",
       "4.0           1.533  2.132   2.776\n",
       "5.0           1.476  2.015   2.571\n",
       "6.0           1.440  1.943   2.447\n",
       "7.0           1.415  1.895   2.365"
      ]
     },
     "execution_count": 157,
     "metadata": {},
     "output_type": "execute_result"
    }
   ],
   "source": [
    "import numpy as np\n",
    "import pandas as pd\n",
    "arr=np.empty(shape=[7,4])\n",
    "# q Central area;   (1-q) : tails area\n",
    "q1=0.8\n",
    "q2=0.9\n",
    "q3=0.95\n",
    "for dof in range(1,8):\n",
    "    a= stats.t.interval(q1, dof, loc=0, scale=1)[1]\n",
    "    b=stats.t.interval(q2, dof, loc=0, scale=1)[1] \n",
    "    c=stats.t.interval(q3, dof, loc=0, scale=1)[1] \n",
    "    arr[dof-1]=[dof,a,b,c]\n",
    "\n",
    "table=pd.DataFrame(arr,columns=['dof',q1,q2,q3] )\n",
    "table.set_index('dof',inplace=True)\n",
    "table.columns.name='CentralAria'\n",
    "\n",
    "df1=table.loc[:,q1]\n",
    "df2=table.loc[:,q2]\n",
    "df3=table.loc[:,q3]\n",
    "\n",
    "df1=pd.concat({str(q1): df1}\n",
    "          , names=['CentralArea'],axis=1)\n",
    "df2=pd.concat({str(q2): df2}\n",
    "          , names=['CentralArea'],axis=1)\n",
    "df3=pd.concat({str(q3): df3}\n",
    "          , names=['CentralArea'],axis=1)\n",
    "\n",
    "table=pd.concat([df1, df2, df3], axis=1,\n",
    "          keys=[\"{:1.3f}\".format(1-q1),\"{:1.3f}\".format(1-q2),\n",
    "                \"{:1.3f}\".format(1-q3)],names=['TwoTailsArea'])\n",
    "table.round(3)"
   ]
  },
  {
   "cell_type": "markdown",
   "metadata": {},
   "source": [
    "Iovino Antonello"
   ]
  }
 ],
 "metadata": {
  "kernelspec": {
   "display_name": "Finantial",
   "language": "python",
   "name": "finantial"
  },
  "language_info": {
   "codemirror_mode": {
    "name": "ipython",
    "version": 3
   },
   "file_extension": ".py",
   "mimetype": "text/x-python",
   "name": "python",
   "nbconvert_exporter": "python",
   "pygments_lexer": "ipython3",
   "version": "3.7.7"
  }
 },
 "nbformat": 4,
 "nbformat_minor": 4
}
