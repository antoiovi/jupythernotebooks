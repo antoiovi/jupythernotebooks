{
 "cells": [
  {
   "cell_type": "code",
   "execution_count": 52,
   "metadata": {},
   "outputs": [
    {
     "data": {
      "text/html": [
       "<style>.container { width:800px !important; }</style>"
      ],
      "text/plain": [
       "<IPython.core.display.HTML object>"
      ]
     },
     "metadata": {},
     "output_type": "display_data"
    }
   ],
   "source": [
    "from IPython.core.display import display, HTML\n",
    "display(HTML(\"<style>.container { width:800px !important; }</style>\"))"
   ]
  },
  {
   "cell_type": "markdown",
   "metadata": {},
   "source": [
    "# Z distribution\n",
    "Study with python"
   ]
  },
  {
   "cell_type": "markdown",
   "metadata": {},
   "source": [
    "Libraries used in this example"
   ]
  },
  {
   "cell_type": "code",
   "execution_count": 3,
   "metadata": {},
   "outputs": [
    {
     "name": "stdout",
     "output_type": "stream",
     "text": [
      "Python: 3.7.7 (default, May  7 2020, 21:25:33) \n",
      "[GCC 7.3.0]\n",
      "scipy: 1.5.2\n",
      "numpy: 1.18.1\n",
      "matplotlib: 3.1.3\n",
      "pandas: 1.0.3\n"
     ]
    }
   ],
   "source": [
    "import sys\n",
    "print('Python: {}'.format(sys.version))\n",
    "# scipy\n",
    "import scipy\n",
    "print('scipy: {}'.format(scipy.__version__))\n",
    "# numpy\n",
    "import numpy\n",
    "print('numpy: {}'.format(numpy.__version__))\n",
    "# matplotlib\n",
    "import matplotlib\n",
    "print('matplotlib: {}'.format(matplotlib.__version__))\n",
    "# pandas\n",
    "import pandas\n",
    "print('pandas: {}'.format(pandas.__version__))"
   ]
  },
  {
   "cell_type": "code",
   "execution_count": 4,
   "metadata": {},
   "outputs": [
    {
     "name": "stdout",
     "output_type": "stream",
     "text": [
      "Media               : 0.000000\n",
      "Varianza            : 1.333333\n",
      "Skewness (simmetria): 0.000000\n",
      "Curtosi             : 1.500000\n"
     ]
    }
   ],
   "source": [
    "from  scipy import stats\n",
    "df=8   # Gradi di liberta'\n",
    "mean, var, skew, kurt = stats.t.stats(df, moments='mvsk')\n",
    "print(\"Media               : {:2.6f}\".format(mean))\n",
    "print(\"Varianza            : {:2.6f}\".format(var))\n",
    "print(\"Skewness (simmetria): {:2.6f}\".format(skew))\n",
    "print(\"Curtosi             : {:2.6f}\".format(kurt))\n"
   ]
  },
  {
   "cell_type": "markdown",
   "metadata": {},
   "source": [
    "# Plot the z-distribution"
   ]
  },
  {
   "cell_type": "markdown",
   "metadata": {},
   "source": [
    "## Density function\n",
    "f(x) is the probability density function of N(mu;sigma).\n",
    "\n",
    "With f[(x-mu)/sigma ]=phi(z) we get a normal standard distribuzion  with mean=0 and sigma=1.\n",
    "\n",
    "\n",
    "\\begin{align}\n",
    "f(x)=\\frac{1}{\\sqrt{2\\pi }\\sigma}e^{-(x-\\mu)^2/2\\sigma^2}\n",
    "\\\\\n",
    "\\phi(z)=\\frac{1}{\\sqrt{2\\pi }}e^{-(z)^2/2}\n",
    "\\\\z=\\frac{x-\\mu}{\\sigma}\n",
    "\\end{align}"
   ]
  },
  {
   "cell_type": "markdown",
   "metadata": {},
   "source": [
    "<p style=\"font-size:120%;\">\n",
    "The z-distribution is a normal distribution whit mean =0 and standard deviation =1 <br>\n",
    "We will use :<br>\n",
    "The stats module from library scipy : <br>\n",
    "</p> \n",
    "\n",
    "```python\n",
    "from  scipy import stats\n",
    "# loc= mean\n",
    "# scale= standard deviation\n",
    "stats.norm.pdf(x, loc=0,scale=1)\n",
    "```"
   ]
  },
  {
   "cell_type": "code",
   "execution_count": 167,
   "metadata": {},
   "outputs": [
    {
     "data": {
      "text/plain": [
       "''"
      ]
     },
     "execution_count": 167,
     "metadata": {},
     "output_type": "execute_result"
    },
    {
     "data": {
      "image/png": "[encoded data removed]",
      "text/plain": [
       "<Figure size 432x288 with 1 Axes>"
      ]
     },
     "metadata": {
      "needs_background": "light"
     },
     "output_type": "display_data"
    }
   ],
   "source": [
    "import numpy as np\n",
    "import matplotlib.pyplot as plt\n",
    "from  scipy import stats\n",
    "\n",
    "fig, ax = plt.subplots(1, 1)\n",
    "A=3\n",
    "# Create a 100 points linespace between -A and +A \n",
    "x = np.linspace(-A, A, 100)\n",
    "# loc=mean,  scale= std\n",
    "Z=stats.norm.pdf(x,loc=0,scale=1)\n",
    "\n",
    "#Obtain some moments\n",
    "mean, var, skew, kurt = stats.norm.stats(loc=0,scale=1,moments='mvsk')\n",
    "\n",
    "#For each value of x  get  y= stats.t.pdf(x,df), that is the PDF\n",
    "\n",
    "ax.plot(x, Z, 'r-', lw=2, \n",
    "        alpha=0.6, label='phi(x)')\n",
    "ax.plot([], [], ' ', label=\"Mean     : {:2.2f} \".format(mean))\n",
    "ax.plot([], [], ' ', label=\"Variance : {:2.2f}\".format(var))\n",
    "ax.plot([], [], ' ', label=\"Sweness  : {:2.5f}\".format(skew))\n",
    "ax.plot([], [], ' ', label=\"Kurtosis : {:2.5f}\".format(kurt))\n",
    "\n",
    "plt.legend(bbox_to_anchor=(1.05, 1), loc='upper left', borderaxespad=0.0)\n",
    "plt.title('z-distribution Probabilty density function (pdf)')\n",
    "''''''"
   ]
  },
  {
   "cell_type": "markdown",
   "metadata": {},
   "source": [
    " <h4>REMEMBER PDF in random continuos variables is not the same than discrete</h4>  <br>\n",
    " Extract from wikipedia :<br>\n",
    "The probability density function (PDF), or density of a continuous random variable, is a function whose value at any given sample (or point) in the sample space (the set of possible values taken by the random variable) can be interpreted as providing a relative likelihood that the value of the random variable would equal that sampl<br>\n",
    " \n",
    " ... *** while the absolute likelihood for a continuous random variable to take on any particular value is 0 (since there are an infinite set of possible values to begin with) *** , the value of the PDF at two different samples..."
   ]
  },
  {
   "cell_type": "code",
   "execution_count": 724,
   "metadata": {
    "hide_input": false
   },
   "outputs": [
    {
     "data": {
      "image/png": "[encoded data removed]",
      "text/plain": [
       "<Figure size 432x288 with 2 Axes>"
      ]
     },
     "metadata": {
      "needs_background": "light"
     },
     "output_type": "display_data"
    }
   ],
   "source": [
    "import numpy as np\n",
    "import matplotlib.pyplot as plt\n",
    "from  scipy import stats\n",
    "\n",
    "fig, (ax1,ax2) = plt.subplots(1,2)\n",
    "\n",
    "A=3\n",
    "# Create a 100 points linespace between -A and +A \n",
    "x = np.linspace(-A, A, 11)\n",
    "# loc=mean,  scale= std\n",
    "D=stats.norm.pdf(x,loc=0,scale=1)\n",
    "\n",
    "# Plot Probabilty densty function \n",
    "ax1.plot(x, D, 'ro', ms=12, mec='r',\n",
    "        label=\" Discret pdf p(x)\")\n",
    "ax1.vlines(x, 0,D, colors='black', lw=1)\n",
    "ax1.legend(bbox_to_anchor=(-0.05, 1), loc='upper left', borderaxespad=0.)\n",
    "x = np.linspace(-A, A, 100)\n",
    "Z=stats.norm.pdf(x,loc=0,scale=1)\n",
    "ax2.plot(x, Z, 'r', ms=12, mec='r',\n",
    "        label=\" Continous pdf p(x)\")\n",
    "ax2.legend(bbox_to_anchor=(-0.05, 1), loc='upper left', borderaxespad=0.)\n",
    "\n",
    "\n",
    "l=0"
   ]
  },
  {
   "cell_type": "markdown",
   "metadata": {},
   "source": [
    "# Cumulative density function\n",
    "\n",
    "\\begin{align}\n",
    "\\Phi (x)=\\frac{1}{\\sqrt{2\\pi }}\\int_{-\\infty }^{x}e^{-y^2/2}\\mathrm{d}y\n",
    "\\\\\n",
    "=P(Z<x)\n",
    "\\\\\n",
    "\\\\\n",
    "\\\\\n",
    "y=\\frac{x-\\mu}{\\sigma}\n",
    "\\end{align}\n",
    "\n"
   ]
  },
  {
   "cell_type": "code",
   "execution_count": 55,
   "metadata": {},
   "outputs": [
    {
     "name": "stdout",
     "output_type": "stream",
     "text": [
      "b      = 1.000\n",
      "F(b) = 0.841\n",
      "1-F(b) = 0.159\n"
     ]
    },
    {
     "data": {
      "image/png": "[encoded data removed]",
      "text/plain": [
       "<Figure size 518.4x288 with 2 Axes>"
      ]
     },
     "metadata": {
      "needs_background": "light"
     },
     "output_type": "display_data"
    }
   ],
   "source": [
    "import numpy as np\n",
    "import matplotlib.pyplot as plt\n",
    "from  scipy import stats\n",
    "A=3\n",
    "# Create a 100 points linespace between -A and +A \n",
    "x = np.linspace(-A, A, 100)\n",
    "# loc=mean,  scale= std\n",
    "\n",
    "#Probabilty density function\n",
    "zpdf=stats.norm.pdf(x,loc=0,scale=1)\n",
    "#Cumulative density function\n",
    "zcdf= stats.norm.cdf(x,loc=0,scale=1)\n",
    "fig, (ax1,ax2) = plt.subplots(1, 2,figsize=(7.2,4))\n",
    "\n",
    "\n",
    "# Plot PDF\n",
    "ax1.plot(x,zpdf, 'r-', lw=3, alpha=0.6,\n",
    "         label=\"Probabilty density function\")\n",
    "\n",
    "\n",
    "# Plot CDF\n",
    "ax2.plot(x, zcdf, 'r-', lw=3, c='b',alpha=0.6,\n",
    "         label='Cumulative distribution function')\n",
    "\n",
    "\n",
    "\n",
    "# Calculate Cumulative dstrib function for z=b=1\n",
    "b=1\n",
    "PHI_b=stats.norm.cdf(b,loc=0,scale=1)\n",
    "\n",
    "# plot CDF for z=1=b\n",
    "x1= np.linspace(x[0],b, 100)\n",
    "ax1.fill_between(x1,stats.norm.pdf(x1,loc=0,scale=1),color='blue',\n",
    "                 label='F(b)=P(z<=b)={:2.3f}'.format(PHI_b))\n",
    "# plot Survaival CDF for z=1=b\n",
    "x1= np.linspace(b,x[-1], 100)\n",
    "ax1.fill_between(x1,stats.norm.pdf(x1,loc=0,scale=1),color='y',\n",
    "                 label='Survival F : P(z>b)={:2.3f}'.format(1-PHI_b))\n",
    "\n",
    "# Plot CDF\n",
    "bz= stats.norm.cdf(b,loc=0,scale=1)\n",
    "ax2.plot([b,b],[0,bz],'--',c='b')# vertical line\n",
    "ax2.plot([-A,bz],[bz,bz],'--',c='b',label='F(b)={:2.3f}'\n",
    "         .format(PHI_b)) #horizzontal line\n",
    "ax1.legend(bbox_to_anchor=(0.0,-0.1), loc=2, borderaxespad=0.)\n",
    "ax2.legend(bbox_to_anchor=(0.0,-0.1), loc=2, borderaxespad=0.)\n",
    "\n",
    "''''''\n",
    "print(\"b      = {:2.3f}\".format(b))\n",
    "print(\"F(b) = {:2.3f}\".format(PHI_b))\n",
    "print(\"1-F(b) = {:2.3f}\".format(1-PHI_b))"
   ]
  },
  {
   "cell_type": "markdown",
   "metadata": {},
   "source": [
    "### Inverse of cumulative\n",
    "We use the Percent Point Funcion"
   ]
  },
  {
   "cell_type": "code",
   "execution_count": 37,
   "metadata": {},
   "outputs": [
    {
     "name": "stdout",
     "output_type": "stream",
     "text": [
      "F⁻ⁱ(0.841)= 1.000\n"
     ]
    }
   ],
   "source": [
    "E_1=\"\\u207B\\u2071\" # Unicode for Inverse of F\n",
    "INVF=\"F\"+E_1       # Unicode for Inverse of F\n",
    "quantile=PHI_b\n",
    "b=stats.norm.ppf(quantile)\n",
    "print(\"{:s}({:2.3f})= {:2.3f}\".format(INVF,quantile,b))\n"
   ]
  },
  {
   "cell_type": "markdown",
   "metadata": {},
   "source": [
    "### Survaival function and inverse of sf"
   ]
  },
  {
   "cell_type": "code",
   "execution_count": 53,
   "metadata": {},
   "outputs": [
    {
     "name": "stdout",
     "output_type": "stream",
     "text": [
      "Survaival function : sf(1.000)=1-F(1.000)= 0.159\n",
      "Inverse survival function :  isf(0.159)=F⁻ⁱ(1-0.159)= 1.000\n"
     ]
    }
   ],
   "source": [
    "sf=stats.norm.sf(b)\n",
    "isf=stats.norm.isf(sf)\n",
    "\n",
    "print(\"Survaival function : sf({:2.3f})=1-F({:1.3f})= {:2.3f}\"\n",
    "      .format(b,b,sf))\n",
    "q=sf #quantile\n",
    "print(\"Inverse survival function : \"+\n",
    "      \" isf({:2.3f})=\".format(q)+INVF+\"(1-{:2.3f})= {:2.3f}\"\n",
    "      .format(q,isf))"
   ]
  },
  {
   "cell_type": "markdown",
   "metadata": {},
   "source": [
    "### Interval"
   ]
  },
  {
   "cell_type": "code",
   "execution_count": 54,
   "metadata": {},
   "outputs": [
    {
     "name": "stdout",
     "output_type": "stream",
     "text": [
      "Interval with area of 0.500 =[-0.674;0.674]\n"
     ]
    }
   ],
   "source": [
    "quantile=0.5\n",
    "i=stats.norm.interval(0.5) #returns a tuple\n",
    "print(\"Interval with area of {:2.3f} =[{:2.3f};{:2.3f}]\"\n",
    "      .format(quantile,i[0],i[1]))"
   ]
  },
  {
   "cell_type": "markdown",
   "metadata": {},
   "source": [
    "To find the area given the interval we use the cumulative distrubution : \n",
    "    \n",
    "    Area=quantile= F(z2)-F(z1)"
   ]
  },
  {
   "cell_type": "code",
   "execution_count": 58,
   "metadata": {},
   "outputs": [
    {
     "name": "stdout",
     "output_type": "stream",
     "text": [
      "Area between interval [-0.674;0.674] = 0.500\n"
     ]
    }
   ],
   "source": [
    "q=stats.norm.cdf(i[1])-stats.norm.cdf(i[0])\n",
    "print(\"Area between interval [{:2.3f};{:2.3f}] = {:2.3f}\"\n",
    "      .format(i[0],i[1],q))"
   ]
  },
  {
   "cell_type": "markdown",
   "metadata": {},
   "source": [
    "# Definition of alpha\n",
    "\n",
    "\\begin{align}\n",
    "P(Z>z_{\\alpha})=\\alpha\\\\\n",
    "P(Z<z_{\\alpha}=1-\\alpha)\n",
    "\\end{align}"
   ]
  },
  {
   "cell_type": "code",
   "execution_count": 713,
   "metadata": {},
   "outputs": [
    {
     "name": "stdout",
     "output_type": "stream",
     "text": [
      "z_alpha :1.960  alpha : 0.025 1-alpha: 0.975\n",
      "P(Z>1.960)=0.025 )\n"
     ]
    },
    {
     "data": {
      "text/plain": [
       "''"
      ]
     },
     "execution_count": 713,
     "metadata": {},
     "output_type": "execute_result"
    },
    {
     "data": {
      "image/png": "[encoded data removed]",
      "text/plain": [
       "<Figure size 432x288 with 1 Axes>"
      ]
     },
     "metadata": {
      "needs_background": "light"
     },
     "output_type": "display_data"
    }
   ],
   "source": [
    "import numpy as np\n",
    "import matplotlib.pyplot as plt\n",
    "from  scipy import stats\n",
    "A=3\n",
    "# Create a 100 points linespace between -A and +A \n",
    "x = np.linspace(-A, A, 100)\n",
    "# loc=mean,  scale= std\n",
    "Z=stats.norm.pdf(x,loc=0,scale=1)\n",
    "\n",
    "fig, ax = plt.subplots(1, 1)\n",
    "\n",
    "\n",
    "# Plot distribuzione\n",
    "ax.plot(x, Z, 'r-', lw=3, alpha=0.6)\n",
    "\n",
    "alpha=0.025\n",
    "q=1-alpha # AREA SINISTRA (quantile)\n",
    "\n",
    "#Inverse survival function (inverse of sf).\n",
    "z_a= stats.norm.isf(alpha,loc=0,scale=1)\n",
    "x1= np.linspace(z_a,x[-1], 100)\n",
    "\n",
    "ax.fill_between(x1,stats.norm.pdf(x1,loc=0,scale=1), \n",
    "                color='blue',label='alpha : {}'.format(alpha))\n",
    "ax.plot([], [], ' ', label=\"z_alpha : {:2.3f}\".format(z_a))\n",
    "#qyuantile 1-alpha\n",
    "x1= np.linspace(-A,z_a, 100)\n",
    "ax.fill_between(x1,stats.norm.pdf(x1,loc=0,scale=1), \n",
    "                color='y',label='quantile 1-alpha : {}'.format(1-alpha))\n",
    "print(\"z_alpha :{:2.3f}  alpha : {:2.3f} 1-alpha: {:2.3f}\"\n",
    "      .format(z_a,alpha,1-alpha))\n",
    "print(\"P(Z>{:2.3f})={:2.3f} )\".format(z_a,alpha))\n",
    "\n",
    "ax.legend(loc=\"upper right\")\n",
    "''''''"
   ]
  },
  {
   "cell_type": "markdown",
   "metadata": {},
   "source": [
    "### Interval\n",
    "\n",
    "\\begin{align}\n",
    "P(a<Z<b)=\\Phi(b)-\\Phi(a)\n",
    "\\end{align}"
   ]
  },
  {
   "cell_type": "markdown",
   "metadata": {},
   "source": [
    "### Case 1 : given a and b\n",
    "we find p=(1-alpha) end alpha"
   ]
  },
  {
   "cell_type": "code",
   "execution_count": 720,
   "metadata": {},
   "outputs": [
    {
     "data": {
      "text/plain": [
       "''"
      ]
     },
     "execution_count": 720,
     "metadata": {},
     "output_type": "execute_result"
    },
    {
     "data": {
      "image/png": "[encoded data removed]",
      "text/plain": [
       "<Figure size 432x288 with 1 Axes>"
      ]
     },
     "metadata": {
      "needs_background": "light"
     },
     "output_type": "display_data"
    }
   ],
   "source": [
    "import numpy as np\n",
    "import matplotlib.pyplot as plt\n",
    "from  scipy import stats\n",
    "A=3\n",
    "# Create a 100 points linespace between -A and +A \n",
    "x = np.linspace(-A, A, 100)\n",
    "# loc=mean,  scale= std\n",
    "Z=stats.norm.pdf(x,loc=0,scale=1)\n",
    "\n",
    "fig, ax = plt.subplots(1, 1)\n",
    "\n",
    "# a and b are known : we get Phi(a) and Phi(b)\n",
    "a=-1\n",
    "b=1\n",
    "phi_b= stats.norm.cdf(b,loc=0,scale=1)\n",
    "phi_a= stats.norm.cdf(a,loc=0,scale=1)\n",
    "p=phi_b-phi_a\n",
    "alpha=1-p\n",
    "\n",
    "# Plot distr\n",
    "ax.plot(x, Z, 'r-', lw=3, alpha=0.6)\n",
    "\n",
    "x1= np.linspace(a,b, 100)\n",
    "# Plot area a between b\n",
    "ax.fill_between(x1,stats.norm.pdf(x1,loc=0,scale=1), \n",
    "                color='y',label='P(a<Z<b) ={:2.3}'.format(p))\n",
    "ax.plot([], [], ' ', label=\" a : {:2.1f}\".format(a))\n",
    "ax.plot([], [], ' ', label=\" b : {:2.1f}\".format(b))\n",
    "\n",
    "# Plot left tail\n",
    "x1= np.linspace(-A,a,100)\n",
    "ax.fill_between(x1,stats.norm.pdf(x1,loc=0,scale=1), \n",
    "                color='b',label='alpha/2 = {:2.3f}'.format(alpha/2))\n",
    "x1= np.linspace(b,A,100)\n",
    "# Plot right tail\n",
    "ax.fill_between(x1,stats.norm.pdf(x1,loc=0,scale=1), \n",
    "                color='g',label='alpha/2 = {:2.3f}'.format(alpha/2))\n",
    "\n",
    "ax.legend(loc=\"upper right\")\n",
    "''''''"
   ]
  },
  {
   "cell_type": "markdown",
   "metadata": {},
   "source": [
    "### Case 2 : given 1-alpha\n",
    "We find a and b"
   ]
  },
  {
   "cell_type": "code",
   "execution_count": 721,
   "metadata": {},
   "outputs": [
    {
     "data": {
      "text/plain": [
       "''"
      ]
     },
     "execution_count": 721,
     "metadata": {},
     "output_type": "execute_result"
    },
    {
     "data": {
      "image/png": "[encoded data removed]",
      "text/plain": [
       "<Figure size 432x288 with 1 Axes>"
      ]
     },
     "metadata": {
      "needs_background": "light"
     },
     "output_type": "display_data"
    }
   ],
   "source": [
    "import numpy as np\n",
    "import matplotlib.pyplot as plt\n",
    "from  scipy import stats\n",
    "A=3\n",
    "# Create a 100 points linespace between -A and +A \n",
    "x = np.linspace(-A, A, 100)\n",
    "# loc=mean,  scale= std\n",
    "Z=stats.norm.pdf(x,loc=0,scale=1)\n",
    "\n",
    "fig, ax = plt.subplots(1, 1)\n",
    "\n",
    "# a and b are unknown  \n",
    "# We know 1-alpha or alpha\n",
    "alpha=0.1\n",
    "\n",
    "\n",
    "#Inverse survival function (inverse of sf).\n",
    "a= stats.norm.isf(1-alpha,loc=0,scale=1)\n",
    "b= stats.norm.isf(alpha,loc=0,scale=1)\n",
    "# Plot distr\n",
    "ax.plot(x, Z, 'r-', lw=3, alpha=0.6)\n",
    "\n",
    "\n",
    "\n",
    "# Plot area a between b\n",
    "x1= np.linspace(a,b, 100)\n",
    "ax.fill_between(x1,stats.norm.pdf(x1,loc=0,scale=1), \n",
    "                color='y',label='P(a<Z<b) ={:2.3}'.format(1-alpha))\n",
    "# Plot left tail\n",
    "x1= np.linspace(-A,a,100)\n",
    "ax.fill_between(x1,stats.norm.pdf(x1,loc=0,scale=1), \n",
    "                color='b',label='alpha/2 = {:2.3f}'.format(alpha/2))\n",
    "# Plot right tail\n",
    "x1= np.linspace(b,A,100)\n",
    "ax.fill_between(x1,stats.norm.pdf(x1,loc=0,scale=1), \n",
    "                color='g',label='alpha/2 = {:2.3f}'.format(alpha/2))\n",
    "\n",
    "\n",
    "ax.plot([], [], ' ', label=\" a : {:2.3f}\".format(a))\n",
    "ax.plot([], [], ' ', label=\" b : {:2.3f}\".format(b))\n",
    "\n",
    "ax.legend(loc=\"upper right\")\n",
    "''''''"
   ]
  },
  {
   "cell_type": "markdown",
   "metadata": {},
   "source": [
    "### Normal from Z\n",
    "If we have a normal distribution with mean mu and std sigma, we can calculate, given x=b, the probailty that X<b from the tables of the standard normal distribution Z:\n",
    "\n",
    "\\begin{align}\n",
    "\\\\\\frac{X-\\mu}{\\sigma}=Z=N(0;1) \\\\\n",
    "P(x<b)=P(\\frac{x-\\mu}{\\sigma}<\\frac{b-\\mu}{\\sigma})=P(Z<\\frac{b-\\mu}{\\sigma})=\\Phi(\\frac{b-\\mu}{\\sigma})\n",
    "\\end{align}"
   ]
  },
  {
   "cell_type": "markdown",
   "metadata": {},
   "source": [
    "\\begin{align}\n",
    "\\\\z=\\frac{b-\\mu}{\\sigma}\\\\\n",
    "P(X<b)=P(Z<z)\n",
    "\\end{align}"
   ]
  },
  {
   "cell_type": "code",
   "execution_count": 269,
   "metadata": {},
   "outputs": [
    {
     "name": "stdout",
     "output_type": "stream",
     "text": [
      "z=(b-mean)/sigma\n",
      "Phi(z)=P(Z<=z)=0.958\n",
      "N(b)=P(z<=b)=0.958\n"
     ]
    },
    {
     "data": {
      "image/png": "[encoded data removed]",
      "text/plain": [
       "<Figure size 720x360 with 2 Axes>"
      ]
     },
     "metadata": {
      "needs_background": "light"
     },
     "output_type": "display_data"
    },
    {
     "data": {
      "image/png": "[encoded data removed]",
      "text/plain": [
       "<Figure size 432x288 with 1 Axes>"
      ]
     },
     "metadata": {
      "needs_background": "light"
     },
     "output_type": "display_data"
    }
   ],
   "source": [
    "import numpy as np\n",
    "import matplotlib.pyplot as plt\n",
    "from  scipy import stats\n",
    "import math\n",
    "\n",
    "fig, (ax1,ax2) = plt.subplots(1,2,sharey=True,figsize=(10,5))\n",
    "mean=2\n",
    "var=3\n",
    "sigma=math.sqrt(var)\n",
    "A=10\n",
    "x=np.linspace(-A,A,50)\n",
    "xz=np.linspace(-A,A,50)\n",
    "\n",
    "npdf=stats.norm.pdf(x,loc=mean,scale=sigma)\n",
    "zpdf=stats.norm.pdf(xz,loc=0,scale=1)\n",
    "F_x=stats.norm.cdf(b,loc=mean,scale=sigma)\n",
    "\n",
    "# Plot probailty density functions\n",
    "ax1.plot(x,npdf,c='black')\n",
    "ax2.plot(xz,zpdf,c='black')\n",
    "# plot legend : b=...\n",
    "ax1.plot([], [], ' ', label=\" b : {:2.1f}\".format(b))\n",
    "nx=stats.norm.isf(alpha,loc=mean,scale=sigma)\n",
    "# Plot Normal cdf area for x=b\n",
    "b=5\n",
    "x1= np.linspace(x[0],b, 100)\n",
    "ax1.fill_between(x1,stats.norm.pdf(x1,loc=mean,scale=sigma),\n",
    "                color='magenta',label='N(b)=P(z<=b)={:2.3f}'.format(F_x))\n",
    "\n",
    "# Plot Zeta cdf area for z=(b-mean)\\sigma\n",
    "z=(b-mean)/sigma\n",
    "PHI_z=stats.norm.cdf(z,loc=0,scale=1)\n",
    "\n",
    "x2= np.linspace(xz[0],z, 100)\n",
    "ax2.fill_between(x2,stats.norm.pdf(x2,loc=0,scale=1),\n",
    "                color='blue',label='Phi(z)=P(Z<=z)={:2.3f}'.format(PHI_z))\n",
    "# plot legend : z=...\n",
    "ax2.plot([], [], ' ', label=\" z : {:2.1f}\".format(z))\n",
    "\n",
    "ax1.legend(loc=\"upper right\")\n",
    "ax2.legend(loc=\"upper right\")\n",
    "\n",
    "'''============================================================='''\n",
    "\n",
    "# N Cumulative density function\n",
    "ncdf= stats.norm.cdf(x,loc=mean,scale=sigma)\n",
    "# Z Cumulative density function\n",
    "zcdf= stats.norm.cdf(x,loc=0,scale=1)\n",
    "\n",
    "\n",
    "fig,ax = plt.subplots(1, 1)\n",
    "# Plot Normal CDF\n",
    "ax.plot(x, ncdf, 'b-', lw=3,c='b', alpha=0.6,label='Normal cdf')\n",
    "# PlotZeta CDF\n",
    "ax.plot(x, zcdf, 'r-', lw=3, c='r',alpha=0.6,label='Z cdf')\n",
    "\n",
    "\n",
    "#Normal lines\n",
    "ax.plot([b,b],  [0,F_x]  ,'--',c='b')# vertical\n",
    "ax.plot([-A,b], [F_x,F_x],'--',c='b',label='Phi(b)={:2.3f}'\n",
    "         .format(F_x)) #horizzontal\n",
    "# Zeta lines\n",
    "ax.plot([z,z], [0,   PHI_z] ,ls='-.',c='r')# vertical\n",
    "ax.plot([-A,z],[PHI_z,PHI_z],ls='-.',c='r',label='Phi(b)={:2.3f}'\n",
    "         .format(PHI_z)) #horizzontal\n",
    "ax.plot([], [], ' ', label=\" b : {:2.1f}\".format(b))\n",
    "ax.plot([], [], ' ', label=\" z : {:2.1f}\".format(z))\n",
    "\n",
    "ax.legend(loc=\"upper left\")\n",
    "x=0\n",
    "print(\"z=(b-mean)/sigma\")\n",
    "print('Phi(z)=P(Z<=z)={:2.3f}'.format(stats.norm.cdf(z,loc=0,scale=1)))\n",
    "F_x=stats.norm.cdf(b,loc=mean,scale=sigma)\n",
    "print('N(b)=P(z<=b)={:2.3f}'.format(F_x))"
   ]
  },
  {
   "cell_type": "markdown",
   "metadata": {},
   "source": [
    "# Confidence interval\n",
    "In statistcs we deal with a populatin of data and a sample of data extracted from the population.\n",
    "\n",
    "From the sample we want to inference properies of the population.\n",
    "\n",
    "Now we consider tha case where we know the standard deviation of the population , and we inference the mean from the sample.\n",
    "\n",
    "In this case we can expect that the sample mean will be \"close\" the the popuulation mean. \n",
    "\n",
    "With the confidence interval we create an interval around our sample mean that tells us  what probability we have that our interval contains the population mean.\n",
    "\n",
    "***The z- distribution is involved in the construction of this interval .***\n",
    "\n",
    "(In the case that also the standard deviation of the population is unknown the t-Student distribution will be involved. See the relative post)"
   ]
  },
  {
   "cell_type": "markdown",
   "metadata": {},
   "source": [
    "\\begin{align}\n",
    "\\\\\n",
    "Population:\\: \\: mean=\\mu \\: \\: Variance=\\sigma ^2\\\\\n",
    "Sample:\\: mean=\\bar{X} \\: \\: Variance \\:of\\:\\bar{X}=\\sigma ^2/n\\\\\n",
    "P(\\bar{X}-z_{1-\\alpha/2}\\sqrt{\\frac{\\sigma^2}{n}}<\\mu<\\bar{X}+z_{1-\\alpha/2}\\sqrt{\\frac{\\sigma^2}{n}})=1-\\alpha\\\\\n",
    "confidence\\:  interval=[\\bar{X}-z_{1-\\alpha/2}\\sqrt{\\frac{\\sigma^2}{n}};\\bar{X}+z_{1-\\alpha/2}\\sqrt{\\frac{\\sigma^2}{n}}]\n",
    "\\end{align}"
   ]
  },
  {
   "cell_type": "code",
   "execution_count": 5,
   "metadata": {},
   "outputs": [
    {
     "data": {
      "text/plain": [
       "''"
      ]
     },
     "execution_count": 5,
     "metadata": {},
     "output_type": "execute_result"
    },
    {
     "data": {
      "image/png": "[encoded data removed]",
      "text/plain": [
       "<Figure size 432x288 with 2 Axes>"
      ]
     },
     "metadata": {
      "needs_background": "light"
     },
     "output_type": "display_data"
    }
   ],
   "source": [
    "import numpy as np\n",
    "import matplotlib.pyplot as plt\n",
    "from  scipy import stats\n",
    "import math\n",
    "A=5\n",
    "\n",
    "mean=10\n",
    "var=4\n",
    "sigma=math.sqrt(var)\n",
    "\n",
    "# Create a 100 points linespace between -A and +A \n",
    "x = np.linspace(mean-4,mean+4, 50)\n",
    "\n",
    "# loc=mean,  scale= std\n",
    "N=stats.norm.pdf(x,loc=mean,scale=sigma)\n",
    "\n",
    "n=100\n",
    "sample=np.random.normal(mean,sigma,n)\n",
    "sample=np.array(sample)\n",
    "# Sample mean\n",
    "s_mean=sample.mean()\n",
    "# We want create an interval tha contain the true mean at 70% \n",
    "alpha=0.7\n",
    "z_a_2=stats.norm.isf((1-alpha)/2) # z from alpha\n",
    "\n",
    "ci_mean=z_a_2*math.sqrt(var/n) # Confidence interval \n",
    "#Sampl mean centered normal distr\n",
    "S=stats.norm.pdf(x,loc=s_mean,scale=sigma) \n",
    "\n",
    "\n",
    "fig,( ax,ax2) = plt.subplots(2, 1, \n",
    "                             gridspec_kw={'height_ratios': [3, 1]} )\n",
    "\n",
    "# Plot probability density function\n",
    "ax.plot(x, N, 'r-', lw=1.5, alpha=0.6) # Mean centerd\n",
    "ax.plot(x, S, 'b.-', lw=1, alpha=0.6)  #Sample mean centerd\n",
    "\n",
    "# Plot confidence interval areas\n",
    "x1= np.linspace(s_mean-ci_mean,s_mean+ci_mean, 100)\n",
    "# Plot area  between a and b\n",
    "ax.fill_between(x1,0.01, \n",
    "                color='blue',label='P(a<mean<b) ={:2.3}'.format(alpha))\n",
    "ax.plot([], [], ' ', label=\" a : {:2.3f}\".format(s_mean-ci_mean))\n",
    "ax.plot([], [], ' ', label=\" b : {:2.3f}\".format(s_mean+ci_mean))\n",
    "\n",
    "\n",
    "\n",
    "# mean y point\n",
    "p=stats.norm.pdf(mean,loc=mean,scale=sigma)\n",
    "ax.plot([mean,mean],[0,p],'--',c='r')# plot vertical  line mean\n",
    "#sample mean y point\n",
    "p=stats.norm.pdf(s_mean,loc=s_mean,scale=sigma)\n",
    "ax.plot([s_mean,s_mean],[0,p],'--',c='b',label='sample mean={:2.3f}'.format(s_mean))\n",
    "ax.legend(loc=\"upper right\")\n",
    "\n",
    "\n",
    "# Confidence interval x space\n",
    "x1= np.linspace(s_mean-ci_mean,s_mean+ci_mean, 100)\n",
    "\n",
    "# Plot area a between b\n",
    "ax2.fill_between(x1,0.05, \n",
    "                color='blue',label='P(a<mean<b) ={:2.3}'.format(alpha))\n",
    "\n",
    "\n",
    "# mean\n",
    "ax2.plot([mean,mean],[0,0.1],'--',c='r')# vertical\n",
    "#sample mean\n",
    "ax2.plot([s_mean,s_mean],[0,0.1],'--',c='b',label='sample={:2.3f}')\n",
    "ax2.get_yaxis().set_visible(False)\n",
    "''''''"
   ]
  },
  {
   "cell_type": "markdown",
   "metadata": {},
   "source": [
    "#### We try different quantiles (different probabilities tha our interval contains the population mean)"
   ]
  },
  {
   "cell_type": "code",
   "execution_count": 6,
   "metadata": {},
   "outputs": [
    {
     "data": {
      "text/plain": [
       "''"
      ]
     },
     "execution_count": 6,
     "metadata": {},
     "output_type": "execute_result"
    },
    {
     "data": {
      "image/png": "[encoded data removed]",
      "text/plain": [
       "<Figure size 432x288 with 3 Axes>"
      ]
     },
     "metadata": {
      "needs_background": "light"
     },
     "output_type": "display_data"
    }
   ],
   "source": [
    "import numpy as np\n",
    "import matplotlib.pyplot as plt\n",
    "from  scipy import stats\n",
    "\n",
    "#POPULATION\n",
    "mean=10\n",
    "var=4\n",
    "sigma=math.sqrt(var)\n",
    "\n",
    "# Create a 100 points linespace between -A and +A \n",
    "x = np.linspace(mean-4,mean+4, 50)\n",
    "N=stats.norm.pdf(x,loc=mean,scale=sigma)\n",
    "\n",
    "# SAMPLE\n",
    "n=100\n",
    "sample=np.random.normal(mean,sigma,n)\n",
    "sample=np.array(sample)\n",
    "s_mean=sample.mean()\n",
    "\n",
    "\n",
    "\n",
    "fig,( ax1,ax2,ax3) = plt.subplots(3, 1,sharex=True)\n",
    "#############################################################\n",
    "# We want create an interval tha contain the true mean at 70% \n",
    "alpha=0.7\n",
    "z_a_2=stats.norm.isf((1-alpha)/2)\n",
    "ci_mean=z_a_2*math.sqrt(var/n)\n",
    "x = np.linspace(-ci_mean-1,ci_mean+1, 50)\n",
    "x1= np.linspace(s_mean-ci_mean,s_mean+ci_mean, 100)\n",
    "\n",
    "# Plot area a between b\n",
    "ax1.fill_between(x1,0.05, \n",
    "                color='blue',label='alpha ={:2.3}'.format(alpha))\n",
    "# mean\n",
    "ax1.plot([mean,mean],[0,0.1],'--',c='r')# vertical\n",
    "#sample mean\n",
    "ax1.plot([s_mean,s_mean],[0,0.1],'--',c='b')\n",
    "ax1.get_yaxis().set_visible(False)\n",
    "ax1.legend(loc=\"upper right\")\n",
    "\n",
    "#############################################################\n",
    "# We want create an interval tha contain the true mean at 85% \n",
    "alpha=0.85\n",
    "z_a_2=stats.norm.isf((1-alpha)/2)\n",
    "ci_mean=z_a_2*math.sqrt(var/n)\n",
    "x = np.linspace(-ci_mean-1,ci_mean+1, 50)\n",
    "x1= np.linspace(s_mean-ci_mean,s_mean+ci_mean, 100)\n",
    "\n",
    "# Plot area a between b\n",
    "ax2.fill_between(x1,0.05, \n",
    "                color='blue',label='alpha ={:2.3}'.format(alpha))\n",
    "# mean\n",
    "ax2.plot([mean,mean],[0,0.1],'--',c='r')# vertical\n",
    "#sample mean\n",
    "ax2.plot([s_mean,s_mean],[0,0.1],'--',c='b' )\n",
    "ax2.get_yaxis().set_visible(False)\n",
    "ax2.legend(loc=\"upper right\")\n",
    "\n",
    "#############################################################\n",
    "# We want create an interval tha contain the true mean at 95% \n",
    "alpha=0.95\n",
    "z_a_2=stats.norm.isf((1-alpha)/2)\n",
    "ci_mean=z_a_2*math.sqrt(var/n)\n",
    "x = np.linspace(-ci_mean-1,ci_mean+1, 50)\n",
    "x1= np.linspace(s_mean-ci_mean,s_mean+ci_mean, 100)\n",
    "\n",
    "# Plot area a between b\n",
    "ax3.fill_between(x1,0.05, \n",
    "                color='blue',label='alpha ={:2.3}'.format(alpha))\n",
    "# mean\n",
    "ax3.plot([mean,mean],[0,0.1],'--',c='r')# vertical\n",
    "#sample mean\n",
    "ax3.plot([s_mean,s_mean],[0,0.1],'--',c='b')\n",
    "ax3.get_yaxis().set_visible(False)\n",
    "ax3.legend(loc=\"upper right\")\n",
    "\n",
    "\n",
    "''''''"
   ]
  },
  {
   "cell_type": "markdown",
   "metadata": {},
   "source": [
    "# Create a table of Z"
   ]
  },
  {
   "cell_type": "markdown",
   "metadata": {},
   "source": [
    "### From z=0"
   ]
  },
  {
   "cell_type": "code",
   "execution_count": 597,
   "metadata": {},
   "outputs": [
    {
     "name": "stdout",
     "output_type": "stream",
     "text": [
      "|0.000|0.000|0.010|0.020|0.030|0.040|0.050|0.060|0.070|0.080|0.090\n",
      "|-----|-----|-----|-----|-----|-----|-----|-----|-----|-----|-----\n",
      "|0.000|0.500|0.504|0.508|0.512|0.516|0.520|0.524|0.528|0.532|0.536\n",
      "|0.100|0.540|0.544|0.548|0.552|0.556|0.560|0.564|0.567|0.571|0.575\n",
      "|0.200|0.579|0.583|0.587|0.591|0.595|0.599|0.603|0.606|0.610|0.614\n",
      "|0.300|0.618|0.622|0.626|0.629|0.633|0.637|0.641|0.644|0.648|0.652\n",
      "|0.400|0.655|0.659|0.663|0.666|0.670|0.674|0.677|0.681|0.684|0.688\n",
      "|0.500|0.691|0.695|0.698|0.702|0.705|0.709|0.712|0.716|0.719|0.722\n",
      "|0.600|0.726|0.729|0.732|0.736|0.739|0.742|0.745|0.749|0.752|0.755\n",
      "|0.700|0.758|0.761|0.764|0.767|0.770|0.773|0.776|0.779|0.782|0.785\n",
      "|0.800|0.788|0.791|0.794|0.797|0.800|0.802|0.805|0.808|0.811|0.813\n",
      "|0.900|0.816|0.819|0.821|0.824|0.826|0.829|0.831|0.834|0.836|0.839\n"
     ]
    }
   ],
   "source": [
    "import numpy as np\n",
    "from  scipy import stats\n",
    "\n",
    "arr=np.linspace(0,1,100,endpoint=False)\n",
    "col0=np.reshape(arr, (10, 10))[:,0]\n",
    "col0.shape = (10,1)\n",
    "row0=np.reshape(arr, (10, 10))[0,:]\n",
    "arr=stats.norm.cdf(arr,loc=0,scale=1)\n",
    "arr=np.reshape(arr, (10, 10))\n",
    "arr=np.round(arr,3)\n",
    "arr=np.hstack((col0, arr))\n",
    "arr\n",
    "\n",
    "row0=np.insert(row0, 0,0.0)\n",
    "\n",
    "print(''.join(['|{:2.3f}'.format(item) for item in row0]) )\n",
    "print(''.join(['|{:5s}'.format('-----') for item in row0]) )\n",
    "print('\\n'.join([''.join(['|{:2.3f}'.format(item) for item in row]) \n",
    "      for row in arr]))\n",
    "\n"
   ]
  },
  {
   "cell_type": "markdown",
   "metadata": {},
   "source": [
    "### More sofisticated and exportable"
   ]
  },
  {
   "cell_type": "markdown",
   "metadata": {},
   "source": [
    "### Right side"
   ]
  },
  {
   "cell_type": "code",
   "execution_count": 633,
   "metadata": {},
   "outputs": [
    {
     "data": {
      "text/html": [
       "<div>\n",
       "<style scoped>\n",
       "    .dataframe tbody tr th:only-of-type {\n",
       "        vertical-align: middle;\n",
       "    }\n",
       "\n",
       "    .dataframe tbody tr th {\n",
       "        vertical-align: top;\n",
       "    }\n",
       "\n",
       "    .dataframe thead th {\n",
       "        text-align: right;\n",
       "    }\n",
       "</style>\n",
       "<table border=\"1\" class=\"dataframe\">\n",
       "  <thead>\n",
       "    <tr style=\"text-align: right;\">\n",
       "      <th></th>\n",
       "      <th>0.00</th>\n",
       "      <th>0.01</th>\n",
       "      <th>0.02</th>\n",
       "      <th>0.03</th>\n",
       "      <th>0.04</th>\n",
       "      <th>0.05</th>\n",
       "      <th>0.06</th>\n",
       "      <th>0.07</th>\n",
       "      <th>0.08</th>\n",
       "      <th>0.09</th>\n",
       "    </tr>\n",
       "  </thead>\n",
       "  <tbody>\n",
       "    <tr>\n",
       "      <th>0.0</th>\n",
       "      <td>0.500</td>\n",
       "      <td>0.504</td>\n",
       "      <td>0.508</td>\n",
       "      <td>0.512</td>\n",
       "      <td>0.516</td>\n",
       "      <td>0.520</td>\n",
       "      <td>0.524</td>\n",
       "      <td>0.528</td>\n",
       "      <td>0.532</td>\n",
       "      <td>0.536</td>\n",
       "    </tr>\n",
       "    <tr>\n",
       "      <th>0.1</th>\n",
       "      <td>0.540</td>\n",
       "      <td>0.544</td>\n",
       "      <td>0.548</td>\n",
       "      <td>0.552</td>\n",
       "      <td>0.556</td>\n",
       "      <td>0.560</td>\n",
       "      <td>0.564</td>\n",
       "      <td>0.567</td>\n",
       "      <td>0.571</td>\n",
       "      <td>0.575</td>\n",
       "    </tr>\n",
       "    <tr>\n",
       "      <th>0.2</th>\n",
       "      <td>0.579</td>\n",
       "      <td>0.583</td>\n",
       "      <td>0.587</td>\n",
       "      <td>0.591</td>\n",
       "      <td>0.595</td>\n",
       "      <td>0.599</td>\n",
       "      <td>0.603</td>\n",
       "      <td>0.606</td>\n",
       "      <td>0.610</td>\n",
       "      <td>0.614</td>\n",
       "    </tr>\n",
       "    <tr>\n",
       "      <th>0.3</th>\n",
       "      <td>0.618</td>\n",
       "      <td>0.622</td>\n",
       "      <td>0.626</td>\n",
       "      <td>0.629</td>\n",
       "      <td>0.633</td>\n",
       "      <td>0.637</td>\n",
       "      <td>0.641</td>\n",
       "      <td>0.644</td>\n",
       "      <td>0.648</td>\n",
       "      <td>0.652</td>\n",
       "    </tr>\n",
       "    <tr>\n",
       "      <th>0.4</th>\n",
       "      <td>0.655</td>\n",
       "      <td>0.659</td>\n",
       "      <td>0.663</td>\n",
       "      <td>0.666</td>\n",
       "      <td>0.670</td>\n",
       "      <td>0.674</td>\n",
       "      <td>0.677</td>\n",
       "      <td>0.681</td>\n",
       "      <td>0.684</td>\n",
       "      <td>0.688</td>\n",
       "    </tr>\n",
       "    <tr>\n",
       "      <th>0.5</th>\n",
       "      <td>0.691</td>\n",
       "      <td>0.695</td>\n",
       "      <td>0.698</td>\n",
       "      <td>0.702</td>\n",
       "      <td>0.705</td>\n",
       "      <td>0.709</td>\n",
       "      <td>0.712</td>\n",
       "      <td>0.716</td>\n",
       "      <td>0.719</td>\n",
       "      <td>0.722</td>\n",
       "    </tr>\n",
       "    <tr>\n",
       "      <th>0.6</th>\n",
       "      <td>0.726</td>\n",
       "      <td>0.729</td>\n",
       "      <td>0.732</td>\n",
       "      <td>0.736</td>\n",
       "      <td>0.739</td>\n",
       "      <td>0.742</td>\n",
       "      <td>0.745</td>\n",
       "      <td>0.749</td>\n",
       "      <td>0.752</td>\n",
       "      <td>0.755</td>\n",
       "    </tr>\n",
       "    <tr>\n",
       "      <th>0.7</th>\n",
       "      <td>0.758</td>\n",
       "      <td>0.761</td>\n",
       "      <td>0.764</td>\n",
       "      <td>0.767</td>\n",
       "      <td>0.770</td>\n",
       "      <td>0.773</td>\n",
       "      <td>0.776</td>\n",
       "      <td>0.779</td>\n",
       "      <td>0.782</td>\n",
       "      <td>0.785</td>\n",
       "    </tr>\n",
       "    <tr>\n",
       "      <th>0.8</th>\n",
       "      <td>0.788</td>\n",
       "      <td>0.791</td>\n",
       "      <td>0.794</td>\n",
       "      <td>0.797</td>\n",
       "      <td>0.800</td>\n",
       "      <td>0.802</td>\n",
       "      <td>0.805</td>\n",
       "      <td>0.808</td>\n",
       "      <td>0.811</td>\n",
       "      <td>0.813</td>\n",
       "    </tr>\n",
       "    <tr>\n",
       "      <th>0.9</th>\n",
       "      <td>0.816</td>\n",
       "      <td>0.819</td>\n",
       "      <td>0.821</td>\n",
       "      <td>0.824</td>\n",
       "      <td>0.826</td>\n",
       "      <td>0.829</td>\n",
       "      <td>0.831</td>\n",
       "      <td>0.834</td>\n",
       "      <td>0.836</td>\n",
       "      <td>0.839</td>\n",
       "    </tr>\n",
       "  </tbody>\n",
       "</table>\n",
       "</div>"
      ],
      "text/plain": [
       "      0.00   0.01   0.02   0.03   0.04   0.05   0.06   0.07   0.08   0.09\n",
       "0.0  0.500  0.504  0.508  0.512  0.516  0.520  0.524  0.528  0.532  0.536\n",
       "0.1  0.540  0.544  0.548  0.552  0.556  0.560  0.564  0.567  0.571  0.575\n",
       "0.2  0.579  0.583  0.587  0.591  0.595  0.599  0.603  0.606  0.610  0.614\n",
       "0.3  0.618  0.622  0.626  0.629  0.633  0.637  0.641  0.644  0.648  0.652\n",
       "0.4  0.655  0.659  0.663  0.666  0.670  0.674  0.677  0.681  0.684  0.688\n",
       "0.5  0.691  0.695  0.698  0.702  0.705  0.709  0.712  0.716  0.719  0.722\n",
       "0.6  0.726  0.729  0.732  0.736  0.739  0.742  0.745  0.749  0.752  0.755\n",
       "0.7  0.758  0.761  0.764  0.767  0.770  0.773  0.776  0.779  0.782  0.785\n",
       "0.8  0.788  0.791  0.794  0.797  0.800  0.802  0.805  0.808  0.811  0.813\n",
       "0.9  0.816  0.819  0.821  0.824  0.826  0.829  0.831  0.834  0.836  0.839"
      ]
     },
     "execution_count": 633,
     "metadata": {},
     "output_type": "execute_result"
    }
   ],
   "source": [
    "import numpy as np\n",
    "import pandas as pd\n",
    "\n",
    "arr=np.linspace(0,1,100,endpoint=False)\n",
    "col0=np.reshape(arr, (10, 10))[:,0]\n",
    "row0=np.reshape(arr, (10, 10))[0,:]\n",
    "arr=stats.norm.cdf(arr,loc=0,scale=1)\n",
    "arr=np.reshape(arr, (10, 10))\n",
    "arr=np.round(arr,3)\n",
    "table=pd.DataFrame(arr,index=col0,columns=row0 )\n",
    "\n",
    "table"
   ]
  },
  {
   "cell_type": "markdown",
   "metadata": {},
   "source": [
    "### Left side"
   ]
  },
  {
   "cell_type": "code",
   "execution_count": 635,
   "metadata": {},
   "outputs": [
    {
     "data": {
      "text/html": [
       "<div>\n",
       "<style scoped>\n",
       "    .dataframe tbody tr th:only-of-type {\n",
       "        vertical-align: middle;\n",
       "    }\n",
       "\n",
       "    .dataframe tbody tr th {\n",
       "        vertical-align: top;\n",
       "    }\n",
       "\n",
       "    .dataframe thead th {\n",
       "        text-align: right;\n",
       "    }\n",
       "</style>\n",
       "<table border=\"1\" class=\"dataframe\">\n",
       "  <thead>\n",
       "    <tr style=\"text-align: right;\">\n",
       "      <th></th>\n",
       "      <th>-0.00</th>\n",
       "      <th>0.01</th>\n",
       "      <th>0.02</th>\n",
       "      <th>0.03</th>\n",
       "      <th>0.04</th>\n",
       "      <th>0.05</th>\n",
       "      <th>0.06</th>\n",
       "      <th>0.07</th>\n",
       "      <th>0.08</th>\n",
       "      <th>0.09</th>\n",
       "    </tr>\n",
       "  </thead>\n",
       "  <tbody>\n",
       "    <tr>\n",
       "      <th>-0.9</th>\n",
       "      <td>0.184</td>\n",
       "      <td>0.181</td>\n",
       "      <td>0.179</td>\n",
       "      <td>0.176</td>\n",
       "      <td>0.174</td>\n",
       "      <td>0.171</td>\n",
       "      <td>0.169</td>\n",
       "      <td>0.166</td>\n",
       "      <td>0.164</td>\n",
       "      <td>0.161</td>\n",
       "    </tr>\n",
       "    <tr>\n",
       "      <th>-0.8</th>\n",
       "      <td>0.212</td>\n",
       "      <td>0.209</td>\n",
       "      <td>0.206</td>\n",
       "      <td>0.203</td>\n",
       "      <td>0.200</td>\n",
       "      <td>0.198</td>\n",
       "      <td>0.195</td>\n",
       "      <td>0.192</td>\n",
       "      <td>0.189</td>\n",
       "      <td>0.187</td>\n",
       "    </tr>\n",
       "    <tr>\n",
       "      <th>-0.7</th>\n",
       "      <td>0.242</td>\n",
       "      <td>0.239</td>\n",
       "      <td>0.236</td>\n",
       "      <td>0.233</td>\n",
       "      <td>0.230</td>\n",
       "      <td>0.227</td>\n",
       "      <td>0.224</td>\n",
       "      <td>0.221</td>\n",
       "      <td>0.218</td>\n",
       "      <td>0.215</td>\n",
       "    </tr>\n",
       "    <tr>\n",
       "      <th>-0.6</th>\n",
       "      <td>0.274</td>\n",
       "      <td>0.271</td>\n",
       "      <td>0.268</td>\n",
       "      <td>0.264</td>\n",
       "      <td>0.261</td>\n",
       "      <td>0.258</td>\n",
       "      <td>0.255</td>\n",
       "      <td>0.251</td>\n",
       "      <td>0.248</td>\n",
       "      <td>0.245</td>\n",
       "    </tr>\n",
       "    <tr>\n",
       "      <th>-0.5</th>\n",
       "      <td>0.309</td>\n",
       "      <td>0.305</td>\n",
       "      <td>0.302</td>\n",
       "      <td>0.298</td>\n",
       "      <td>0.295</td>\n",
       "      <td>0.291</td>\n",
       "      <td>0.288</td>\n",
       "      <td>0.284</td>\n",
       "      <td>0.281</td>\n",
       "      <td>0.278</td>\n",
       "    </tr>\n",
       "    <tr>\n",
       "      <th>-0.4</th>\n",
       "      <td>0.345</td>\n",
       "      <td>0.341</td>\n",
       "      <td>0.337</td>\n",
       "      <td>0.334</td>\n",
       "      <td>0.330</td>\n",
       "      <td>0.326</td>\n",
       "      <td>0.323</td>\n",
       "      <td>0.319</td>\n",
       "      <td>0.316</td>\n",
       "      <td>0.312</td>\n",
       "    </tr>\n",
       "    <tr>\n",
       "      <th>-0.3</th>\n",
       "      <td>0.382</td>\n",
       "      <td>0.378</td>\n",
       "      <td>0.374</td>\n",
       "      <td>0.371</td>\n",
       "      <td>0.367</td>\n",
       "      <td>0.363</td>\n",
       "      <td>0.359</td>\n",
       "      <td>0.356</td>\n",
       "      <td>0.352</td>\n",
       "      <td>0.348</td>\n",
       "    </tr>\n",
       "    <tr>\n",
       "      <th>-0.2</th>\n",
       "      <td>0.421</td>\n",
       "      <td>0.417</td>\n",
       "      <td>0.413</td>\n",
       "      <td>0.409</td>\n",
       "      <td>0.405</td>\n",
       "      <td>0.401</td>\n",
       "      <td>0.397</td>\n",
       "      <td>0.394</td>\n",
       "      <td>0.390</td>\n",
       "      <td>0.386</td>\n",
       "    </tr>\n",
       "    <tr>\n",
       "      <th>-0.1</th>\n",
       "      <td>0.460</td>\n",
       "      <td>0.456</td>\n",
       "      <td>0.452</td>\n",
       "      <td>0.448</td>\n",
       "      <td>0.444</td>\n",
       "      <td>0.440</td>\n",
       "      <td>0.436</td>\n",
       "      <td>0.433</td>\n",
       "      <td>0.429</td>\n",
       "      <td>0.425</td>\n",
       "    </tr>\n",
       "    <tr>\n",
       "      <th>0.0</th>\n",
       "      <td>0.500</td>\n",
       "      <td>0.496</td>\n",
       "      <td>0.492</td>\n",
       "      <td>0.488</td>\n",
       "      <td>0.484</td>\n",
       "      <td>0.480</td>\n",
       "      <td>0.476</td>\n",
       "      <td>0.472</td>\n",
       "      <td>0.468</td>\n",
       "      <td>0.464</td>\n",
       "    </tr>\n",
       "  </tbody>\n",
       "</table>\n",
       "</div>"
      ],
      "text/plain": [
       "      -0.00   0.01   0.02   0.03   0.04   0.05   0.06   0.07   0.08   0.09\n",
       "-0.9  0.184  0.181  0.179  0.176  0.174  0.171  0.169  0.166  0.164  0.161\n",
       "-0.8  0.212  0.209  0.206  0.203  0.200  0.198  0.195  0.192  0.189  0.187\n",
       "-0.7  0.242  0.239  0.236  0.233  0.230  0.227  0.224  0.221  0.218  0.215\n",
       "-0.6  0.274  0.271  0.268  0.264  0.261  0.258  0.255  0.251  0.248  0.245\n",
       "-0.5  0.309  0.305  0.302  0.298  0.295  0.291  0.288  0.284  0.281  0.278\n",
       "-0.4  0.345  0.341  0.337  0.334  0.330  0.326  0.323  0.319  0.316  0.312\n",
       "-0.3  0.382  0.378  0.374  0.371  0.367  0.363  0.359  0.356  0.352  0.348\n",
       "-0.2  0.421  0.417  0.413  0.409  0.405  0.401  0.397  0.394  0.390  0.386\n",
       "-0.1  0.460  0.456  0.452  0.448  0.444  0.440  0.436  0.433  0.429  0.425\n",
       " 0.0  0.500  0.496  0.492  0.488  0.484  0.480  0.476  0.472  0.468  0.464"
      ]
     },
     "execution_count": 635,
     "metadata": {},
     "output_type": "execute_result"
    }
   ],
   "source": [
    "import numpy as np\n",
    "import pandas as pd\n",
    "\n",
    "arr=np.linspace(0,-1,100,endpoint=False)\n",
    "arr=np.reshape(arr, (10, 10))\n",
    "\n",
    "arr=arr[::-1,:]\n",
    "row=arr[-1,:]*-1\n",
    "col=np.reshape(arr, (10, 10))[:,0]\n",
    "arr=stats.norm.cdf(arr,loc=0,scale=1)\n",
    "arr=np.round(arr,3)\n",
    "table=pd.DataFrame(arr,index=col,columns=row )\n",
    "table"
   ]
  },
  {
   "cell_type": "markdown",
   "metadata": {},
   "source": [
    "Antonello Iovino"
   ]
  }
 ],
 "metadata": {
  "kernelspec": {
   "display_name": "Finantial",
   "language": "python",
   "name": "finantial"
  },
  "language_info": {
   "codemirror_mode": {
    "name": "ipython",
    "version": 3
   },
   "file_extension": ".py",
   "mimetype": "text/x-python",
   "name": "python",
   "nbconvert_exporter": "python",
   "pygments_lexer": "ipython3",
   "version": "3.7.7"
  }
 },
 "nbformat": 4,
 "nbformat_minor": 4
}
